{
 "cells": [
  {
   "cell_type": "code",
   "execution_count": 195,
   "metadata": {},
   "outputs": [],
   "source": [
    "#System\n",
    "import os\n",
    "import sys\n",
    "import time\n",
    "\n",
    "#Data Processsing\n",
    "import pandas as pd\n",
    "import numpy as np\n",
    "\n",
    "#Plotting\n",
    "import matplotlib.pyplot as plt\n",
    "import seaborn as sns\n",
    "import scikitplot as skplt\n",
    "\n",
    "#Machine Learning\n",
    "from sklearn.metrics import classification_report , roc_auc_score , accuracy_score , confusion_matrix , precision_score , f1_score\n",
    "\n",
    "#Graph\n",
    "import networkx as nx\n",
    "\n",
    "#Deep Learning\n",
    "import torch\n",
    "from torch.nn import Linear\n",
    "import torch.nn.functional as F\n",
    "\n",
    "#Geometric deep Learning\n",
    "from torch_geometric.nn import GCNConv , GENConv , global_max_pool #GATConv\n",
    "from torch_geometric.data import Data , DataLoader\n",
    "from torch_geometric.utils.convert import to_networkx , from_networkx\n",
    "from torch_geometric.transforms import NormalizeFeatures\n",
    "\n",
    "#Datsets and helpers\n",
    "from ogb.graphproppred import PygGraphPropPredDataset\n",
    "from ogb.graphproppred.mol_encoder import AtomEncoder, BondEncoder"
   ]
  },
  {
   "cell_type": "code",
   "execution_count": 2,
   "metadata": {},
   "outputs": [],
   "source": [
    "dataset = PygGraphPropPredDataset(name = 'ogbg-molhiv')"
   ]
  },
  {
   "cell_type": "code",
   "execution_count": 3,
   "metadata": {},
   "outputs": [
    {
     "name": "stdout",
     "output_type": "stream",
     "text": [
      "\n",
      "Dataset: PygGraphPropPredDataset(41127):\n",
      "====================\n",
      "Number of graphs: 41127\n",
      "Number of features: 9\n",
      "Number of classes: 2\n",
      "\n",
      "Data(edge_attr=[40, 3], edge_index=[2, 40], x=[19, 9], y=[1, 1])\n",
      "=============================================================\n",
      "Number of nodes: 19\n",
      "Number of edges: 40\n",
      "Average node degree: 2.11\n",
      "Contains isolated nodes: False\n",
      "Contains self-loops: False\n",
      "Is undirected: True\n"
     ]
    }
   ],
   "source": [
    "print()\n",
    "print(f'Dataset: {dataset}:')\n",
    "print('====================')\n",
    "print(f'Number of graphs: {len(dataset)}')\n",
    "print(f'Number of features: {dataset.num_features}')\n",
    "print(f'Number of classes: {dataset.num_classes}')\n",
    "\n",
    "data = dataset[0]  # Get the first graph object.\n",
    "\n",
    "print()\n",
    "print(data)\n",
    "print('=============================================================')\n",
    "\n",
    "# Gather some statistics about the first graph.\n",
    "print(f'Number of nodes: {data.num_nodes}')\n",
    "print(f'Number of edges: {data.num_edges}')\n",
    "print(f'Average node degree: {data.num_edges / data.num_nodes:.2f}')\n",
    "print(f'Contains isolated nodes: {data.contains_isolated_nodes()}')\n",
    "print(f'Contains self-loops: {data.contains_self_loops()}')\n",
    "print(f'Is undirected: {data.is_undirected()}')"
   ]
  },
  {
   "cell_type": "code",
   "execution_count": 221,
   "metadata": {},
   "outputs": [],
   "source": [
    "split_idx = dataset.get_idx_split() \n",
    "train_loader = DataLoader(dataset[split_idx['train']], batch_size=128, shuffle=True)\n",
    "valid_loader = DataLoader(dataset[split_idx['valid']], batch_size=128, shuffle=False)\n",
    "test_loader = DataLoader(dataset[split_idx['test']], batch_size=128, shuffle=False)"
   ]
  },
  {
   "cell_type": "code",
   "execution_count": 222,
   "metadata": {},
   "outputs": [
    {
     "name": "stdout",
     "output_type": "stream",
     "text": [
      "GCN(\n",
      "  (emb): AtomEncoder(\n",
      "    (atom_embedding_list): ModuleList(\n",
      "      (0): Embedding(119, 8)\n",
      "      (1): Embedding(4, 8)\n",
      "      (2): Embedding(12, 8)\n",
      "      (3): Embedding(12, 8)\n",
      "      (4): Embedding(10, 8)\n",
      "      (5): Embedding(6, 8)\n",
      "      (6): Embedding(6, 8)\n",
      "      (7): Embedding(2, 8)\n",
      "      (8): Embedding(2, 8)\n",
      "    )\n",
      "  )\n",
      "  (conv1): GENConv(8, 8, aggr=softmax)\n",
      "  (conv2): GENConv(8, 8, aggr=softmax)\n",
      "  (out): Linear(in_features=8, out_features=2, bias=True)\n",
      ")\n"
     ]
    }
   ],
   "source": [
    "class GCN(torch.nn.Module):\n",
    "    def __init__(self, hidden_channels):\n",
    "        super(GCN, self).__init__()\n",
    "        torch.manual_seed(7)\n",
    "\n",
    "        # Initialize the layers\n",
    "        self.emb = AtomEncoder(hidden_channels)\n",
    "        #self.conv1 = GCNConv(in_channels = hidden_channels, out_channels = hidden_channels)\n",
    "        self.conv1 = GENConv(in_channels = hidden_channels, out_channels = hidden_channels , num_layers = 3)\n",
    "        \n",
    "        #self.conv2 = GCNConv(in_channels = hidden_channels, out_channels = hidden_channels)\n",
    "        self.conv2 = GENConv(in_channels = hidden_channels, out_channels = hidden_channels , num_layers = 3)\n",
    "        self.out = Linear(hidden_channels, dataset.num_classes)\n",
    "\n",
    "    def forward(self, data):\n",
    "        x, edge_index = data.x, data.edge_index\n",
    "        x = self.emb(x)\n",
    "        \n",
    "        # First Message Passing Layer (Transformation)\n",
    "        x = self.conv1(x, edge_index)\n",
    "        x = x.relu()\n",
    "        x = F.dropout(x, p=0.33, training=self.training)\n",
    "\n",
    "        # Second Message Passing Layer\n",
    "        x = self.conv2(x, edge_index)\n",
    "        x = x.relu()\n",
    "        x = F.dropout(x, p=0.33, training=self.training)\n",
    "        \n",
    "        #Pool embedding aat graph level\n",
    "        x = global_max_pool(F.softmax(x, dim=1), batch = data.batch)\n",
    "        \n",
    "        # Output layer \n",
    "        x = self.out(x)\n",
    "        \n",
    "        return x\n",
    "\n",
    "model = GCN(hidden_channels=8)\n",
    "print(model)"
   ]
  },
  {
   "cell_type": "code",
   "execution_count": 223,
   "metadata": {},
   "outputs": [
    {
     "name": "stdout",
     "output_type": "stream",
     "text": [
      "cuda:0\n"
     ]
    }
   ],
   "source": [
    "# Use GPU\n",
    "device = torch.device(\"cuda:0\" if torch.cuda.is_available() else \"cpu\")\n",
    "print(device)\n",
    "model = model.to(device)\n",
    "\n",
    "# Initialize Optimizer\n",
    "learning_rate = 0.01\n",
    "decay = 5e-4\n",
    "optimizer = torch.optim.Adam(model.parameters(), \n",
    "                             lr=learning_rate, \n",
    "                             weight_decay=decay)\n",
    "\n",
    "# Define loss function (CrossEntropyLoss for Classification Problems with \n",
    "# probability distributions)\n",
    "criterion = torch.nn.CrossEntropyLoss()"
   ]
  },
  {
   "cell_type": "code",
   "execution_count": 224,
   "metadata": {},
   "outputs": [],
   "source": [
    "def train(batch):\n",
    "    model.train()\n",
    "    batch.to(device)\n",
    "    optimizer.zero_grad() \n",
    "    # Use all data as input, because all nodes have node features\n",
    "    out = model(data = batch)  \n",
    "    # Only use nodes with labels available for loss calculation --> mask\n",
    "    loss = criterion(out , batch.y.squeeze(1))  \n",
    "    loss.backward() \n",
    "    optimizer.step()\n",
    "    return out , loss\n",
    "\n",
    "def build_evaluation_tensors(y_actual , y_pred , y_pred_proba):\n",
    "    \n",
    "    if y_pred != None:\n",
    "        #y_pred_proba = torch.cat([y_pred_proba , out.softmax(dim = 1).squeeze(0)[:,-1]], dim = 0)\n",
    "        y_pred_proba = torch.cat([y_pred_proba , out.softmax(dim = 1)], dim = 0)\n",
    "        y_pred = torch.cat([y_pred , out.softmax(dim = 1).argmax(dim = 1)], dim = 0)\n",
    "        y_actual = torch.cat([y_actual , batch.y.squeeze(1)] , dim = 0)\n",
    "        \n",
    "    else:\n",
    "        #y_pred_proba = out.softmax(dim = 1).squeeze(0)[:,-1]\n",
    "        y_pred_proba = out.softmax(dim = 1)\n",
    "        y_pred = out.softmax(dim = 1).argmax(dim = 1)\n",
    "        y_actual = batch.y.squeeze(1)\n",
    "        \n",
    "    return y_actual , y_pred , y_pred_proba"
   ]
  },
  {
   "cell_type": "code",
   "execution_count": 225,
   "metadata": {},
   "outputs": [
    {
     "name": "stdout",
     "output_type": "stream",
     "text": [
      "Begin training\n",
      "total epochs : 1\n",
      "total_batches : 258\n",
      "\n",
      "TRAIN SET Epoch: 1/1, Avg Loss: 0.17078220493398433 , AUC: 0.4387244270381171, Acc: 0.9625543296556336, Epoch Time : 27.0 secs\n",
      "VALID SET Epoch: 1/1, AUC: 0.4825485621203213, Acc: 0.9803063457330415\n",
      "\n"
     ]
    }
   ],
   "source": [
    "losses = []\n",
    "start_time = time.time()\n",
    "epoch_start_time = time.time()\n",
    "total_epochs = 1\n",
    "total_batches = len(train_loader)\n",
    "print_every = 1000\n",
    "print('Begin training')\n",
    "print('total epochs : {}'.format(total_epochs))\n",
    "print('total_batches : {}'.format(total_batches))\n",
    "for epoch in range(0, total_epochs):\n",
    "    batch_ctr = 1\n",
    "    \n",
    "    y_pred_proba = None\n",
    "    y_pred = None \n",
    "    y_actual =  None\n",
    "    \n",
    "    for batch in train_loader:\n",
    "        out , loss = train(batch = batch)\n",
    "        losses.append(loss.item())\n",
    "        \n",
    "        y_actual , y_pred , y_pred_proba = build_evaluation_tensors(y_actual = y_actual\n",
    "                                                                    , y_pred = y_pred\n",
    "                                                                    , y_pred_proba = y_pred_proba)\n",
    "        \n",
    "        if batch_ctr % print_every == 0:\n",
    "            print('Epoch: {}/{}, Batch: {}/{} , Loss: {} , Time : {} secs'.format(epoch + 1\n",
    "                                                                                  , total_epochs \n",
    "                                                                                  , batch_ctr \n",
    "                                                                                  , total_batches \n",
    "                                                                                  , loss \n",
    "                                                                                  , round(time.time() - start_time , 0)))\n",
    "            start_time = time.time()\n",
    "        \n",
    "        batch_ctr+=1\n",
    "        \n",
    "    y_actual = np.array(y_actual.detach().cpu().numpy())\n",
    "    y_pred = np.array(y_pred.detach().cpu().numpy())\n",
    "    y_pred_proba = np.array(y_pred_proba.detach().cpu().numpy())\n",
    "    \n",
    "    print('\\nTRAIN SET Epoch: {}/{}, Avg Loss: {} , AUC: {}, Acc: {}, Epoch Time : {} secs'.format(epoch + 1\n",
    "                                                                , total_epochs \n",
    "                                                                , sum(losses) / len(losses)\n",
    "                                                                , roc_auc_score(y_true = y_actual , y_score = y_pred_proba[:,-1])\n",
    "                                                                , accuracy_score(y_true = y_actual , y_pred = y_pred)                  \n",
    "                                                                , round(time.time() - epoch_start_time , 0)))\n",
    "    epoch_start_time = time.time()\n",
    "    \n",
    "    model = model.eval()\n",
    "\n",
    "    y_pred_proba = None\n",
    "    y_pred = None \n",
    "    y_actual =  None\n",
    "    for batch in valid_loader:\n",
    "        batch.to(device)\n",
    "        out = model(data = batch)\n",
    "    \n",
    "        y_actual , y_pred , y_pred_proba = build_evaluation_tensors(y_actual = y_actual\n",
    "                                                                    , y_pred = y_pred\n",
    "                                                                    , y_pred_proba = y_pred_proba)\n",
    "            \n",
    "    y_actual = np.array(y_actual.detach().cpu().numpy())\n",
    "    y_pred = np.array(y_pred.detach().cpu().numpy())\n",
    "    y_pred_proba = np.array(y_pred_proba.detach().cpu().numpy())\n",
    "    print('VALID SET Epoch: {}/{}, AUC: {}, Acc: {}\\n'.format(epoch + 1\n",
    "                                                                , total_epochs \n",
    "                                                                , roc_auc_score(y_true = y_actual , y_score = y_pred_proba[:,-1])\n",
    "                                                                , accuracy_score(y_true = y_actual , y_pred = y_pred)))"
   ]
  },
  {
   "cell_type": "code",
   "execution_count": 226,
   "metadata": {},
   "outputs": [
    {
     "name": "stdout",
     "output_type": "stream",
     "text": [
      "               precision    recall  f1-score   support\n",
      "\n",
      "not effective       0.98      1.00      0.99      4032\n",
      "    effective       0.00      0.00      0.00        81\n",
      "\n",
      "     accuracy                           0.98      4113\n",
      "    macro avg       0.49      0.50      0.50      4113\n",
      " weighted avg       0.96      0.98      0.97      4113\n",
      "\n",
      "accuracy : 0.9803063457330415\n",
      "\n",
      "Confusion matrix\n"
     ]
    },
    {
     "data": {
      "image/png": "[encoded data removed]",
      "text/plain": [
       "<Figure size 432x288 with 2 Axes>"
      ]
     },
     "metadata": {
      "needs_background": "light"
     },
     "output_type": "display_data"
    },
    {
     "name": "stdout",
     "output_type": "stream",
     "text": [
      "\n",
      "ROC AUC Curve\n"
     ]
    },
    {
     "data": {
      "image/png": "[encoded data removed]",
      "text/plain": [
       "<Figure size 432x288 with 1 Axes>"
      ]
     },
     "metadata": {
      "needs_background": "light"
     },
     "output_type": "display_data"
    }
   ],
   "source": [
    "def my_classification_report(y_actual , y_pred , y_pred_proba = None, labels = None):\n",
    "    \"\"\"\n",
    "    Description : \n",
    "    - This function takes precdicted and actual values and gives key classification metrics\n",
    "    \n",
    "    Inputs:\n",
    "    1. y_actual : Array of actual labels\n",
    "    2. y_pred :  Array of predicted labels\n",
    "    3. y_pred_proba :  probabilities for each lables\n",
    "    \n",
    "    Outputs:\n",
    "    1. Prescision , recall, F1-Score and Accuracy metrics\n",
    "    2. Plot of confusion matrix\n",
    "    3. Plot of ROC AUC Curve \n",
    "    \"\"\"\n",
    "    \n",
    "    print(classification_report(y_true = y_actual, y_pred = y_pred , target_names = labels , zero_division = 0))\n",
    "    acc = accuracy_score(y_true = y_actual , y_pred = y_pred)\n",
    "    print('accuracy : {}'.format(acc))\n",
    "    \n",
    "    print('\\nConfusion matrix')\n",
    "    ax = plt.subplot()\n",
    "    conf_mat=confusion_matrix(y_true = y_actual, y_pred = y_pred)\n",
    "    #print(conf_mat)\n",
    "    sns.heatmap(data = conf_mat , annot = True , fmt  = 'd' , xticklabels = labels , yticklabels = labels)\n",
    "    ax.set_xlabel('Predicted labels')\n",
    "    ax.set_ylabel('True labels')\n",
    "    plt.yticks(rotation='horizontal')\n",
    "    plt.show()\n",
    "    \n",
    "    print('\\nROC AUC Curve')\n",
    "    skplt.metrics.plot_roc(y_true = y_actual, y_probas = y_pred_proba)\n",
    "    plt.show()\n",
    "    \n",
    "    \n",
    "labels = ['not effective' , 'effective']\n",
    "my_classification_report(y_actual = y_actual\n",
    "                             , y_pred = y_pred\n",
    "                             , y_pred_proba = y_pred_proba\n",
    "                             , labels = labels)"
   ]
  },
  {
   "cell_type": "code",
   "execution_count": null,
   "metadata": {},
   "outputs": [],
   "source": []
  }
 ],
 "metadata": {
  "kernelspec": {
   "display_name": "Python 3",
   "language": "python",
   "name": "python3"
  },
  "language_info": {
   "codemirror_mode": {
    "name": "ipython",
    "version": 3
   },
   "file_extension": ".py",
   "mimetype": "text/x-python",
   "name": "python",
   "nbconvert_exporter": "python",
   "pygments_lexer": "ipython3",
   "version": "3.7.8"
  }
 },
 "nbformat": 4,
 "nbformat_minor": 4
}
