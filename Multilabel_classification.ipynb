{
 "cells": [
  {
   "cell_type": "code",
   "execution_count": 1,
   "metadata": {},
   "outputs": [],
   "source": [
    "import os\n",
    "import psutil\n",
    "import time\n",
    "import sys\n",
    "\n",
    "import pandas as pd\n",
    "import numpy as np\n",
    "import scipy as sp\n",
    "import matplotlib.pyplot as plt\n",
    "import seaborn as sns\n",
    "\n",
    "import torch\n",
    "import torch.nn as nn\n",
    "import torch.nn.functional as F\n",
    "from torch.utils.data import DataLoader\n",
    "\n",
    "from sklearn.metrics import classification_report , accuracy_score , confusion_matrix , precision_score , f1_score , recall_score"
   ]
  },
  {
   "cell_type": "code",
   "execution_count": 2,
   "metadata": {},
   "outputs": [
    {
     "data": {
      "text/html": [
       "<div>\n",
       "<style scoped>\n",
       "    .dataframe tbody tr th:only-of-type {\n",
       "        vertical-align: middle;\n",
       "    }\n",
       "\n",
       "    .dataframe tbody tr th {\n",
       "        vertical-align: top;\n",
       "    }\n",
       "\n",
       "    .dataframe thead th {\n",
       "        text-align: right;\n",
       "    }\n",
       "</style>\n",
       "<table border=\"1\" class=\"dataframe\">\n",
       "  <thead>\n",
       "    <tr style=\"text-align: right;\">\n",
       "      <th></th>\n",
       "      <th>movieId</th>\n",
       "      <th>imdb_id</th>\n",
       "      <th>imdbId_modified</th>\n",
       "      <th>title</th>\n",
       "      <th>countries</th>\n",
       "      <th>languages</th>\n",
       "      <th>original_air_date</th>\n",
       "      <th>year</th>\n",
       "      <th>plot_outline</th>\n",
       "      <th>cast</th>\n",
       "      <th>directors</th>\n",
       "      <th>writers</th>\n",
       "      <th>producers</th>\n",
       "      <th>composers</th>\n",
       "      <th>editors</th>\n",
       "      <th>production_companies</th>\n",
       "      <th>akas</th>\n",
       "    </tr>\n",
       "  </thead>\n",
       "  <tbody>\n",
       "    <tr>\n",
       "      <th>0</th>\n",
       "      <td>1.0</td>\n",
       "      <td>114709.0</td>\n",
       "      <td>114709.0</td>\n",
       "      <td>Toy Story</td>\n",
       "      <td>United States</td>\n",
       "      <td>English</td>\n",
       "      <td>22 Nov 1995 (USA)</td>\n",
       "      <td>1995</td>\n",
       "      <td>A little boy named Andy loves to be in his roo...</td>\n",
       "      <td>Tom Hanks,Tim Allen,Don Rickles,Jim Varney,Wal...</td>\n",
       "      <td>John Lasseter</td>\n",
       "      <td>John Lasseter,Pete Docter,Andrew Stanton,Joe R...</td>\n",
       "      <td>Bonnie Arnold,Ed Catmull,Ralph Guggenheim,Stev...</td>\n",
       "      <td>Randy Newman</td>\n",
       "      <td>Robert Gordon,Lee Unkrich</td>\n",
       "      <td>Pixar Animation Studios,Walt Disney Pictures,W...</td>\n",
       "      <td>Toy Story in 3-D (United States),Toy Story (Ju...</td>\n",
       "    </tr>\n",
       "    <tr>\n",
       "      <th>1</th>\n",
       "      <td>2.0</td>\n",
       "      <td>113497.0</td>\n",
       "      <td>113497.0</td>\n",
       "      <td>Jumanji</td>\n",
       "      <td>United States</td>\n",
       "      <td>English,French</td>\n",
       "      <td>15 Dec 1995 (USA)</td>\n",
       "      <td>1995</td>\n",
       "      <td>After being trapped in a jungle board game for...</td>\n",
       "      <td>Robin Williams,Jonathan Hyde,Kirsten Dunst,Bra...</td>\n",
       "      <td>Joe Johnston</td>\n",
       "      <td>Jonathan Hensleigh,Greg Taylor,Jim Strain,Chri...</td>\n",
       "      <td>Robert W. Cort,Ted Field,Larry Franco,Scott Kr...</td>\n",
       "      <td>James Horner</td>\n",
       "      <td>Robert Dalva</td>\n",
       "      <td>TriStar Pictures,Interscope Communications,Tei...</td>\n",
       "      <td>Τζουμάντζι (Greece),Џуманџи (Serbia),Джуманджи...</td>\n",
       "    </tr>\n",
       "    <tr>\n",
       "      <th>2</th>\n",
       "      <td>3.0</td>\n",
       "      <td>113228.0</td>\n",
       "      <td>113228.0</td>\n",
       "      <td>Grumpier Old Men</td>\n",
       "      <td>United States</td>\n",
       "      <td>English,Italian,German</td>\n",
       "      <td>22 Dec 1995 (USA)</td>\n",
       "      <td>1995</td>\n",
       "      <td>Things don't seem to change much in Wabasha Co...</td>\n",
       "      <td>Walter Matthau,Jack Lemmon,Sophia Loren,Ann-Ma...</td>\n",
       "      <td>Howard Deutch</td>\n",
       "      <td>Mark Steven Johnson</td>\n",
       "      <td>Richard C. Berman,John Davis,George Folsey Jr....</td>\n",
       "      <td>Alan Silvestri</td>\n",
       "      <td>Maryann Brandon,Seth Flaum,Billy Weber</td>\n",
       "      <td>Lancaster Gate,Warner Bros.</td>\n",
       "      <td>Grumpy Old Men 2 (Canada, English title),Les g...</td>\n",
       "    </tr>\n",
       "    <tr>\n",
       "      <th>3</th>\n",
       "      <td>4.0</td>\n",
       "      <td>114885.0</td>\n",
       "      <td>114885.0</td>\n",
       "      <td>Waiting to Exhale</td>\n",
       "      <td>United States</td>\n",
       "      <td>English</td>\n",
       "      <td>22 Dec 1995 (USA)</td>\n",
       "      <td>1995</td>\n",
       "      <td>This story based on the best selling novel by ...</td>\n",
       "      <td>Whitney Houston,Angela Bassett,Loretta Devine,...</td>\n",
       "      <td>Forest Whitaker</td>\n",
       "      <td>Terry McMillan,Ronald Bass</td>\n",
       "      <td>Ronald Bass,Caron K,Terry McMillan,Deborah Sch...</td>\n",
       "      <td>Kenneth 'Babyface' Edmonds</td>\n",
       "      <td>Richard Chew</td>\n",
       "      <td>Twentieth Century Fox</td>\n",
       "      <td>Où sont les hommes? (France),Waiting to Exhale...</td>\n",
       "    </tr>\n",
       "    <tr>\n",
       "      <th>4</th>\n",
       "      <td>5.0</td>\n",
       "      <td>113041.0</td>\n",
       "      <td>113041.0</td>\n",
       "      <td>Father of the Bride Part II</td>\n",
       "      <td>United States</td>\n",
       "      <td>English</td>\n",
       "      <td>08 Dec 1995 (USA)</td>\n",
       "      <td>1995</td>\n",
       "      <td>In this sequel to \"Father of the Bride\", Georg...</td>\n",
       "      <td>Steve Martin,Diane Keaton,Martin Short,Kimberl...</td>\n",
       "      <td>Charles Shyer</td>\n",
       "      <td>Albert Hackett,Frances Goodrich,Nancy Meyers,C...</td>\n",
       "      <td>Carol Baum,Bruce A. Block,Julie B. Crane,Jim C...</td>\n",
       "      <td>Alan Silvestri</td>\n",
       "      <td>Adam Bernardi,Stephen A. Rotter</td>\n",
       "      <td>Sandollar Productions,Taylor-Made Productions,...</td>\n",
       "      <td>Le père de la mariée II (France),Ein Geschenk ...</td>\n",
       "    </tr>\n",
       "  </tbody>\n",
       "</table>\n",
       "</div>"
      ],
      "text/plain": [
       "   movieId   imdb_id  imdbId_modified                        title  \\\n",
       "0      1.0  114709.0         114709.0                    Toy Story   \n",
       "1      2.0  113497.0         113497.0                      Jumanji   \n",
       "2      3.0  113228.0         113228.0             Grumpier Old Men   \n",
       "3      4.0  114885.0         114885.0            Waiting to Exhale   \n",
       "4      5.0  113041.0         113041.0  Father of the Bride Part II   \n",
       "\n",
       "       countries               languages  original_air_date  year  \\\n",
       "0  United States                 English  22 Nov 1995 (USA)  1995   \n",
       "1  United States          English,French  15 Dec 1995 (USA)  1995   \n",
       "2  United States  English,Italian,German  22 Dec 1995 (USA)  1995   \n",
       "3  United States                 English  22 Dec 1995 (USA)  1995   \n",
       "4  United States                 English  08 Dec 1995 (USA)  1995   \n",
       "\n",
       "                                        plot_outline  \\\n",
       "0  A little boy named Andy loves to be in his roo...   \n",
       "1  After being trapped in a jungle board game for...   \n",
       "2  Things don't seem to change much in Wabasha Co...   \n",
       "3  This story based on the best selling novel by ...   \n",
       "4  In this sequel to \"Father of the Bride\", Georg...   \n",
       "\n",
       "                                                cast        directors  \\\n",
       "0  Tom Hanks,Tim Allen,Don Rickles,Jim Varney,Wal...    John Lasseter   \n",
       "1  Robin Williams,Jonathan Hyde,Kirsten Dunst,Bra...     Joe Johnston   \n",
       "2  Walter Matthau,Jack Lemmon,Sophia Loren,Ann-Ma...    Howard Deutch   \n",
       "3  Whitney Houston,Angela Bassett,Loretta Devine,...  Forest Whitaker   \n",
       "4  Steve Martin,Diane Keaton,Martin Short,Kimberl...    Charles Shyer   \n",
       "\n",
       "                                             writers  \\\n",
       "0  John Lasseter,Pete Docter,Andrew Stanton,Joe R...   \n",
       "1  Jonathan Hensleigh,Greg Taylor,Jim Strain,Chri...   \n",
       "2                                Mark Steven Johnson   \n",
       "3                         Terry McMillan,Ronald Bass   \n",
       "4  Albert Hackett,Frances Goodrich,Nancy Meyers,C...   \n",
       "\n",
       "                                           producers  \\\n",
       "0  Bonnie Arnold,Ed Catmull,Ralph Guggenheim,Stev...   \n",
       "1  Robert W. Cort,Ted Field,Larry Franco,Scott Kr...   \n",
       "2  Richard C. Berman,John Davis,George Folsey Jr....   \n",
       "3  Ronald Bass,Caron K,Terry McMillan,Deborah Sch...   \n",
       "4  Carol Baum,Bruce A. Block,Julie B. Crane,Jim C...   \n",
       "\n",
       "                    composers                                 editors  \\\n",
       "0                Randy Newman               Robert Gordon,Lee Unkrich   \n",
       "1                James Horner                            Robert Dalva   \n",
       "2              Alan Silvestri  Maryann Brandon,Seth Flaum,Billy Weber   \n",
       "3  Kenneth 'Babyface' Edmonds                            Richard Chew   \n",
       "4              Alan Silvestri         Adam Bernardi,Stephen A. Rotter   \n",
       "\n",
       "                                production_companies  \\\n",
       "0  Pixar Animation Studios,Walt Disney Pictures,W...   \n",
       "1  TriStar Pictures,Interscope Communications,Tei...   \n",
       "2                        Lancaster Gate,Warner Bros.   \n",
       "3                              Twentieth Century Fox   \n",
       "4  Sandollar Productions,Taylor-Made Productions,...   \n",
       "\n",
       "                                                akas  \n",
       "0  Toy Story in 3-D (United States),Toy Story (Ju...  \n",
       "1  Τζουμάντζι (Greece),Џуманџи (Serbia),Джуманджи...  \n",
       "2  Grumpy Old Men 2 (Canada, English title),Les g...  \n",
       "3  Où sont les hommes? (France),Waiting to Exhale...  \n",
       "4  Le père de la mariée II (France),Ein Geschenk ...  "
      ]
     },
     "execution_count": 2,
     "metadata": {},
     "output_type": "execute_result"
    }
   ],
   "source": [
    "file_name = 'D:\\\\Data_Science\\\\Datasets\\\\credits_gzip.csv'\n",
    "data = pd.read_csv(file_name\n",
    "                   , compression = 'gzip'\n",
    "                   , low_memory = False\n",
    "                   , sep = ';')\n",
    "\n",
    "data.head()"
   ]
  },
  {
   "cell_type": "code",
   "execution_count": 3,
   "metadata": {},
   "outputs": [
    {
     "data": {
      "text/plain": [
       "Index(['movieId', 'imdb_id', 'imdbId_modified', 'title', 'countries',\n",
       "       'languages', 'original_air_date', 'year', 'plot_outline', 'cast',\n",
       "       'directors', 'writers', 'producers', 'composers', 'editors',\n",
       "       'production_companies', 'akas'],\n",
       "      dtype='object')"
      ]
     },
     "execution_count": 3,
     "metadata": {},
     "output_type": "execute_result"
    }
   ],
   "source": [
    "data.columns"
   ]
  },
  {
   "cell_type": "code",
   "execution_count": 4,
   "metadata": {},
   "outputs": [
    {
     "data": {
      "text/html": [
       "<div>\n",
       "<style scoped>\n",
       "    .dataframe tbody tr th:only-of-type {\n",
       "        vertical-align: middle;\n",
       "    }\n",
       "\n",
       "    .dataframe tbody tr th {\n",
       "        vertical-align: top;\n",
       "    }\n",
       "\n",
       "    .dataframe thead th {\n",
       "        text-align: right;\n",
       "    }\n",
       "</style>\n",
       "<table border=\"1\" class=\"dataframe\">\n",
       "  <thead>\n",
       "    <tr style=\"text-align: right;\">\n",
       "      <th></th>\n",
       "      <th>movieId</th>\n",
       "      <th>title</th>\n",
       "      <th>genres</th>\n",
       "    </tr>\n",
       "  </thead>\n",
       "  <tbody>\n",
       "    <tr>\n",
       "      <th>0</th>\n",
       "      <td>1</td>\n",
       "      <td>Toy Story (1995)</td>\n",
       "      <td>Adventure|Animation|Children|Comedy|Fantasy</td>\n",
       "    </tr>\n",
       "    <tr>\n",
       "      <th>1</th>\n",
       "      <td>2</td>\n",
       "      <td>Jumanji (1995)</td>\n",
       "      <td>Adventure|Children|Fantasy</td>\n",
       "    </tr>\n",
       "    <tr>\n",
       "      <th>2</th>\n",
       "      <td>3</td>\n",
       "      <td>Grumpier Old Men (1995)</td>\n",
       "      <td>Comedy|Romance</td>\n",
       "    </tr>\n",
       "    <tr>\n",
       "      <th>3</th>\n",
       "      <td>4</td>\n",
       "      <td>Waiting to Exhale (1995)</td>\n",
       "      <td>Comedy|Drama|Romance</td>\n",
       "    </tr>\n",
       "    <tr>\n",
       "      <th>4</th>\n",
       "      <td>5</td>\n",
       "      <td>Father of the Bride Part II (1995)</td>\n",
       "      <td>Comedy</td>\n",
       "    </tr>\n",
       "  </tbody>\n",
       "</table>\n",
       "</div>"
      ],
      "text/plain": [
       "   movieId                               title  \\\n",
       "0        1                    Toy Story (1995)   \n",
       "1        2                      Jumanji (1995)   \n",
       "2        3             Grumpier Old Men (1995)   \n",
       "3        4            Waiting to Exhale (1995)   \n",
       "4        5  Father of the Bride Part II (1995)   \n",
       "\n",
       "                                        genres  \n",
       "0  Adventure|Animation|Children|Comedy|Fantasy  \n",
       "1                   Adventure|Children|Fantasy  \n",
       "2                               Comedy|Romance  \n",
       "3                         Comedy|Drama|Romance  \n",
       "4                                       Comedy  "
      ]
     },
     "execution_count": 4,
     "metadata": {},
     "output_type": "execute_result"
    }
   ],
   "source": [
    "tag_file = 'D:\\\\Data_Science\\\\Recommender systems\\\\ml-latest\\\\ml-latest\\\\movies.csv'\n",
    "tags_data = pd.read_csv(tag_file\n",
    "                   , low_memory = False\n",
    "                       )\n",
    "\n",
    "tags_data.head()"
   ]
  },
  {
   "cell_type": "code",
   "execution_count": 5,
   "metadata": {},
   "outputs": [
    {
     "data": {
      "text/html": [
       "<div>\n",
       "<style scoped>\n",
       "    .dataframe tbody tr th:only-of-type {\n",
       "        vertical-align: middle;\n",
       "    }\n",
       "\n",
       "    .dataframe tbody tr th {\n",
       "        vertical-align: top;\n",
       "    }\n",
       "\n",
       "    .dataframe thead th {\n",
       "        text-align: right;\n",
       "    }\n",
       "</style>\n",
       "<table border=\"1\" class=\"dataframe\">\n",
       "  <thead>\n",
       "    <tr style=\"text-align: right;\">\n",
       "      <th></th>\n",
       "      <th>movieId</th>\n",
       "      <th>imdb_id</th>\n",
       "      <th>imdbId_modified</th>\n",
       "      <th>title_x</th>\n",
       "      <th>countries</th>\n",
       "      <th>languages</th>\n",
       "      <th>original_air_date</th>\n",
       "      <th>year</th>\n",
       "      <th>plot_outline</th>\n",
       "      <th>cast</th>\n",
       "      <th>directors</th>\n",
       "      <th>writers</th>\n",
       "      <th>producers</th>\n",
       "      <th>composers</th>\n",
       "      <th>editors</th>\n",
       "      <th>production_companies</th>\n",
       "      <th>akas</th>\n",
       "      <th>title_y</th>\n",
       "      <th>genres</th>\n",
       "    </tr>\n",
       "  </thead>\n",
       "  <tbody>\n",
       "    <tr>\n",
       "      <th>0</th>\n",
       "      <td>1.0</td>\n",
       "      <td>114709.0</td>\n",
       "      <td>114709.0</td>\n",
       "      <td>Toy Story</td>\n",
       "      <td>United States</td>\n",
       "      <td>English</td>\n",
       "      <td>22 Nov 1995 (USA)</td>\n",
       "      <td>1995</td>\n",
       "      <td>A little boy named Andy loves to be in his roo...</td>\n",
       "      <td>Tom Hanks,Tim Allen,Don Rickles,Jim Varney,Wal...</td>\n",
       "      <td>John Lasseter</td>\n",
       "      <td>John Lasseter,Pete Docter,Andrew Stanton,Joe R...</td>\n",
       "      <td>Bonnie Arnold,Ed Catmull,Ralph Guggenheim,Stev...</td>\n",
       "      <td>Randy Newman</td>\n",
       "      <td>Robert Gordon,Lee Unkrich</td>\n",
       "      <td>Pixar Animation Studios,Walt Disney Pictures,W...</td>\n",
       "      <td>Toy Story in 3-D (United States),Toy Story (Ju...</td>\n",
       "      <td>Toy Story (1995)</td>\n",
       "      <td>Adventure|Animation|Children|Comedy|Fantasy</td>\n",
       "    </tr>\n",
       "    <tr>\n",
       "      <th>1</th>\n",
       "      <td>2.0</td>\n",
       "      <td>113497.0</td>\n",
       "      <td>113497.0</td>\n",
       "      <td>Jumanji</td>\n",
       "      <td>United States</td>\n",
       "      <td>English,French</td>\n",
       "      <td>15 Dec 1995 (USA)</td>\n",
       "      <td>1995</td>\n",
       "      <td>After being trapped in a jungle board game for...</td>\n",
       "      <td>Robin Williams,Jonathan Hyde,Kirsten Dunst,Bra...</td>\n",
       "      <td>Joe Johnston</td>\n",
       "      <td>Jonathan Hensleigh,Greg Taylor,Jim Strain,Chri...</td>\n",
       "      <td>Robert W. Cort,Ted Field,Larry Franco,Scott Kr...</td>\n",
       "      <td>James Horner</td>\n",
       "      <td>Robert Dalva</td>\n",
       "      <td>TriStar Pictures,Interscope Communications,Tei...</td>\n",
       "      <td>Τζουμάντζι (Greece),Џуманџи (Serbia),Джуманджи...</td>\n",
       "      <td>Jumanji (1995)</td>\n",
       "      <td>Adventure|Children|Fantasy</td>\n",
       "    </tr>\n",
       "    <tr>\n",
       "      <th>2</th>\n",
       "      <td>3.0</td>\n",
       "      <td>113228.0</td>\n",
       "      <td>113228.0</td>\n",
       "      <td>Grumpier Old Men</td>\n",
       "      <td>United States</td>\n",
       "      <td>English,Italian,German</td>\n",
       "      <td>22 Dec 1995 (USA)</td>\n",
       "      <td>1995</td>\n",
       "      <td>Things don't seem to change much in Wabasha Co...</td>\n",
       "      <td>Walter Matthau,Jack Lemmon,Sophia Loren,Ann-Ma...</td>\n",
       "      <td>Howard Deutch</td>\n",
       "      <td>Mark Steven Johnson</td>\n",
       "      <td>Richard C. Berman,John Davis,George Folsey Jr....</td>\n",
       "      <td>Alan Silvestri</td>\n",
       "      <td>Maryann Brandon,Seth Flaum,Billy Weber</td>\n",
       "      <td>Lancaster Gate,Warner Bros.</td>\n",
       "      <td>Grumpy Old Men 2 (Canada, English title),Les g...</td>\n",
       "      <td>Grumpier Old Men (1995)</td>\n",
       "      <td>Comedy|Romance</td>\n",
       "    </tr>\n",
       "    <tr>\n",
       "      <th>3</th>\n",
       "      <td>4.0</td>\n",
       "      <td>114885.0</td>\n",
       "      <td>114885.0</td>\n",
       "      <td>Waiting to Exhale</td>\n",
       "      <td>United States</td>\n",
       "      <td>English</td>\n",
       "      <td>22 Dec 1995 (USA)</td>\n",
       "      <td>1995</td>\n",
       "      <td>This story based on the best selling novel by ...</td>\n",
       "      <td>Whitney Houston,Angela Bassett,Loretta Devine,...</td>\n",
       "      <td>Forest Whitaker</td>\n",
       "      <td>Terry McMillan,Ronald Bass</td>\n",
       "      <td>Ronald Bass,Caron K,Terry McMillan,Deborah Sch...</td>\n",
       "      <td>Kenneth 'Babyface' Edmonds</td>\n",
       "      <td>Richard Chew</td>\n",
       "      <td>Twentieth Century Fox</td>\n",
       "      <td>Où sont les hommes? (France),Waiting to Exhale...</td>\n",
       "      <td>Waiting to Exhale (1995)</td>\n",
       "      <td>Comedy|Drama|Romance</td>\n",
       "    </tr>\n",
       "    <tr>\n",
       "      <th>4</th>\n",
       "      <td>5.0</td>\n",
       "      <td>113041.0</td>\n",
       "      <td>113041.0</td>\n",
       "      <td>Father of the Bride Part II</td>\n",
       "      <td>United States</td>\n",
       "      <td>English</td>\n",
       "      <td>08 Dec 1995 (USA)</td>\n",
       "      <td>1995</td>\n",
       "      <td>In this sequel to \"Father of the Bride\", Georg...</td>\n",
       "      <td>Steve Martin,Diane Keaton,Martin Short,Kimberl...</td>\n",
       "      <td>Charles Shyer</td>\n",
       "      <td>Albert Hackett,Frances Goodrich,Nancy Meyers,C...</td>\n",
       "      <td>Carol Baum,Bruce A. Block,Julie B. Crane,Jim C...</td>\n",
       "      <td>Alan Silvestri</td>\n",
       "      <td>Adam Bernardi,Stephen A. Rotter</td>\n",
       "      <td>Sandollar Productions,Taylor-Made Productions,...</td>\n",
       "      <td>Le père de la mariée II (France),Ein Geschenk ...</td>\n",
       "      <td>Father of the Bride Part II (1995)</td>\n",
       "      <td>Comedy</td>\n",
       "    </tr>\n",
       "  </tbody>\n",
       "</table>\n",
       "</div>"
      ],
      "text/plain": [
       "   movieId   imdb_id  imdbId_modified                      title_x  \\\n",
       "0      1.0  114709.0         114709.0                    Toy Story   \n",
       "1      2.0  113497.0         113497.0                      Jumanji   \n",
       "2      3.0  113228.0         113228.0             Grumpier Old Men   \n",
       "3      4.0  114885.0         114885.0            Waiting to Exhale   \n",
       "4      5.0  113041.0         113041.0  Father of the Bride Part II   \n",
       "\n",
       "       countries               languages  original_air_date  year  \\\n",
       "0  United States                 English  22 Nov 1995 (USA)  1995   \n",
       "1  United States          English,French  15 Dec 1995 (USA)  1995   \n",
       "2  United States  English,Italian,German  22 Dec 1995 (USA)  1995   \n",
       "3  United States                 English  22 Dec 1995 (USA)  1995   \n",
       "4  United States                 English  08 Dec 1995 (USA)  1995   \n",
       "\n",
       "                                        plot_outline  \\\n",
       "0  A little boy named Andy loves to be in his roo...   \n",
       "1  After being trapped in a jungle board game for...   \n",
       "2  Things don't seem to change much in Wabasha Co...   \n",
       "3  This story based on the best selling novel by ...   \n",
       "4  In this sequel to \"Father of the Bride\", Georg...   \n",
       "\n",
       "                                                cast        directors  \\\n",
       "0  Tom Hanks,Tim Allen,Don Rickles,Jim Varney,Wal...    John Lasseter   \n",
       "1  Robin Williams,Jonathan Hyde,Kirsten Dunst,Bra...     Joe Johnston   \n",
       "2  Walter Matthau,Jack Lemmon,Sophia Loren,Ann-Ma...    Howard Deutch   \n",
       "3  Whitney Houston,Angela Bassett,Loretta Devine,...  Forest Whitaker   \n",
       "4  Steve Martin,Diane Keaton,Martin Short,Kimberl...    Charles Shyer   \n",
       "\n",
       "                                             writers  \\\n",
       "0  John Lasseter,Pete Docter,Andrew Stanton,Joe R...   \n",
       "1  Jonathan Hensleigh,Greg Taylor,Jim Strain,Chri...   \n",
       "2                                Mark Steven Johnson   \n",
       "3                         Terry McMillan,Ronald Bass   \n",
       "4  Albert Hackett,Frances Goodrich,Nancy Meyers,C...   \n",
       "\n",
       "                                           producers  \\\n",
       "0  Bonnie Arnold,Ed Catmull,Ralph Guggenheim,Stev...   \n",
       "1  Robert W. Cort,Ted Field,Larry Franco,Scott Kr...   \n",
       "2  Richard C. Berman,John Davis,George Folsey Jr....   \n",
       "3  Ronald Bass,Caron K,Terry McMillan,Deborah Sch...   \n",
       "4  Carol Baum,Bruce A. Block,Julie B. Crane,Jim C...   \n",
       "\n",
       "                    composers                                 editors  \\\n",
       "0                Randy Newman               Robert Gordon,Lee Unkrich   \n",
       "1                James Horner                            Robert Dalva   \n",
       "2              Alan Silvestri  Maryann Brandon,Seth Flaum,Billy Weber   \n",
       "3  Kenneth 'Babyface' Edmonds                            Richard Chew   \n",
       "4              Alan Silvestri         Adam Bernardi,Stephen A. Rotter   \n",
       "\n",
       "                                production_companies  \\\n",
       "0  Pixar Animation Studios,Walt Disney Pictures,W...   \n",
       "1  TriStar Pictures,Interscope Communications,Tei...   \n",
       "2                        Lancaster Gate,Warner Bros.   \n",
       "3                              Twentieth Century Fox   \n",
       "4  Sandollar Productions,Taylor-Made Productions,...   \n",
       "\n",
       "                                                akas  \\\n",
       "0  Toy Story in 3-D (United States),Toy Story (Ju...   \n",
       "1  Τζουμάντζι (Greece),Џуманџи (Serbia),Джуманджи...   \n",
       "2  Grumpy Old Men 2 (Canada, English title),Les g...   \n",
       "3  Où sont les hommes? (France),Waiting to Exhale...   \n",
       "4  Le père de la mariée II (France),Ein Geschenk ...   \n",
       "\n",
       "                              title_y  \\\n",
       "0                    Toy Story (1995)   \n",
       "1                      Jumanji (1995)   \n",
       "2             Grumpier Old Men (1995)   \n",
       "3            Waiting to Exhale (1995)   \n",
       "4  Father of the Bride Part II (1995)   \n",
       "\n",
       "                                        genres  \n",
       "0  Adventure|Animation|Children|Comedy|Fantasy  \n",
       "1                   Adventure|Children|Fantasy  \n",
       "2                               Comedy|Romance  \n",
       "3                         Comedy|Drama|Romance  \n",
       "4                                       Comedy  "
      ]
     },
     "execution_count": 5,
     "metadata": {},
     "output_type": "execute_result"
    }
   ],
   "source": [
    "data = data.merge(tags_data, how = 'left' , left_on='movieId', right_on='movieId')\n",
    "data.head()"
   ]
  },
  {
   "cell_type": "code",
   "execution_count": 6,
   "metadata": {},
   "outputs": [],
   "source": [
    "data.to_csv('D:\\\\Data_Science\\\\Datasets\\\\full_credits.csv')"
   ]
  },
  {
   "cell_type": "code",
   "execution_count": 7,
   "metadata": {},
   "outputs": [
    {
     "data": {
      "text/plain": [
       "Index(['movieId', 'imdb_id', 'imdbId_modified', 'title_x', 'countries',\n",
       "       'languages', 'original_air_date', 'year', 'plot_outline', 'cast',\n",
       "       'directors', 'writers', 'producers', 'composers', 'editors',\n",
       "       'production_companies', 'akas', 'title_y', 'genres'],\n",
       "      dtype='object')"
      ]
     },
     "execution_count": 7,
     "metadata": {},
     "output_type": "execute_result"
    }
   ],
   "source": [
    "data.columns"
   ]
  },
  {
   "cell_type": "code",
   "execution_count": 8,
   "metadata": {},
   "outputs": [
    {
     "data": {
      "text/html": [
       "<div>\n",
       "<style scoped>\n",
       "    .dataframe tbody tr th:only-of-type {\n",
       "        vertical-align: middle;\n",
       "    }\n",
       "\n",
       "    .dataframe tbody tr th {\n",
       "        vertical-align: top;\n",
       "    }\n",
       "\n",
       "    .dataframe thead th {\n",
       "        text-align: right;\n",
       "    }\n",
       "</style>\n",
       "<table border=\"1\" class=\"dataframe\">\n",
       "  <thead>\n",
       "    <tr style=\"text-align: right;\">\n",
       "      <th></th>\n",
       "      <th>title_x</th>\n",
       "      <th>plot_outline</th>\n",
       "      <th>genres</th>\n",
       "    </tr>\n",
       "  </thead>\n",
       "  <tbody>\n",
       "    <tr>\n",
       "      <th>0</th>\n",
       "      <td>Toy Story</td>\n",
       "      <td>A little boy named Andy loves to be in his roo...</td>\n",
       "      <td>Adventure|Animation|Children|Comedy|Fantasy</td>\n",
       "    </tr>\n",
       "    <tr>\n",
       "      <th>1</th>\n",
       "      <td>Jumanji</td>\n",
       "      <td>After being trapped in a jungle board game for...</td>\n",
       "      <td>Adventure|Children|Fantasy</td>\n",
       "    </tr>\n",
       "    <tr>\n",
       "      <th>2</th>\n",
       "      <td>Grumpier Old Men</td>\n",
       "      <td>Things don't seem to change much in Wabasha Co...</td>\n",
       "      <td>Comedy|Romance</td>\n",
       "    </tr>\n",
       "    <tr>\n",
       "      <th>3</th>\n",
       "      <td>Waiting to Exhale</td>\n",
       "      <td>This story based on the best selling novel by ...</td>\n",
       "      <td>Comedy|Drama|Romance</td>\n",
       "    </tr>\n",
       "    <tr>\n",
       "      <th>4</th>\n",
       "      <td>Father of the Bride Part II</td>\n",
       "      <td>In this sequel to \"Father of the Bride\", Georg...</td>\n",
       "      <td>Comedy</td>\n",
       "    </tr>\n",
       "  </tbody>\n",
       "</table>\n",
       "</div>"
      ],
      "text/plain": [
       "                       title_x  \\\n",
       "0                    Toy Story   \n",
       "1                      Jumanji   \n",
       "2             Grumpier Old Men   \n",
       "3            Waiting to Exhale   \n",
       "4  Father of the Bride Part II   \n",
       "\n",
       "                                        plot_outline  \\\n",
       "0  A little boy named Andy loves to be in his roo...   \n",
       "1  After being trapped in a jungle board game for...   \n",
       "2  Things don't seem to change much in Wabasha Co...   \n",
       "3  This story based on the best selling novel by ...   \n",
       "4  In this sequel to \"Father of the Bride\", Georg...   \n",
       "\n",
       "                                        genres  \n",
       "0  Adventure|Animation|Children|Comedy|Fantasy  \n",
       "1                   Adventure|Children|Fantasy  \n",
       "2                               Comedy|Romance  \n",
       "3                         Comedy|Drama|Romance  \n",
       "4                                       Comedy  "
      ]
     },
     "execution_count": 8,
     "metadata": {},
     "output_type": "execute_result"
    }
   ],
   "source": [
    "data = data[['title_x','plot_outline','genres']]\n",
    "data.head()"
   ]
  },
  {
   "cell_type": "code",
   "execution_count": 9,
   "metadata": {},
   "outputs": [
    {
     "data": {
      "text/html": [
       "<div>\n",
       "<style scoped>\n",
       "    .dataframe tbody tr th:only-of-type {\n",
       "        vertical-align: middle;\n",
       "    }\n",
       "\n",
       "    .dataframe tbody tr th {\n",
       "        vertical-align: top;\n",
       "    }\n",
       "\n",
       "    .dataframe thead th {\n",
       "        text-align: right;\n",
       "    }\n",
       "</style>\n",
       "<table border=\"1\" class=\"dataframe\">\n",
       "  <thead>\n",
       "    <tr style=\"text-align: right;\">\n",
       "      <th></th>\n",
       "      <th>title_x</th>\n",
       "      <th>plot_outline</th>\n",
       "      <th>genres</th>\n",
       "    </tr>\n",
       "  </thead>\n",
       "  <tbody>\n",
       "    <tr>\n",
       "      <th>0</th>\n",
       "      <td>Toy Story</td>\n",
       "      <td>A little boy named Andy loves to be in his roo...</td>\n",
       "      <td>Adventure,Animation,Children,Comedy,Fantasy</td>\n",
       "    </tr>\n",
       "    <tr>\n",
       "      <th>1</th>\n",
       "      <td>Jumanji</td>\n",
       "      <td>After being trapped in a jungle board game for...</td>\n",
       "      <td>Adventure,Children,Fantasy</td>\n",
       "    </tr>\n",
       "    <tr>\n",
       "      <th>2</th>\n",
       "      <td>Grumpier Old Men</td>\n",
       "      <td>Things don't seem to change much in Wabasha Co...</td>\n",
       "      <td>Comedy,Romance</td>\n",
       "    </tr>\n",
       "    <tr>\n",
       "      <th>3</th>\n",
       "      <td>Waiting to Exhale</td>\n",
       "      <td>This story based on the best selling novel by ...</td>\n",
       "      <td>Comedy,Drama,Romance</td>\n",
       "    </tr>\n",
       "    <tr>\n",
       "      <th>4</th>\n",
       "      <td>Father of the Bride Part II</td>\n",
       "      <td>In this sequel to \"Father of the Bride\", Georg...</td>\n",
       "      <td>Comedy</td>\n",
       "    </tr>\n",
       "  </tbody>\n",
       "</table>\n",
       "</div>"
      ],
      "text/plain": [
       "                       title_x  \\\n",
       "0                    Toy Story   \n",
       "1                      Jumanji   \n",
       "2             Grumpier Old Men   \n",
       "3            Waiting to Exhale   \n",
       "4  Father of the Bride Part II   \n",
       "\n",
       "                                        plot_outline  \\\n",
       "0  A little boy named Andy loves to be in his roo...   \n",
       "1  After being trapped in a jungle board game for...   \n",
       "2  Things don't seem to change much in Wabasha Co...   \n",
       "3  This story based on the best selling novel by ...   \n",
       "4  In this sequel to \"Father of the Bride\", Georg...   \n",
       "\n",
       "                                        genres  \n",
       "0  Adventure,Animation,Children,Comedy,Fantasy  \n",
       "1                   Adventure,Children,Fantasy  \n",
       "2                               Comedy,Romance  \n",
       "3                         Comedy,Drama,Romance  \n",
       "4                                       Comedy  "
      ]
     },
     "execution_count": 9,
     "metadata": {},
     "output_type": "execute_result"
    }
   ],
   "source": [
    "data['genres']=data['genres'].str.replace('|',',')\n",
    "data = data.dropna()\n",
    "data.head()"
   ]
  },
  {
   "cell_type": "code",
   "execution_count": 10,
   "metadata": {},
   "outputs": [],
   "source": [
    "genre_dict = {}\n",
    "for i in data.genres:\n",
    "    for j in i.split(','):\n",
    "        if genre_dict.get(j):\n",
    "            genre_dict[j] = genre_dict.get(j) + 1\n",
    "        else:\n",
    "            genre_dict[j] = 1"
   ]
  },
  {
   "cell_type": "code",
   "execution_count": 11,
   "metadata": {},
   "outputs": [
    {
     "data": {
      "text/plain": [
       "{'Adventure': 4065,\n",
       " 'Animation': 2662,\n",
       " 'Children': 2749,\n",
       " 'Comedy': 15955,\n",
       " 'Fantasy': 2637,\n",
       " 'Romance': 7410,\n",
       " 'Drama': 24143,\n",
       " 'Action': 7130,\n",
       " 'Crime': 5105,\n",
       " 'Thriller': 8216,\n",
       " 'Horror': 5555,\n",
       " 'Mystery': 2773,\n",
       " 'Sci-Fi': 3443,\n",
       " 'IMAX': 197,\n",
       " 'Documentary': 5117,\n",
       " 'War': 1820,\n",
       " 'Musical': 1113,\n",
       " 'Western': 1378,\n",
       " 'Film-Noir': 364,\n",
       " '(no genres listed)': 4262}"
      ]
     },
     "execution_count": 11,
     "metadata": {},
     "output_type": "execute_result"
    }
   ],
   "source": [
    "genre_dict"
   ]
  },
  {
   "cell_type": "code",
   "execution_count": 12,
   "metadata": {},
   "outputs": [
    {
     "data": {
      "text/html": [
       "<div>\n",
       "<style scoped>\n",
       "    .dataframe tbody tr th:only-of-type {\n",
       "        vertical-align: middle;\n",
       "    }\n",
       "\n",
       "    .dataframe tbody tr th {\n",
       "        vertical-align: top;\n",
       "    }\n",
       "\n",
       "    .dataframe thead th {\n",
       "        text-align: right;\n",
       "    }\n",
       "</style>\n",
       "<table border=\"1\" class=\"dataframe\">\n",
       "  <thead>\n",
       "    <tr style=\"text-align: right;\">\n",
       "      <th></th>\n",
       "      <th>title_x</th>\n",
       "      <th>plot_outline</th>\n",
       "      <th>genres</th>\n",
       "    </tr>\n",
       "  </thead>\n",
       "  <tbody>\n",
       "    <tr>\n",
       "      <th>0</th>\n",
       "      <td>Toy Story</td>\n",
       "      <td>A little boy named Andy loves to be in his roo...</td>\n",
       "      <td>Adventure,Animation,Children,Comedy,Fantasy</td>\n",
       "    </tr>\n",
       "    <tr>\n",
       "      <th>1</th>\n",
       "      <td>Jumanji</td>\n",
       "      <td>After being trapped in a jungle board game for...</td>\n",
       "      <td>Adventure,Children,Fantasy</td>\n",
       "    </tr>\n",
       "    <tr>\n",
       "      <th>2</th>\n",
       "      <td>Grumpier Old Men</td>\n",
       "      <td>Things don't seem to change much in Wabasha Co...</td>\n",
       "      <td>Comedy,Romance</td>\n",
       "    </tr>\n",
       "    <tr>\n",
       "      <th>3</th>\n",
       "      <td>Waiting to Exhale</td>\n",
       "      <td>This story based on the best selling novel by ...</td>\n",
       "      <td>Comedy,Drama,Romance</td>\n",
       "    </tr>\n",
       "    <tr>\n",
       "      <th>4</th>\n",
       "      <td>Father of the Bride Part II</td>\n",
       "      <td>In this sequel to \"Father of the Bride\", Georg...</td>\n",
       "      <td>Comedy</td>\n",
       "    </tr>\n",
       "  </tbody>\n",
       "</table>\n",
       "</div>"
      ],
      "text/plain": [
       "                       title_x  \\\n",
       "0                    Toy Story   \n",
       "1                      Jumanji   \n",
       "2             Grumpier Old Men   \n",
       "3            Waiting to Exhale   \n",
       "4  Father of the Bride Part II   \n",
       "\n",
       "                                        plot_outline  \\\n",
       "0  A little boy named Andy loves to be in his roo...   \n",
       "1  After being trapped in a jungle board game for...   \n",
       "2  Things don't seem to change much in Wabasha Co...   \n",
       "3  This story based on the best selling novel by ...   \n",
       "4  In this sequel to \"Father of the Bride\", Georg...   \n",
       "\n",
       "                                        genres  \n",
       "0  Adventure,Animation,Children,Comedy,Fantasy  \n",
       "1                   Adventure,Children,Fantasy  \n",
       "2                               Comedy,Romance  \n",
       "3                         Comedy,Drama,Romance  \n",
       "4                                       Comedy  "
      ]
     },
     "execution_count": 12,
     "metadata": {},
     "output_type": "execute_result"
    }
   ],
   "source": [
    "data.head()"
   ]
  },
  {
   "cell_type": "code",
   "execution_count": 13,
   "metadata": {},
   "outputs": [
    {
     "name": "stdout",
     "output_type": "stream",
     "text": [
      "records done : 5000/58090 in 0.0 seconds\n",
      "records done : 10000/58090 in 0.01 seconds\n",
      "records done : 15000/58090 in 0.01 seconds\n",
      "records done : 20000/58090 in 0.01 seconds\n",
      "records done : 25000/58090 in 0.01 seconds\n",
      "records done : 30000/58090 in 0.01 seconds\n",
      "records done : 35000/58090 in 0.01 seconds\n",
      "records done : 40000/58090 in 0.0 seconds\n",
      "records done : 45000/58090 in 0.01 seconds\n",
      "records done : 50000/58090 in 0.01 seconds\n",
      "records done : 55000/58090 in 0.0 seconds\n"
     ]
    }
   ],
   "source": [
    "st_time = time.time()\n",
    "print_every = 5000\n",
    "ctr = 0\n",
    "total_records = data.shape[0]\n",
    "y = []\n",
    "for genre in data.genres:\n",
    "    y.append(set(genre.split(',')))\n",
    "    ctr+=1\n",
    "    if ctr % print_every == 0:\n",
    "        print('records done : {}/{} in {} seconds'.format(ctr,total_records,round(time.time() - st_time , 2)))\n",
    "        st_time = time.time()"
   ]
  },
  {
   "cell_type": "code",
   "execution_count": 14,
   "metadata": {},
   "outputs": [],
   "source": [
    "from sklearn.preprocessing import MultiLabelBinarizer"
   ]
  },
  {
   "cell_type": "code",
   "execution_count": 15,
   "metadata": {},
   "outputs": [],
   "source": [
    "mlb = MultiLabelBinarizer()\n",
    "y_binarized = mlb.fit_transform(y)"
   ]
  },
  {
   "cell_type": "code",
   "execution_count": 16,
   "metadata": {},
   "outputs": [
    {
     "data": {
      "text/plain": [
       "(58090, 20)"
      ]
     },
     "execution_count": 16,
     "metadata": {},
     "output_type": "execute_result"
    }
   ],
   "source": [
    "y_binarized.shape"
   ]
  },
  {
   "cell_type": "code",
   "execution_count": 17,
   "metadata": {},
   "outputs": [
    {
     "data": {
      "text/plain": [
       "array(['(no genres listed)', 'Action', 'Adventure', 'Animation',\n",
       "       'Children', 'Comedy', 'Crime', 'Documentary', 'Drama', 'Fantasy',\n",
       "       'Film-Noir', 'Horror', 'IMAX', 'Musical', 'Mystery', 'Romance',\n",
       "       'Sci-Fi', 'Thriller', 'War', 'Western'], dtype=object)"
      ]
     },
     "execution_count": 17,
     "metadata": {},
     "output_type": "execute_result"
    }
   ],
   "source": [
    "mlb.classes_"
   ]
  },
  {
   "cell_type": "code",
   "execution_count": 18,
   "metadata": {},
   "outputs": [],
   "source": [
    "import nltk\n",
    "from nltk.tokenize import word_tokenize\n",
    "from nltk.corpus import stopwords\n",
    "stop = stopwords.words('english')"
   ]
  },
  {
   "cell_type": "code",
   "execution_count": 19,
   "metadata": {},
   "outputs": [],
   "source": [
    "data['plot_outline'] = data['plot_outline'].fillna('')\n",
    "data['plot_outline'] = data['plot_outline'].str.lower().replace('[^\\w\\s]','')\n",
    "data['plot_outline'] = data['plot_outline'].str.replace('\\d+','')\n",
    "data['plot_outline'] = data['plot_outline'].apply(lambda x: \" \".join(x for x in x.split() if x not in stop))"
   ]
  },
  {
   "cell_type": "code",
   "execution_count": 20,
   "metadata": {},
   "outputs": [
    {
     "data": {
      "text/plain": [
       "0    littl boy name andi love room, play toys, espe...\n",
       "1    trap jungl board game years, man-child final w...\n",
       "2    thing seem chang much wabasha county: max john...\n",
       "3    stori base best sell novel terri mcmillan foll...\n",
       "4    sequel \"father bride\", georg bank must accept ...\n",
       "Name: plot_outline, dtype: object"
      ]
     },
     "execution_count": 20,
     "metadata": {},
     "output_type": "execute_result"
    }
   ],
   "source": [
    "from nltk.stem import PorterStemmer\n",
    "st = PorterStemmer()\n",
    "data['plot_outline'] = data['plot_outline'].apply(lambda x: \" \".join([st.stem(word) for word in x.split()]))\n",
    "data['plot_outline'].head()"
   ]
  },
  {
   "cell_type": "code",
   "execution_count": 21,
   "metadata": {},
   "outputs": [
    {
     "data": {
      "text/plain": [
       "['littl boy name andi love room, play toys, especi doll name \"woody\". but, toy andi them, come life. woodi believ life (a toy) good. however, must worri andy\\' famili moving, woodi know andy\\' birthday party. woodi realiz andy\\' mother gave action figur known buzz lightyear, believ toy, quickli becom andy\\' new favorit toy. woody, consum jealousy, tri get rid buzz. then, woodi buzz lost. must find way get back andi move without them, pass ruthless toy killer, sid phillips.',\n",
       " 'trap jungl board game years, man-child final win releas it. immedi forc resum play, time, savag jungl creatur releas city. must stop them, how?',\n",
       " 'thing seem chang much wabasha county: max john still fight years, grandpa still drinks, smokes, chase women , nobody\\' abl catch fabl \"catfish hunter\", gigant catfish actual smile fishermen tri snare it. six month ago john marri new girl town (ariel), peopl begin suspect max might miss someth similar life. joy max claim left life fishing, might chang new owner bait shop.',\n",
       " \"stori base best sell novel terri mcmillan follow live four african-american women tri deal lives. friendship becom strongest bond women men, careers, famili take differ directions. often light-heart movi speak problem struggl modern women face today' world.\",\n",
       " 'sequel \"father bride\", georg bank must accept realiti daughter\\' ascens daughter wife, now, mother mean place perspect stage life. comfort famili unit start unravel mind, rapid progress mid-lif crisi future. journey regain youth act catalyst kind \"rebirth\" attitud life wife, nina, find live chang well.']"
      ]
     },
     "execution_count": 21,
     "metadata": {},
     "output_type": "execute_result"
    }
   ],
   "source": [
    "sentence_list = []\n",
    "for i in data['plot_outline'].str.lower():\n",
    "    sentence_list.append(i)\n",
    "    #break\n",
    "sentence_list[0:5]"
   ]
  },
  {
   "cell_type": "code",
   "execution_count": 22,
   "metadata": {},
   "outputs": [],
   "source": [
    "from gensim.models.doc2vec import Doc2Vec, TaggedDocument"
   ]
  },
  {
   "cell_type": "code",
   "execution_count": 23,
   "metadata": {},
   "outputs": [],
   "source": [
    "tagged_data = [TaggedDocument(words=word_tokenize(_d.lower()), tags=[str(i)]) for i, _d in enumerate(sentence_list)]"
   ]
  },
  {
   "cell_type": "code",
   "execution_count": 24,
   "metadata": {},
   "outputs": [],
   "source": [
    "max_epochs = 15\n",
    "vec_size = 256\n",
    "alpha = 0.025\n",
    "\n",
    "model = Doc2Vec(vector_size=vec_size\n",
    "                , window=7\n",
    "                , workers=os.cpu_count())"
   ]
  },
  {
   "cell_type": "code",
   "execution_count": 25,
   "metadata": {},
   "outputs": [],
   "source": [
    "model.build_vocab(tagged_data)"
   ]
  },
  {
   "cell_type": "code",
   "execution_count": 26,
   "metadata": {},
   "outputs": [
    {
     "name": "stdout",
     "output_type": "stream",
     "text": [
      "training done in 37.83 seconds\n",
      "Model Saved\n"
     ]
    }
   ],
   "source": [
    "st_time = time.time()\n",
    "\n",
    "model.train(tagged_data\n",
    "            , total_examples=model.corpus_count\n",
    "            , epochs=model.epochs)\n",
    "\n",
    "print('training done in {} seconds'.format(round(time.time() - st_time , 2)))\n",
    "model.save(\"d2v.model\")\n",
    "print(\"Model Saved\")"
   ]
  },
  {
   "cell_type": "code",
   "execution_count": 27,
   "metadata": {},
   "outputs": [
    {
     "name": "stdout",
     "output_type": "stream",
     "text": [
      "records done : 5000/58090 in 3.08 seconds\n",
      "records done : 10000/58090 in 3.18 seconds\n",
      "records done : 15000/58090 in 2.99 seconds\n",
      "records done : 20000/58090 in 2.71 seconds\n",
      "records done : 25000/58090 in 2.67 seconds\n",
      "records done : 30000/58090 in 2.47 seconds\n",
      "records done : 35000/58090 in 2.47 seconds\n",
      "records done : 40000/58090 in 2.5 seconds\n",
      "records done : 45000/58090 in 2.33 seconds\n",
      "records done : 50000/58090 in 2.13 seconds\n",
      "records done : 55000/58090 in 2.12 seconds\n"
     ]
    }
   ],
   "source": [
    "st_time = time.time()\n",
    "print_every = 5000\n",
    "ctr = 0\n",
    "total_records = data.shape[0]\n",
    "x = []\n",
    "for doc in sentence_list:\n",
    "    x.append(model.infer_vector(doc.split()))\n",
    "    ctr+=1\n",
    "    if ctr % print_every == 0:\n",
    "        print('records done : {}/{} in {} seconds'.format(ctr,total_records,round(time.time() - st_time , 2)))\n",
    "        st_time = time.time() "
   ]
  },
  {
   "cell_type": "code",
   "execution_count": 28,
   "metadata": {},
   "outputs": [
    {
     "data": {
      "text/plain": [
       "(58090, 256)"
      ]
     },
     "execution_count": 28,
     "metadata": {},
     "output_type": "execute_result"
    }
   ],
   "source": [
    "x = np.array(x)\n",
    "x.shape"
   ]
  },
  {
   "cell_type": "code",
   "execution_count": 29,
   "metadata": {},
   "outputs": [
    {
     "data": {
      "text/plain": [
       "(58090, 20)"
      ]
     },
     "execution_count": 29,
     "metadata": {},
     "output_type": "execute_result"
    }
   ],
   "source": [
    "y = np.array(y_binarized)\n",
    "y.shape"
   ]
  },
  {
   "cell_type": "code",
   "execution_count": 30,
   "metadata": {},
   "outputs": [
    {
     "name": "stdout",
     "output_type": "stream",
     "text": [
      "x_train :(52281, 256)\n",
      "y_train :(52281, 20)\n",
      "x_val :(5809, 256)\n",
      "y_val :(5809, 20)\n"
     ]
    }
   ],
   "source": [
    "from sklearn.model_selection import train_test_split\n",
    "x_train, x_val, y_train, y_val = train_test_split(x, y, test_size=0.1, random_state=7)\n",
    "print('x_train :{}'.format(x_train.shape))\n",
    "print('y_train :{}'.format(y_train.shape))\n",
    "print('x_val :{}'.format(x_val.shape))\n",
    "print('y_val :{}'.format(y_val.shape))"
   ]
  },
  {
   "cell_type": "code",
   "execution_count": 31,
   "metadata": {},
   "outputs": [
    {
     "name": "stdout",
     "output_type": "stream",
     "text": [
      "torch.Size([52281, 256])\n",
      "<class 'torch.utils.data.dataset.TensorDataset'>\n",
      "<class 'torch.utils.data.dataloader.DataLoader'>\n"
     ]
    }
   ],
   "source": [
    "batch_size = 512\n",
    "#Convert input data to tensors\n",
    "x_train_data_tensor = torch.tensor(x_train)\n",
    "y_train_data_tensor = torch.tensor(y_train)\n",
    "print(x_train_data_tensor.shape)\n",
    "\n",
    "#Convert tensors to type Dataset\n",
    "train_dataset = torch.utils.data.TensorDataset(x_train_data_tensor ,y_train_data_tensor)\n",
    "print(type(train_dataset))\n",
    "\n",
    "#Convert datsets to Dataloader for loading batches\n",
    "train_dataset = DataLoader(train_dataset, batch_size=batch_size, shuffle=True, num_workers=0)\n",
    "print(type(train_dataset))\n",
    "\n",
    "torch.save(train_dataset, 'train_dataset.dataloader')"
   ]
  },
  {
   "cell_type": "code",
   "execution_count": 32,
   "metadata": {},
   "outputs": [
    {
     "name": "stdout",
     "output_type": "stream",
     "text": [
      "torch.Size([5809, 256])\n",
      "<class 'torch.utils.data.dataset.TensorDataset'>\n"
     ]
    }
   ],
   "source": [
    "#Convert input data to tensors\n",
    "x_val_data_tensor = torch.tensor(x_val)\n",
    "y_val_data_tensor = torch.tensor(y_val)\n",
    "print(x_val_data_tensor.shape)\n",
    "\n",
    "#Convert tensors to type Dataset\n",
    "val_dataset = torch.utils.data.TensorDataset(x_val_data_tensor ,y_val_data_tensor)\n",
    "print(type(val_dataset))\n",
    "\n",
    "#Convert datsets to Dataloader for loading batches\n",
    "val_dataset = DataLoader(val_dataset, batch_size=batch_size, shuffle=True, num_workers=0)\n",
    "type(val_dataset)\n",
    "\n",
    "torch.save(val_dataset, 'val_dataset.dataloader')"
   ]
  },
  {
   "cell_type": "code",
   "execution_count": 33,
   "metadata": {},
   "outputs": [
    {
     "name": "stdout",
     "output_type": "stream",
     "text": [
      "CUDA available using GPU\n"
     ]
    }
   ],
   "source": [
    "if torch.cuda.is_available():\n",
    "    device = torch.device('cuda')\n",
    "    print('CUDA available using GPU')\n",
    "else :\n",
    "    device = torch.device('cpu')\n",
    "    print('CUDA NOT available using CPU')"
   ]
  },
  {
   "cell_type": "code",
   "execution_count": 34,
   "metadata": {},
   "outputs": [],
   "source": [
    "#Define Network Dimensions\n",
    "output_size = y.shape[1]\n",
    "batch_size = batch_size\n",
    "drop_out_probability = 0.5\n",
    "input_size = vec_size\n",
    "hidden_size = input_size"
   ]
  },
  {
   "cell_type": "code",
   "execution_count": 35,
   "metadata": {},
   "outputs": [],
   "source": [
    "#Define the Network\n",
    "class Classifier(nn.Module):\n",
    "    def __init__(self , input_size , hidden_size , output_size):\n",
    "        super(Classifier ,self).__init__()\n",
    "        \n",
    "        self.fc_input_size = input_size\n",
    "        self.fc_hidden_size = hidden_size\n",
    "        self.fc_output_size = output_size\n",
    "        \n",
    "        \n",
    "        # Inputs to hidden layer linear transformation\n",
    "        self.fc1 = nn.Linear(in_features = input_size , out_features = hidden_size)\n",
    "        self.fc2 = nn.Linear(in_features = input_size , out_features = hidden_size)\n",
    "        self.dropout = nn.Dropout(p = 0.33)\n",
    "        \n",
    "        # Output layer, 10 units - one for each digit\n",
    "        self.out = nn.Linear(in_features = hidden_size , out_features = output_size)\n",
    "        \n",
    "        \n",
    "    def forward(self,x):\n",
    "        \n",
    "        #Pass output of BERT through Fully connected layer\n",
    "        x = self.fc1(x)\n",
    "        x = torch.relu(x)\n",
    "        \n",
    "        x = self.dropout(x)\n",
    "\n",
    "        x = self.fc2(x)\n",
    "        x = torch.relu(x)\n",
    "        \n",
    "        #Output layer\n",
    "        x = self.out(x)\n",
    "        \n",
    "        return torch.sigmoid(x)\n",
    "    \n",
    "clf = Classifier(input_size = input_size \n",
    "                            , hidden_size = hidden_size \n",
    "                            , output_size = output_size )\n",
    "\n",
    "#clf.double()"
   ]
  },
  {
   "cell_type": "code",
   "execution_count": 36,
   "metadata": {},
   "outputs": [
    {
     "data": {
      "text/plain": [
       "tensor([1, 2], device='cuda:0')"
      ]
     },
     "execution_count": 36,
     "metadata": {},
     "output_type": "execute_result"
    }
   ],
   "source": [
    "d = torch.tensor([1,2])\n",
    "d.cuda()"
   ]
  },
  {
   "cell_type": "code",
   "execution_count": 37,
   "metadata": {},
   "outputs": [],
   "source": [
    "#device = torch.device('cpu')\n",
    "x, y = next(iter(train_dataset))\n",
    "x = x.to(device)\n",
    "y = y.float().to(device)\n",
    "clf.to(device)\n",
    "y_pred = clf(x)\n",
    "\n",
    "loss_fn = nn.BCELoss()\n",
    "loss = loss_fn(y_pred , y)"
   ]
  },
  {
   "cell_type": "code",
   "execution_count": 38,
   "metadata": {},
   "outputs": [
    {
     "data": {
      "text/plain": [
       "device(type='cuda')"
      ]
     },
     "execution_count": 38,
     "metadata": {},
     "output_type": "execute_result"
    }
   ],
   "source": [
    "device"
   ]
  },
  {
   "cell_type": "code",
   "execution_count": 39,
   "metadata": {},
   "outputs": [
    {
     "name": "stdout",
     "output_type": "stream",
     "text": [
      "epoch : 0 \t batch number : 0 \t train loss : 0.6967868208885193 in 0.03 secs \n",
      "epoch : 0 \t batch number : 10 \t train loss : 0.6599118167703802 in 0.28 secs \n",
      "epoch : 0 \t batch number : 20 \t train loss : 0.5745129244668143 in 0.26 secs \n",
      "epoch : 0 \t batch number : 30 \t train loss : 0.49845558404922485 in 0.25 secs \n",
      "epoch : 0 \t batch number : 40 \t train loss : 0.4519929609647611 in 0.25 secs \n",
      "epoch : 0 \t batch number : 50 \t train loss : 0.4185724720066669 in 0.27 secs \n",
      "epoch : 0 \t batch number : 60 \t train loss : 0.39426906089313696 in 0.31 secs \n",
      "epoch : 0 \t batch number : 70 \t train loss : 0.3755704983019493 in 0.27 secs \n",
      "epoch : 0 \t batch number : 80 \t train loss : 0.36099037528038025 in 0.25 secs \n",
      "epoch : 0 \t batch number : 90 \t train loss : 0.3498890724155929 in 0.26 secs \n",
      "epoch : 0 \t batch number : 100 \t train loss : 0.3404960110045896 in 0.23 secs \n",
      "epoch : 0\t train_loss :0.33882986081456673\t validation loss : 0.25853998338182765\n",
      "epoch : 0 \t train loss : 0.25159233808517456 \t time required : 0.21741986274719238\n",
      "\n",
      "epoch : 1 \t batch number : 0 \t train loss : 0.2501625716686249 in 0.03 secs \n",
      "epoch : 1 \t batch number : 10 \t train loss : 0.25619263269684533 in 0.29 secs \n",
      "epoch : 1 \t batch number : 20 \t train loss : 0.25687014205115183 in 0.27 secs \n",
      "epoch : 1 \t batch number : 30 \t train loss : 0.2568792643085603 in 0.25 secs \n",
      "epoch : 1 \t batch number : 40 \t train loss : 0.2561182895811593 in 0.25 secs \n",
      "epoch : 1 \t batch number : 50 \t train loss : 0.25504939199662674 in 0.26 secs \n",
      "epoch : 1 \t batch number : 60 \t train loss : 0.25406569169193016 in 0.26 secs \n",
      "epoch : 1 \t batch number : 70 \t train loss : 0.2532020091590747 in 0.29 secs \n",
      "epoch : 1 \t batch number : 80 \t train loss : 0.2519211086594028 in 0.25 secs \n",
      "epoch : 1 \t batch number : 90 \t train loss : 0.2510157440389906 in 0.23 secs \n",
      "epoch : 1 \t batch number : 100 \t train loss : 0.25012146143039854 in 0.28 secs \n",
      "epoch : 1\t train_loss :0.2498893578654354\t validation loss : 0.23673671980698904\n",
      "epoch : 1 \t train loss : 0.23765848577022552 \t time required : 0.18746495246887207\n",
      "\n",
      "epoch : 2 \t batch number : 0 \t train loss : 0.23084722459316254 in 0.03 secs \n",
      "epoch : 2 \t batch number : 10 \t train loss : 0.23456489904360336 in 0.41 secs \n",
      "epoch : 2 \t batch number : 20 \t train loss : 0.2343254763455618 in 0.27 secs \n",
      "epoch : 2 \t batch number : 30 \t train loss : 0.2338511093008903 in 0.24 secs \n",
      "epoch : 2 \t batch number : 40 \t train loss : 0.23362431220892 in 0.26 secs \n",
      "epoch : 2 \t batch number : 50 \t train loss : 0.2333004489248874 in 0.26 secs \n",
      "epoch : 2 \t batch number : 60 \t train loss : 0.2328343879981119 in 0.24 secs \n",
      "epoch : 2 \t batch number : 70 \t train loss : 0.23171429273108363 in 0.28 secs \n",
      "epoch : 2 \t batch number : 80 \t train loss : 0.2312372860349255 in 0.26 secs \n",
      "epoch : 2 \t batch number : 90 \t train loss : 0.23082352699814263 in 0.26 secs \n",
      "epoch : 2 \t batch number : 100 \t train loss : 0.23059089924439347 in 0.28 secs \n",
      "epoch : 2\t train_loss :0.23061351738508465\t validation loss : 0.22420224050680795\n",
      "epoch : 2 \t train loss : 0.22940777242183685 \t time required : 0.18350863456726074\n",
      "\n",
      "epoch : 3 \t batch number : 0 \t train loss : 0.22174648940563202 in 0.02 secs \n",
      "epoch : 3 \t batch number : 10 \t train loss : 0.22790822251276535 in 0.24 secs \n",
      "epoch : 3 \t batch number : 20 \t train loss : 0.22810564083712442 in 0.23 secs \n",
      "epoch : 3 \t batch number : 30 \t train loss : 0.2266876894620157 in 0.28 secs \n",
      "epoch : 3 \t batch number : 40 \t train loss : 0.22693591328655802 in 0.22 secs \n",
      "epoch : 3 \t batch number : 50 \t train loss : 0.22702220111500984 in 0.27 secs \n",
      "epoch : 3 \t batch number : 60 \t train loss : 0.22692531762553042 in 0.26 secs \n",
      "epoch : 3 \t batch number : 70 \t train loss : 0.22631392281659893 in 0.23 secs \n",
      "epoch : 3 \t batch number : 80 \t train loss : 0.22642650427641692 in 0.27 secs \n",
      "epoch : 3 \t batch number : 90 \t train loss : 0.2263536710333038 in 0.24 secs \n",
      "epoch : 3 \t batch number : 100 \t train loss : 0.22615006743091168 in 0.25 secs \n",
      "epoch : 3\t train_loss :0.2259453391855203\t validation loss : 0.2243203011651834\n",
      "epoch : 3 \t train loss : 0.21996770799160004 \t time required : 0.18472552299499512\n",
      "\n",
      "epoch : 4 \t batch number : 0 \t train loss : 0.22861675918102264 in 0.03 secs \n",
      "epoch : 4 \t batch number : 10 \t train loss : 0.2263989042152058 in 0.24 secs \n",
      "epoch : 4 \t batch number : 20 \t train loss : 0.2252016244899659 in 0.27 secs \n",
      "epoch : 4 \t batch number : 30 \t train loss : 0.22554770448515493 in 0.27 secs \n",
      "epoch : 4 \t batch number : 40 \t train loss : 0.22533595343915427 in 0.27 secs \n",
      "epoch : 4 \t batch number : 50 \t train loss : 0.225358750890283 in 0.26 secs \n",
      "epoch : 4 \t batch number : 60 \t train loss : 0.22544631264248832 in 0.25 secs \n",
      "epoch : 4 \t batch number : 70 \t train loss : 0.22532968537908205 in 0.24 secs \n",
      "epoch : 4 \t batch number : 80 \t train loss : 0.22515009582778553 in 0.28 secs \n",
      "epoch : 4 \t batch number : 90 \t train loss : 0.2247787307906937 in 0.22 secs \n",
      "epoch : 4 \t batch number : 100 \t train loss : 0.22487106860274136 in 0.27 secs \n",
      "epoch : 4\t train_loss :0.22491678696812936\t validation loss : 0.22141110027829805\n",
      "epoch : 4 \t train loss : 0.22123752534389496 \t time required : 0.1874680519104004\n",
      "\n",
      "epoch : 5 \t batch number : 0 \t train loss : 0.2284482717514038 in 0.05 secs \n",
      "epoch : 5 \t batch number : 10 \t train loss : 0.22259273312308572 in 0.37 secs \n",
      "epoch : 5 \t batch number : 20 \t train loss : 0.2231977539403098 in 0.25 secs \n",
      "epoch : 5 \t batch number : 30 \t train loss : 0.22391445261816825 in 0.27 secs \n",
      "epoch : 5 \t batch number : 40 \t train loss : 0.22381155738016453 in 0.29 secs \n",
      "epoch : 5 \t batch number : 50 \t train loss : 0.223609830234565 in 0.26 secs \n",
      "epoch : 5 \t batch number : 60 \t train loss : 0.22364508275125847 in 0.25 secs \n",
      "epoch : 5 \t batch number : 70 \t train loss : 0.22347508223963455 in 0.27 secs \n",
      "epoch : 5 \t batch number : 80 \t train loss : 0.22317910856670803 in 0.27 secs \n",
      "epoch : 5 \t batch number : 90 \t train loss : 0.22303292761137197 in 0.24 secs \n",
      "epoch : 5 \t batch number : 100 \t train loss : 0.22292372259763207 in 0.24 secs \n",
      "epoch : 5\t train_loss :0.2228877077114235\t validation loss : 0.2213668910165628\n",
      "epoch : 5 \t train loss : 0.23411722481250763 \t time required : 0.19448113441467285\n",
      "\n",
      "epoch : 6 \t batch number : 0 \t train loss : 0.21649542450904846 in 0.03 secs \n",
      "epoch : 6 \t batch number : 10 \t train loss : 0.21864645047621292 in 0.27 secs \n",
      "epoch : 6 \t batch number : 20 \t train loss : 0.22092273050830477 in 0.23 secs \n",
      "epoch : 6 \t batch number : 30 \t train loss : 0.22208508512666147 in 0.25 secs \n",
      "epoch : 6 \t batch number : 40 \t train loss : 0.22185145209475263 in 0.28 secs \n",
      "epoch : 6 \t batch number : 50 \t train loss : 0.22196581492237016 in 0.26 secs \n",
      "epoch : 6 \t batch number : 60 \t train loss : 0.2221533079616359 in 0.26 secs \n",
      "epoch : 6 \t batch number : 70 \t train loss : 0.22227612557545515 in 0.28 secs \n",
      "epoch : 6 \t batch number : 80 \t train loss : 0.22212075764014397 in 0.29 secs \n",
      "epoch : 6 \t batch number : 90 \t train loss : 0.22186163870187905 in 0.26 secs \n",
      "epoch : 6 \t batch number : 100 \t train loss : 0.22178026251863725 in 0.27 secs \n",
      "epoch : 6\t train_loss :0.2217211600356889\t validation loss : 0.21914498383800188\n",
      "epoch : 6 \t train loss : 0.2217528373003006 \t time required : 0.21869850158691406\n",
      "\n",
      "epoch : 7 \t batch number : 0 \t train loss : 0.21209397912025452 in 0.03 secs \n",
      "epoch : 7 \t batch number : 10 \t train loss : 0.2187504158778624 in 0.28 secs \n",
      "epoch : 7 \t batch number : 20 \t train loss : 0.22074100162301744 in 0.27 secs \n",
      "epoch : 7 \t batch number : 30 \t train loss : 0.22042568172177962 in 0.25 secs \n",
      "epoch : 7 \t batch number : 40 \t train loss : 0.22077070540044366 in 0.23 secs \n",
      "epoch : 7 \t batch number : 50 \t train loss : 0.22080809549958097 in 0.27 secs \n",
      "epoch : 7 \t batch number : 60 \t train loss : 0.2206936815723044 in 0.25 secs \n",
      "epoch : 7 \t batch number : 70 \t train loss : 0.22062493084182203 in 0.28 secs \n",
      "epoch : 7 \t batch number : 80 \t train loss : 0.2207871072086287 in 0.31 secs \n",
      "epoch : 7 \t batch number : 90 \t train loss : 0.22094344274028316 in 0.25 secs \n",
      "epoch : 7 \t batch number : 100 \t train loss : 0.22100747634868811 in 0.26 secs \n",
      "patience_ctr : 1\n",
      "\n",
      "epoch : 7\t train_loss :0.22090482523719085\t validation loss : 0.22313659265637398\n",
      "epoch : 7 \t train loss : 0.21685968339443207 \t time required : 0.21741747856140137\n",
      "\n",
      "epoch : 8 \t batch number : 0 \t train loss : 0.22062702476978302 in 0.03 secs \n"
     ]
    },
    {
     "name": "stdout",
     "output_type": "stream",
     "text": [
      "epoch : 8 \t batch number : 10 \t train loss : 0.22100979767062448 in 0.4 secs \n",
      "epoch : 8 \t batch number : 20 \t train loss : 0.2218299408753713 in 0.26 secs \n",
      "epoch : 8 \t batch number : 30 \t train loss : 0.22189250155802695 in 0.25 secs \n",
      "epoch : 8 \t batch number : 40 \t train loss : 0.22085415917198833 in 0.27 secs \n",
      "epoch : 8 \t batch number : 50 \t train loss : 0.2213297153220457 in 0.25 secs \n",
      "epoch : 8 \t batch number : 60 \t train loss : 0.22145060779618436 in 0.26 secs \n",
      "epoch : 8 \t batch number : 70 \t train loss : 0.22137017820922422 in 0.25 secs \n",
      "epoch : 8 \t batch number : 80 \t train loss : 0.2211551309367757 in 0.24 secs \n",
      "epoch : 8 \t batch number : 90 \t train loss : 0.22117809934930488 in 0.25 secs \n",
      "epoch : 8 \t batch number : 100 \t train loss : 0.22110775732758023 in 0.26 secs \n",
      "epoch : 8\t train_loss :0.22110717172182878\t validation loss : 0.21861025070150694\n",
      "epoch : 8 \t train loss : 0.22270403802394867 \t time required : 0.23431968688964844\n",
      "\n",
      "epoch : 9 \t batch number : 0 \t train loss : 0.21184590458869934 in 0.02 secs \n",
      "epoch : 9 \t batch number : 10 \t train loss : 0.22036369280381637 in 0.28 secs \n",
      "epoch : 9 \t batch number : 20 \t train loss : 0.2204397732303256 in 0.26 secs \n",
      "epoch : 9 \t batch number : 30 \t train loss : 0.21975518714997075 in 0.29 secs \n",
      "epoch : 9 \t batch number : 40 \t train loss : 0.21902543560760776 in 0.25 secs \n",
      "epoch : 9 \t batch number : 50 \t train loss : 0.2190176555339028 in 0.28 secs \n",
      "epoch : 9 \t batch number : 60 \t train loss : 0.2194340803095552 in 0.26 secs \n",
      "epoch : 9 \t batch number : 70 \t train loss : 0.21936133398976124 in 0.25 secs \n",
      "epoch : 9 \t batch number : 80 \t train loss : 0.21981697961872007 in 0.28 secs \n",
      "epoch : 9 \t batch number : 90 \t train loss : 0.21958753073608483 in 0.28 secs \n",
      "epoch : 9 \t batch number : 100 \t train loss : 0.2196804062269702 in 0.24 secs \n",
      "patience_ctr : 1\n",
      "\n",
      "epoch : 9\t train_loss :0.21981019389282153\t validation loss : 0.2200081186989943\n",
      "epoch : 9 \t train loss : 0.22955994307994843 \t time required : 0.19049072265625\n",
      "\n",
      "epoch : 10 \t batch number : 0 \t train loss : 0.21221809089183807 in 0.03 secs \n",
      "epoch : 10 \t batch number : 10 \t train loss : 0.2200546535578641 in 0.25 secs \n",
      "epoch : 10 \t batch number : 20 \t train loss : 0.2190384552592323 in 0.26 secs \n",
      "epoch : 10 \t batch number : 30 \t train loss : 0.21952341929558786 in 0.25 secs \n",
      "epoch : 10 \t batch number : 40 \t train loss : 0.2190532502604694 in 0.25 secs \n",
      "epoch : 10 \t batch number : 50 \t train loss : 0.21890159915475285 in 0.25 secs \n",
      "epoch : 10 \t batch number : 60 \t train loss : 0.21842784910905558 in 0.3 secs \n",
      "epoch : 10 \t batch number : 70 \t train loss : 0.21833286990582104 in 0.42 secs \n",
      "epoch : 10 \t batch number : 80 \t train loss : 0.218107729230398 in 0.25 secs \n",
      "epoch : 10 \t batch number : 90 \t train loss : 0.21804779243993236 in 0.27 secs \n",
      "epoch : 10 \t batch number : 100 \t train loss : 0.21809386616886253 in 0.3 secs \n",
      "patience_ctr : 2\n",
      "\n",
      "early stoppping since valid_loss > train_loss\n"
     ]
    }
   ],
   "source": [
    "epochs = 20\n",
    "loss_fn = nn.BCELoss()\n",
    "\n",
    "learning_rate = 0.001\n",
    "\n",
    "optimizer = torch.optim.Adam(clf.parameters(), lr = learning_rate)\n",
    "print_every = 10\n",
    "clf.to(device)\n",
    "\n",
    "\n",
    "# to track the average training loss per epoch as the model trains\n",
    "avg_train_losses = []\n",
    "# to track the average validation loss per epoch as the model trains\n",
    "avg_valid_losses = [] \n",
    "patience_ctr = 0\n",
    "patience = 2\n",
    "    \n",
    "for epoch in range(0,epochs):\n",
    "    \n",
    "    # to track the training loss as the model trains\n",
    "    train_losses = []\n",
    "    # to track the validation loss as the model trains\n",
    "    valid_losses = []\n",
    "\n",
    "    batch = 0\n",
    "    #loss = 0\n",
    "    start_time = time.time()\n",
    "    clf.train()\n",
    "    for i in train_dataset:\n",
    "        x, y = next(iter(train_dataset))\n",
    "        x = x.to(device)\n",
    "        #y = y.to(device)\n",
    "        y = y.float().to(device)\n",
    "        \n",
    "        optimizer.zero_grad() #remove previous gradients\n",
    "        y_pred = clf(x)\n",
    "        \n",
    "        #y_pred = y_pred.unsqueeze(0)\n",
    "        loss = loss_fn(y_pred , y)\n",
    "\n",
    "        loss.backward() #backpropogate loss\n",
    "        optimizer.step()\n",
    "        \n",
    "        train_losses.append(loss.item())\n",
    "        \n",
    "        if (batch % print_every == 0):\n",
    "            print('epoch : {} \\t batch number : {} \\t train loss : {} in {} secs '.format(epoch, batch,np.average(train_losses),round(time.time() - start_time,2)))\n",
    "            start_time = time.time()\n",
    "            \n",
    "        batch +=1\n",
    "\n",
    "        #Calculate Validation loss\n",
    "    val_acc = 0\n",
    "    clf = clf.eval() #set Network to evaluate\n",
    "    for j in val_dataset :\n",
    "        x_v, y_v = next(iter(val_dataset))\n",
    "        x_v = x_v.to(device)\n",
    "        y_v = y_v.float().to(device)\n",
    "        \n",
    "        y_pred = clf(x_v)\n",
    "        loss = loss_fn(y_pred , y_v)\n",
    "        \n",
    "        valid_losses.append(loss.item())\n",
    "    \n",
    "    # calculate average loss over an epoch\n",
    "    train_loss = np.average(train_losses)\n",
    "    valid_loss = np.average(valid_losses)\n",
    "    avg_train_losses.append(train_loss)\n",
    "    avg_valid_losses.append(valid_loss)\n",
    "\n",
    "    #Early stopping\n",
    "    if valid_loss > train_loss:\n",
    "        patience_ctr +=1\n",
    "        print('patience_ctr : {}\\n'.format(patience_ctr))\n",
    "        if patience_ctr >= patience:\n",
    "            print('early stoppping since valid_loss > train_loss')\n",
    "            break\n",
    "    else :\n",
    "        patience_ctr = 0\n",
    "    \n",
    "    epoch_len = len(str(epochs))\n",
    "    print('epoch : {}\\t train_loss :{}\\t validation loss : {}'.format(epoch , train_loss , valid_loss))\n",
    "    \n",
    "            \n",
    "    print('epoch : {} \\t train loss : {} \\t time required : {}\\n'.format(epoch, loss.item(),(time.time() - start_time)))\n"
   ]
  },
  {
   "cell_type": "code",
   "execution_count": 40,
   "metadata": {},
   "outputs": [],
   "source": [
    "x_v, y_v = next(iter(val_dataset))\n",
    "x_v = x_v.to(device)\n",
    "y_v = y_v.float().to(device)\n",
    "y_pred = clf(x_v)"
   ]
  },
  {
   "cell_type": "code",
   "execution_count": 41,
   "metadata": {},
   "outputs": [
    {
     "data": {
      "text/plain": [
       "tensor([0.1167, 0.0872, 0.0492, 0.0482, 0.0373, 0.2733, 0.0630, 0.1198, 0.3640,\n",
       "        0.0331, 0.0018, 0.0599, 0.0015, 0.0088, 0.0240, 0.0775, 0.0427, 0.0965,\n",
       "        0.0198, 0.0125], device='cuda:0', grad_fn=<SelectBackward>)"
      ]
     },
     "execution_count": 41,
     "metadata": {},
     "output_type": "execute_result"
    }
   ],
   "source": [
    "y_pred[0]"
   ]
  },
  {
   "cell_type": "code",
   "execution_count": 42,
   "metadata": {},
   "outputs": [
    {
     "data": {
      "text/plain": [
       "tensor([[0., 0., 0.,  ..., 0., 0., 0.],\n",
       "        [0., 0., 0.,  ..., 0., 0., 0.],\n",
       "        [0., 0., 0.,  ..., 0., 0., 0.],\n",
       "        ...,\n",
       "        [0., 0., 0.,  ..., 0., 0., 0.],\n",
       "        [0., 0., 0.,  ..., 1., 0., 0.],\n",
       "        [0., 0., 0.,  ..., 0., 0., 0.]], device='cuda:0')"
      ]
     },
     "execution_count": 42,
     "metadata": {},
     "output_type": "execute_result"
    }
   ],
   "source": [
    "(y_pred[:] > 0.5).float()"
   ]
  },
  {
   "cell_type": "code",
   "execution_count": 43,
   "metadata": {},
   "outputs": [
    {
     "data": {
      "text/plain": [
       "tensor([[0., 0., 0.,  ..., 0., 0., 0.],\n",
       "        [0., 0., 0.,  ..., 1., 0., 0.],\n",
       "        [0., 0., 0.,  ..., 0., 0., 0.],\n",
       "        ...,\n",
       "        [0., 0., 0.,  ..., 0., 0., 0.],\n",
       "        [0., 0., 0.,  ..., 0., 0., 0.],\n",
       "        [0., 0., 0.,  ..., 0., 0., 0.]], device='cuda:0')"
      ]
     },
     "execution_count": 43,
     "metadata": {},
     "output_type": "execute_result"
    }
   ],
   "source": [
    "y_v"
   ]
  },
  {
   "cell_type": "code",
   "execution_count": 44,
   "metadata": {},
   "outputs": [
    {
     "name": "stdout",
     "output_type": "stream",
     "text": [
      "10\n",
      "time taken for prediction :0.15300703048706055 seconds\n"
     ]
    }
   ],
   "source": [
    "#Predict on Evaluation set\n",
    "st_time = time.time()\n",
    "ctr = 0\n",
    "print_every = 10\n",
    "clf = clf.float()\n",
    "clf = clf.to(device)\n",
    "clf = clf.eval()\n",
    "for j in val_dataset :\n",
    "    x_v, y_v = next(iter(val_dataset))\n",
    "    x_v = x_v.to(device)\n",
    "    y_v = y_v.float().to(device)\n",
    "\n",
    "    op = (clf(x_v)[:] > 0.5).float()\n",
    "    if ctr == 0:\n",
    "        y_pred = op\n",
    "        y_actual = y_v\n",
    "    else:\n",
    "        y_pred = torch.cat((y_pred , op) , dim = 0)\n",
    "        y_actual = torch.cat((y_actual , y_v) , dim = 0)\n",
    "   \n",
    "    ctr += 1\n",
    "   \n",
    "    if ctr % print_every == 0:\n",
    "        print(ctr)\n",
    "print('time taken for prediction :{} seconds'.format(time.time() - st_time ))"
   ]
  },
  {
   "cell_type": "code",
   "execution_count": 45,
   "metadata": {},
   "outputs": [
    {
     "data": {
      "text/plain": [
       "torch.Size([6144, 20])"
      ]
     },
     "execution_count": 45,
     "metadata": {},
     "output_type": "execute_result"
    }
   ],
   "source": [
    "y_pred.shape"
   ]
  },
  {
   "cell_type": "code",
   "execution_count": 46,
   "metadata": {},
   "outputs": [
    {
     "data": {
      "text/plain": [
       "torch.Size([6144, 20])"
      ]
     },
     "execution_count": 46,
     "metadata": {},
     "output_type": "execute_result"
    }
   ],
   "source": [
    "y_actual.shape"
   ]
  },
  {
   "cell_type": "code",
   "execution_count": 47,
   "metadata": {},
   "outputs": [
    {
     "data": {
      "text/plain": [
       "tensor([[0., 0., 0.,  ..., 0., 0., 0.],\n",
       "        [0., 0., 0.,  ..., 0., 0., 0.],\n",
       "        [0., 0., 0.,  ..., 0., 0., 0.],\n",
       "        ...,\n",
       "        [0., 1., 1.,  ..., 0., 0., 0.],\n",
       "        [0., 0., 0.,  ..., 0., 0., 0.],\n",
       "        [0., 0., 0.,  ..., 0., 0., 0.]], device='cuda:0')"
      ]
     },
     "execution_count": 47,
     "metadata": {},
     "output_type": "execute_result"
    }
   ],
   "source": [
    "y_pred"
   ]
  },
  {
   "cell_type": "code",
   "execution_count": 48,
   "metadata": {},
   "outputs": [
    {
     "name": "stderr",
     "output_type": "stream",
     "text": [
      "c:\\python\\python37\\lib\\site-packages\\sklearn\\metrics\\classification.py:1439: UndefinedMetricWarning: Recall is ill-defined and being set to 0.0 due to no true samples.\n",
      "  'recall', 'true', average, warn_for)\n",
      "c:\\python\\python37\\lib\\site-packages\\sklearn\\metrics\\classification.py:1439: UndefinedMetricWarning: F-score is ill-defined and being set to 0.0 due to no true samples.\n",
      "  'recall', 'true', average, warn_for)\n"
     ]
    }
   ],
   "source": [
    "acc = []\n",
    "prec = []\n",
    "rec = []\n",
    "f1 = []\n",
    "for i in range(0,y_actual.shape[0]):\n",
    "    acc.append(accuracy_score(y_pred[i].cpu().numpy() , y_actual[i].cpu().numpy()))\n",
    "    prec.append(precision_score(y_pred[i].cpu().numpy() , y_actual[i].cpu().numpy()))\n",
    "    rec.append(recall_score(y_pred[i].cpu().numpy() , y_actual[i].cpu().numpy()))\n",
    "    f1.append(f1_score(y_pred[i].cpu().numpy() , y_actual[i].cpu().numpy()))"
   ]
  },
  {
   "cell_type": "code",
   "execution_count": 49,
   "metadata": {},
   "outputs": [
    {
     "name": "stdout",
     "output_type": "stream",
     "text": [
      "Mean Accuracy : 0.9171305338541255\n",
      "Mean Prescision : 0.24621349516369007\n",
      "Mean Recall : 0.3448350694444444\n",
      "Mean F1 Score : 0.27065778459821693\n"
     ]
    }
   ],
   "source": [
    "print('Mean Accuracy : {}'.format(sum(acc)/len(acc)))\n",
    "print('Mean Prescision : {}'.format(sum(prec)/len(prec)))\n",
    "print('Mean Recall : {}'.format(sum(rec)/len(rec)))\n",
    "print('Mean F1 Score : {}'.format(sum(f1)/len(f1)))"
   ]
  },
  {
   "cell_type": "code",
   "execution_count": 60,
   "metadata": {},
   "outputs": [
    {
     "name": "stdout",
     "output_type": "stream",
     "text": [
      "Movie Name : Boomerang\n",
      "Pred Genres :('Drama',)\n",
      "Actual genres : Drama\n"
     ]
    }
   ],
   "source": [
    "actual_genres = data[['title_x','genres']].set_index('title_x').to_dict()['genres']\n",
    "idx = 120\n",
    "movie_name = data.title_x[idx]\n",
    "embedding = model.infer_vector(sentence_list[idx].split())\n",
    "embedding = torch.tensor(embedding)\n",
    "embedding = embedding.to(device)\n",
    "prediction = (clf(embedding)[:] > 0.5).float()\n",
    "pred_genres = mlb.inverse_transform(prediction.unsqueeze(0).cpu().numpy())\n",
    "print('Movie Name : {}\\nPred Genres :{}\\nActual genres : {}'.format(movie_name , str(pred_genres[0]) , actual_genres[movie_name]))"
   ]
  },
  {
   "cell_type": "code",
   "execution_count": 52,
   "metadata": {},
   "outputs": [
    {
     "data": {
      "text/html": [
       "<div>\n",
       "<style scoped>\n",
       "    .dataframe tbody tr th:only-of-type {\n",
       "        vertical-align: middle;\n",
       "    }\n",
       "\n",
       "    .dataframe tbody tr th {\n",
       "        vertical-align: top;\n",
       "    }\n",
       "\n",
       "    .dataframe thead th {\n",
       "        text-align: right;\n",
       "    }\n",
       "</style>\n",
       "<table border=\"1\" class=\"dataframe\">\n",
       "  <thead>\n",
       "    <tr style=\"text-align: right;\">\n",
       "      <th></th>\n",
       "      <th>title_x</th>\n",
       "      <th>plot_outline</th>\n",
       "      <th>genres</th>\n",
       "    </tr>\n",
       "  </thead>\n",
       "  <tbody>\n",
       "    <tr>\n",
       "      <th>0</th>\n",
       "      <td>Toy Story</td>\n",
       "      <td>littl boy name andi love room, play toys, espe...</td>\n",
       "      <td>Adventure,Animation,Children,Comedy,Fantasy</td>\n",
       "    </tr>\n",
       "    <tr>\n",
       "      <th>1</th>\n",
       "      <td>Jumanji</td>\n",
       "      <td>trap jungl board game years, man-child final w...</td>\n",
       "      <td>Adventure,Children,Fantasy</td>\n",
       "    </tr>\n",
       "    <tr>\n",
       "      <th>2</th>\n",
       "      <td>Grumpier Old Men</td>\n",
       "      <td>thing seem chang much wabasha county: max john...</td>\n",
       "      <td>Comedy,Romance</td>\n",
       "    </tr>\n",
       "    <tr>\n",
       "      <th>3</th>\n",
       "      <td>Waiting to Exhale</td>\n",
       "      <td>stori base best sell novel terri mcmillan foll...</td>\n",
       "      <td>Comedy,Drama,Romance</td>\n",
       "    </tr>\n",
       "    <tr>\n",
       "      <th>4</th>\n",
       "      <td>Father of the Bride Part II</td>\n",
       "      <td>sequel \"father bride\", georg bank must accept ...</td>\n",
       "      <td>Comedy</td>\n",
       "    </tr>\n",
       "  </tbody>\n",
       "</table>\n",
       "</div>"
      ],
      "text/plain": [
       "                       title_x  \\\n",
       "0                    Toy Story   \n",
       "1                      Jumanji   \n",
       "2             Grumpier Old Men   \n",
       "3            Waiting to Exhale   \n",
       "4  Father of the Bride Part II   \n",
       "\n",
       "                                        plot_outline  \\\n",
       "0  littl boy name andi love room, play toys, espe...   \n",
       "1  trap jungl board game years, man-child final w...   \n",
       "2  thing seem chang much wabasha county: max john...   \n",
       "3  stori base best sell novel terri mcmillan foll...   \n",
       "4  sequel \"father bride\", georg bank must accept ...   \n",
       "\n",
       "                                        genres  \n",
       "0  Adventure,Animation,Children,Comedy,Fantasy  \n",
       "1                   Adventure,Children,Fantasy  \n",
       "2                               Comedy,Romance  \n",
       "3                         Comedy,Drama,Romance  \n",
       "4                                       Comedy  "
      ]
     },
     "execution_count": 52,
     "metadata": {},
     "output_type": "execute_result"
    }
   ],
   "source": [
    "data.head()"
   ]
  },
  {
   "cell_type": "code",
   "execution_count": null,
   "metadata": {},
   "outputs": [],
   "source": []
  }
 ],
 "metadata": {
  "kernelspec": {
   "display_name": "Python 3",
   "language": "python",
   "name": "python3"
  },
  "language_info": {
   "codemirror_mode": {
    "name": "ipython",
    "version": 3
   },
   "file_extension": ".py",
   "mimetype": "text/x-python",
   "name": "python",
   "nbconvert_exporter": "python",
   "pygments_lexer": "ipython3",
   "version": "3.7.3"
  }
 },
 "nbformat": 4,
 "nbformat_minor": 2
}
