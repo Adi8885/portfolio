{
  "cells": [
    {
      "cell_type": "code",
      "execution_count": null,
      "metadata": {
        "id": "QKvFUCcuouQH"
      },
      "outputs": [],
      "source": [
        "\n",
        "# Copyright 2024 Google LLC\n",
        "#\n",
        "# Licensed under the Apache License, Version 2.0 (the \"License\");\n",
        "# you may not use this file except in compliance with the License.\n",
        "# You may obtain a copy of the License at\n",
        "#\n",
        "#     https://www.apache.org/licenses/LICENSE-2.0\n",
        "#\n",
        "# Unless required by applicable law or agreed to in writing, software\n",
        "# distributed under the License is distributed on an \"AS IS\" BASIS,\n",
        "# WITHOUT WARRANTIES OR CONDITIONS OF ANY KIND, either express or implied.\n",
        "# See the License for the specific language governing permissions and\n",
        "# limitations under the License."
      ]
    },
    {
      "cell_type": "markdown",
      "metadata": {
        "id": "YFaaLvgyouQI"
      },
      "source": [
        "# Intro to Function Calling with the Gemini API & Python SDK"
      ]
    },
    {
      "cell_type": "markdown",
      "metadata": {
        "id": "G618qS85ouQJ"
      },
      "source": [
        "## 1. Overview\n",
        "\n",
        "### What is function calling in Gemini?\n",
        "The Vertex AI Gemini API is a family of generative AI models developed by Google DeepMind that is designed for multimodal use cases. Function calling is a feature of Gemini models that makes it easier for developers to get structured data outputs from generative models.\n",
        "\n",
        "Developers can then use these outputs to call other APIs and return the relevant response data to the model. In other words, function calling helps you connect your generative models to external systems so that the generated content includes the most up-to-date and accurate information.\n",
        "\n",
        "### How function calling works\n",
        "Functions are described using function declarations, which helps the generative model understand the purpose and parameters within a function. After you pass function declarations in a query to a generative model, the model returns a structured object that includes the names of relevant functions and their arguments based on the user's query. Note that with function calling, the model doesn't actually call the function. Instead, you can use the returned function and parameters to call the function in any language, library, or framework that you'd like!\n",
        "\n",
        "### What you'll build\n",
        "In this codelab, you'll build a generative AI pipeline with the Vertex AI Gemini API and Python. Using your app, users can ask about exchange rates, and the system will fetch the latest data from an external API and respond to the user with the answer.\n",
        "\n",
        "### What you'll learn\n",
        "How to interact with the Gemini model using the Python client library\n",
        "How to define a function declaration and register it as a tool\n",
        "How to call Gemini and get a function call response\n",
        "How to return the function response to Gemini and respond to the user\n",
        "\n",
        "### What you'll need\n",
        "A Google Cloud Project\n",
        "A browser such as Chrome\n",
        "A Python development environment such as Colab or Colab Enterprise"
      ]
    },
    {
      "cell_type": "markdown",
      "metadata": {
        "id": "gAQ2_DGpouQK"
      },
      "source": [
        "## 2. Setup and requirements\n",
        "Before you can start using function calling in Gemini, you need to enable the Vertex AI API and install the latest version of the Vertex AI Python client library.\n",
        "\n",
        "Enable Vertex AI API\n",
        "To enable the Vertex AI API, follow these steps:\n",
        "\n",
        "In your browser, navigate to the Vertex AI API Service Details page.\n",
        "Click the Enable button to enable the Vertex AI API in your Google Cloud project.\n",
        "Install Python client library for Vertex AI\n",
        "To install the Python client libraries for Vertex AI, follow these steps:\n",
        "\n",
        "Open a terminal in your development environment.\n",
        "Verify that you have a valid Python development environment, and refer to these guidelines if needed.\n"
      ]
    },
    {
      "cell_type": "code",
      "execution_count": 1,
      "metadata": {
        "colab": {
          "base_uri": "https://localhost:8080/",
          "height": 1000
        },
        "id": "a3xW1PMxouQK",
        "outputId": "070f9fa6-6d28-4a25-f455-efb3adc83b05"
      },
      "outputs": [
        {
          "output_type": "stream",
          "name": "stdout",
          "text": [
            "Requirement already satisfied: google-cloud-aiplatform in /usr/local/lib/python3.11/dist-packages (1.92.0)\n",
            "Collecting google-cloud-aiplatform\n",
            "  Downloading google_cloud_aiplatform-1.93.0-py2.py3-none-any.whl.metadata (35 kB)\n",
            "Requirement already satisfied: google-api-core!=2.0.*,!=2.1.*,!=2.2.*,!=2.3.*,!=2.4.*,!=2.5.*,!=2.6.*,!=2.7.*,<3.0.0,>=1.34.1 in /usr/local/lib/python3.11/dist-packages (from google-api-core[grpc]!=2.0.*,!=2.1.*,!=2.2.*,!=2.3.*,!=2.4.*,!=2.5.*,!=2.6.*,!=2.7.*,<3.0.0,>=1.34.1->google-cloud-aiplatform) (2.24.2)\n",
            "Requirement already satisfied: google-auth<3.0.0,>=2.14.1 in /usr/local/lib/python3.11/dist-packages (from google-cloud-aiplatform) (2.38.0)\n",
            "Requirement already satisfied: proto-plus<2.0.0,>=1.22.3 in /usr/local/lib/python3.11/dist-packages (from google-cloud-aiplatform) (1.26.1)\n",
            "Requirement already satisfied: protobuf!=4.21.0,!=4.21.1,!=4.21.2,!=4.21.3,!=4.21.4,!=4.21.5,<7.0.0,>=3.20.2 in /usr/local/lib/python3.11/dist-packages (from google-cloud-aiplatform) (5.29.4)\n",
            "Requirement already satisfied: packaging>=14.3 in /usr/local/lib/python3.11/dist-packages (from google-cloud-aiplatform) (24.2)\n",
            "Requirement already satisfied: google-cloud-storage<3.0.0,>=1.32.0 in /usr/local/lib/python3.11/dist-packages (from google-cloud-aiplatform) (2.19.0)\n",
            "Requirement already satisfied: google-cloud-bigquery!=3.20.0,<4.0.0,>=1.15.0 in /usr/local/lib/python3.11/dist-packages (from google-cloud-aiplatform) (3.32.0)\n",
            "Requirement already satisfied: google-cloud-resource-manager<3.0.0,>=1.3.3 in /usr/local/lib/python3.11/dist-packages (from google-cloud-aiplatform) (1.14.2)\n",
            "Requirement already satisfied: shapely<3.0.0 in /usr/local/lib/python3.11/dist-packages (from google-cloud-aiplatform) (2.1.0)\n",
            "Requirement already satisfied: google-genai<2.0.0,>=1.0.0 in /usr/local/lib/python3.11/dist-packages (from google-cloud-aiplatform) (1.15.0)\n",
            "Requirement already satisfied: pydantic<3 in /usr/local/lib/python3.11/dist-packages (from google-cloud-aiplatform) (2.11.4)\n",
            "Requirement already satisfied: typing-extensions in /usr/local/lib/python3.11/dist-packages (from google-cloud-aiplatform) (4.13.2)\n",
            "Requirement already satisfied: docstring-parser<1 in /usr/local/lib/python3.11/dist-packages (from google-cloud-aiplatform) (0.16)\n",
            "Requirement already satisfied: googleapis-common-protos<2.0.0,>=1.56.2 in /usr/local/lib/python3.11/dist-packages (from google-api-core!=2.0.*,!=2.1.*,!=2.2.*,!=2.3.*,!=2.4.*,!=2.5.*,!=2.6.*,!=2.7.*,<3.0.0,>=1.34.1->google-api-core[grpc]!=2.0.*,!=2.1.*,!=2.2.*,!=2.3.*,!=2.4.*,!=2.5.*,!=2.6.*,!=2.7.*,<3.0.0,>=1.34.1->google-cloud-aiplatform) (1.70.0)\n",
            "Requirement already satisfied: requests<3.0.0,>=2.18.0 in /usr/local/lib/python3.11/dist-packages (from google-api-core!=2.0.*,!=2.1.*,!=2.2.*,!=2.3.*,!=2.4.*,!=2.5.*,!=2.6.*,!=2.7.*,<3.0.0,>=1.34.1->google-api-core[grpc]!=2.0.*,!=2.1.*,!=2.2.*,!=2.3.*,!=2.4.*,!=2.5.*,!=2.6.*,!=2.7.*,<3.0.0,>=1.34.1->google-cloud-aiplatform) (2.32.3)\n",
            "Requirement already satisfied: grpcio<2.0dev,>=1.33.2 in /usr/local/lib/python3.11/dist-packages (from google-api-core[grpc]!=2.0.*,!=2.1.*,!=2.2.*,!=2.3.*,!=2.4.*,!=2.5.*,!=2.6.*,!=2.7.*,<3.0.0,>=1.34.1->google-cloud-aiplatform) (1.71.0)\n",
            "Requirement already satisfied: grpcio-status<2.0.dev0,>=1.33.2 in /usr/local/lib/python3.11/dist-packages (from google-api-core[grpc]!=2.0.*,!=2.1.*,!=2.2.*,!=2.3.*,!=2.4.*,!=2.5.*,!=2.6.*,!=2.7.*,<3.0.0,>=1.34.1->google-cloud-aiplatform) (1.71.0)\n",
            "Requirement already satisfied: cachetools<6.0,>=2.0.0 in /usr/local/lib/python3.11/dist-packages (from google-auth<3.0.0,>=2.14.1->google-cloud-aiplatform) (5.5.2)\n",
            "Requirement already satisfied: pyasn1-modules>=0.2.1 in /usr/local/lib/python3.11/dist-packages (from google-auth<3.0.0,>=2.14.1->google-cloud-aiplatform) (0.4.2)\n",
            "Requirement already satisfied: rsa<5,>=3.1.4 in /usr/local/lib/python3.11/dist-packages (from google-auth<3.0.0,>=2.14.1->google-cloud-aiplatform) (4.9.1)\n",
            "Requirement already satisfied: google-cloud-core<3.0.0,>=2.4.1 in /usr/local/lib/python3.11/dist-packages (from google-cloud-bigquery!=3.20.0,<4.0.0,>=1.15.0->google-cloud-aiplatform) (2.4.3)\n",
            "Requirement already satisfied: google-resumable-media<3.0.0,>=2.0.0 in /usr/local/lib/python3.11/dist-packages (from google-cloud-bigquery!=3.20.0,<4.0.0,>=1.15.0->google-cloud-aiplatform) (2.7.2)\n",
            "Requirement already satisfied: python-dateutil<3.0.0,>=2.8.2 in /usr/local/lib/python3.11/dist-packages (from google-cloud-bigquery!=3.20.0,<4.0.0,>=1.15.0->google-cloud-aiplatform) (2.9.0.post0)\n",
            "Requirement already satisfied: grpc-google-iam-v1<1.0.0,>=0.14.0 in /usr/local/lib/python3.11/dist-packages (from google-cloud-resource-manager<3.0.0,>=1.3.3->google-cloud-aiplatform) (0.14.2)\n",
            "Requirement already satisfied: google-crc32c<2.0dev,>=1.0 in /usr/local/lib/python3.11/dist-packages (from google-cloud-storage<3.0.0,>=1.32.0->google-cloud-aiplatform) (1.7.1)\n",
            "Requirement already satisfied: anyio<5.0.0,>=4.8.0 in /usr/local/lib/python3.11/dist-packages (from google-genai<2.0.0,>=1.0.0->google-cloud-aiplatform) (4.9.0)\n",
            "Requirement already satisfied: httpx<1.0.0,>=0.28.1 in /usr/local/lib/python3.11/dist-packages (from google-genai<2.0.0,>=1.0.0->google-cloud-aiplatform) (0.28.1)\n",
            "Requirement already satisfied: websockets<15.1.0,>=13.0.0 in /usr/local/lib/python3.11/dist-packages (from google-genai<2.0.0,>=1.0.0->google-cloud-aiplatform) (15.0.1)\n",
            "Requirement already satisfied: annotated-types>=0.6.0 in /usr/local/lib/python3.11/dist-packages (from pydantic<3->google-cloud-aiplatform) (0.7.0)\n",
            "Requirement already satisfied: pydantic-core==2.33.2 in /usr/local/lib/python3.11/dist-packages (from pydantic<3->google-cloud-aiplatform) (2.33.2)\n",
            "Requirement already satisfied: typing-inspection>=0.4.0 in /usr/local/lib/python3.11/dist-packages (from pydantic<3->google-cloud-aiplatform) (0.4.0)\n",
            "Requirement already satisfied: numpy>=1.21 in /usr/local/lib/python3.11/dist-packages (from shapely<3.0.0->google-cloud-aiplatform) (2.0.2)\n",
            "Requirement already satisfied: idna>=2.8 in /usr/local/lib/python3.11/dist-packages (from anyio<5.0.0,>=4.8.0->google-genai<2.0.0,>=1.0.0->google-cloud-aiplatform) (3.10)\n",
            "Requirement already satisfied: sniffio>=1.1 in /usr/local/lib/python3.11/dist-packages (from anyio<5.0.0,>=4.8.0->google-genai<2.0.0,>=1.0.0->google-cloud-aiplatform) (1.3.1)\n",
            "Requirement already satisfied: certifi in /usr/local/lib/python3.11/dist-packages (from httpx<1.0.0,>=0.28.1->google-genai<2.0.0,>=1.0.0->google-cloud-aiplatform) (2025.4.26)\n",
            "Requirement already satisfied: httpcore==1.* in /usr/local/lib/python3.11/dist-packages (from httpx<1.0.0,>=0.28.1->google-genai<2.0.0,>=1.0.0->google-cloud-aiplatform) (1.0.9)\n",
            "Requirement already satisfied: h11>=0.16 in /usr/local/lib/python3.11/dist-packages (from httpcore==1.*->httpx<1.0.0,>=0.28.1->google-genai<2.0.0,>=1.0.0->google-cloud-aiplatform) (0.16.0)\n",
            "Requirement already satisfied: pyasn1<0.7.0,>=0.6.1 in /usr/local/lib/python3.11/dist-packages (from pyasn1-modules>=0.2.1->google-auth<3.0.0,>=2.14.1->google-cloud-aiplatform) (0.6.1)\n",
            "Requirement already satisfied: six>=1.5 in /usr/local/lib/python3.11/dist-packages (from python-dateutil<3.0.0,>=2.8.2->google-cloud-bigquery!=3.20.0,<4.0.0,>=1.15.0->google-cloud-aiplatform) (1.17.0)\n",
            "Requirement already satisfied: charset-normalizer<4,>=2 in /usr/local/lib/python3.11/dist-packages (from requests<3.0.0,>=2.18.0->google-api-core!=2.0.*,!=2.1.*,!=2.2.*,!=2.3.*,!=2.4.*,!=2.5.*,!=2.6.*,!=2.7.*,<3.0.0,>=1.34.1->google-api-core[grpc]!=2.0.*,!=2.1.*,!=2.2.*,!=2.3.*,!=2.4.*,!=2.5.*,!=2.6.*,!=2.7.*,<3.0.0,>=1.34.1->google-cloud-aiplatform) (3.4.2)\n",
            "Requirement already satisfied: urllib3<3,>=1.21.1 in /usr/local/lib/python3.11/dist-packages (from requests<3.0.0,>=2.18.0->google-api-core!=2.0.*,!=2.1.*,!=2.2.*,!=2.3.*,!=2.4.*,!=2.5.*,!=2.6.*,!=2.7.*,<3.0.0,>=1.34.1->google-api-core[grpc]!=2.0.*,!=2.1.*,!=2.2.*,!=2.3.*,!=2.4.*,!=2.5.*,!=2.6.*,!=2.7.*,<3.0.0,>=1.34.1->google-cloud-aiplatform) (2.4.0)\n",
            "Downloading google_cloud_aiplatform-1.93.0-py2.py3-none-any.whl (7.6 MB)\n",
            "\u001b[2K   \u001b[90m━━━━━━━━━━━━━━━━━━━━━━━━━━━━━━━━━━━━━━━━\u001b[0m \u001b[32m7.6/7.6 MB\u001b[0m \u001b[31m48.6 MB/s\u001b[0m eta \u001b[36m0:00:00\u001b[0m\n",
            "\u001b[?25hInstalling collected packages: google-cloud-aiplatform\n",
            "  Attempting uninstall: google-cloud-aiplatform\n",
            "    Found existing installation: google-cloud-aiplatform 1.92.0\n",
            "    Uninstalling google-cloud-aiplatform-1.92.0:\n",
            "      Successfully uninstalled google-cloud-aiplatform-1.92.0\n",
            "Successfully installed google-cloud-aiplatform-1.93.0\n"
          ]
        },
        {
          "output_type": "display_data",
          "data": {
            "application/vnd.colab-display-data+json": {
              "pip_warning": {
                "packages": [
                  "google"
                ]
              },
              "id": "969382b7402447a7b4affecb68cfffd6"
            }
          },
          "metadata": {}
        }
      ],
      "source": [
        "!pip install --upgrade google-cloud-aiplatform"
      ]
    },
    {
      "cell_type": "code",
      "source": [
        "from google.colab import auth\n",
        "auth.authenticate_user()"
      ],
      "metadata": {
        "id": "zQimwo5kpFTm"
      },
      "execution_count": 7,
      "outputs": []
    },
    {
      "cell_type": "markdown",
      "metadata": {
        "id": "g2o-G0G7ouQK"
      },
      "source": [
        "## 3. Understand the problem\n",
        "Have you ever interacted with a large language model or generative AI model and asked it about real-time or current information, only to get a response with outdated information or inaccurate information?\n",
        "\n",
        "Let's try it now! First, we'll import the relevant Python packages and initialize the Gemini model. You can run the following code in a Python development environment such as Colab or Colab Enterprise and by installing the latest version of the Vertex AI SDK for Python:"
      ]
    },
    {
      "cell_type": "code",
      "execution_count": 8,
      "metadata": {
        "id": "pxGsoF0houQK"
      },
      "outputs": [],
      "source": [
        "import vertexai\n",
        "from vertexai.generative_models import GenerativeModel"
      ]
    },
    {
      "cell_type": "code",
      "execution_count": 9,
      "metadata": {
        "id": "yhmaX455ouQL"
      },
      "outputs": [],
      "source": [
        "vertexai.init(project = \"gdg-demo-rpoect\")"
      ]
    },
    {
      "cell_type": "code",
      "execution_count": 10,
      "metadata": {
        "id": "6uEfR_6XouQL"
      },
      "outputs": [],
      "source": [
        "model = GenerativeModel(\"gemini-2.0-flash-001\")"
      ]
    },
    {
      "cell_type": "code",
      "execution_count": 11,
      "metadata": {
        "colab": {
          "base_uri": "https://localhost:8080/"
        },
        "id": "tvr32al8ouQL",
        "outputId": "b0a27388-6cb1-4869-ddbf-2f8807561df0"
      },
      "outputs": [
        {
          "output_type": "stream",
          "name": "stdout",
          "text": [
            "The exchange rate between euros and dollars fluctuates constantly. To get the most up-to-date exchange rate, I recommend checking a reliable source like:\n",
            "\n",
            "*   **Google Finance:** Just search \"EUR to USD\" on Google.\n",
            "*   **A financial website:** Examples include Bloomberg, Reuters, Yahoo Finance, or a specific bank's website.\n",
            "*   **A currency converter:** Many websites offer currency converters that use live exchange rates.\n",
            "\n",
            "These sources will provide you with the current exchange rate.\n",
            "\n"
          ]
        }
      ],
      "source": [
        "response = model.generate_content(\n",
        "    \"What's the exchange rate for euros to dollars today?\"\n",
        ")\n",
        "print(response.text)"
      ]
    },
    {
      "cell_type": "markdown",
      "metadata": {
        "id": "aDwDTjwmouQM"
      },
      "source": [
        "If an end-user received this type of response, they would need to switch contexts to look up the currencies that they're interested in, fetch the latest exchange rate, and perform any conversions on their own.\n",
        "\n",
        "Ideally, a generative model pipeline could handle some or all of these tasks for the user. In the next section, you'll try some common workarounds for getting structured responses from generative models so that you can call external systems."
      ]
    },
    {
      "cell_type": "markdown",
      "metadata": {
        "id": "4nE7DnioouQM"
      },
      "source": [
        "## 4. Try common workarounds\n",
        "When working with generative models in scenarios where you need up-to-date information or data from external sources, you could call an external API then feed the results back to the generative model for it to use in its response.\n",
        "\n",
        "Before you call an external system, you need to determine the right function to use, extract the relevant parameters from the user, and put the parameters into a structured data object. This usually involves exhaustive prompt engineering to coerce the generative model to output valid structured data.\n",
        "\n",
        "Let's revisit the question that we asked in the previous section and add some additional instructions for the model. Try sending the following request to the Gemini model:"
      ]
    },
    {
      "cell_type": "code",
      "execution_count": 12,
      "metadata": {
        "colab": {
          "base_uri": "https://localhost:8080/"
        },
        "id": "kWZ3I3yXouQM",
        "outputId": "f8e52cf9-3f3c-4454-d6ad-c41bf6df7c34"
      },
      "outputs": [
        {
          "output_type": "stream",
          "name": "stdout",
          "text": [
            "```json\n",
            "{\n",
            "  \"from_currency\": \"EUR\",\n",
            "  \"to_currency\": \"USD\"\n",
            "}\n",
            "```\n"
          ]
        }
      ],
      "source": [
        "user_prompt = \"What's the exchange rate from euros to US dollars today?\"\n",
        "\n",
        "response = model.generate_content(\"\"\"\n",
        "Your task is to extract parameters from the user's input and return it as a\n",
        "structured JSON payload. The user will ask about the exchange rate and which\n",
        "currency they are converting from and converting to.\n",
        "\n",
        "User input: {user_prompt}\n",
        "\n",
        "Please extract the currencies as parameters and put them in a JSON object.\n",
        "\"\"\".format(user_prompt=user_prompt))\n",
        "print(response.text)"
      ]
    },
    {
      "cell_type": "markdown",
      "metadata": {
        "id": "rlFUwMJfouQM"
      },
      "source": [
        "In particular, the first and last lines of the text response include backticks to delimit the code block, the first line includes a language specifier, and the values in the JSON object are not the standard three-letter currency abbreviations that a currency exchange API would expect as input parameters.\n",
        "\n",
        "We could try to use Python to post-process this text into valid JSON and a dictionary, add more instructions to the prompt, provide one or more examples of desired output, fine-tune the model, or make another call to the generative model asking it to clean up the JSON.\n",
        "\n",
        "But there is a more deterministic way! Let's learn how to use function calling in Gemini to query for information in external services and return relevant responses to end-users."
      ]
    },
    {
      "cell_type": "markdown",
      "metadata": {
        "id": "eNFeNUCFouQM"
      },
      "source": [
        "## 5. How function calling works\n",
        "\n",
        "Before we get started with parameter extraction and function calling, let's walk through the steps of function calling and which components are used at runtime.\n",
        "\n",
        "![image.png](attachment:image.png)\n",
        "\n",
        "### User input to Gemini API\n",
        "The prompt from the user is sent to the Gemini API, and in that API call to the Gemini model, the developer has defined one or more function declarations within a tool so that the Gemini model knows which functions it can call and how to call them.\n",
        "\n",
        "```\n",
        "User Input -> Gemini API -> Function Call\n",
        "```\n",
        "\n",
        "### The Gemini API returns a Function Call\n",
        "Based on the content of the user input and prompt, Gemini will return a Function Call response with structured data that includes the name of the function to call and the corresponding parameters to use.\n",
        "\n",
        "\n",
        "```\n",
        "Gemini API -> Function Call\n",
        "```\n",
        "\n",
        "### Make an API request\n",
        "Then, you'll use the function name and parameters to make an API request to retrieve information from an external system or API. This API request and response is implemented by the developer in the application code and happens outside of the scope of the Gemini API and SDK. For example, you might use the requests library in Python to call a REST API and receive a JSON response. Or you can call the function using your preferred approach and client library.\n",
        "\n",
        "```\n",
        "API Parameters -> External API -> API Response\n",
        "```\n",
        "\n",
        "### Return the API Response to Gemini\n",
        "Finally, you'll pass the API response back to the Gemini model so that it can generate a response to the end-user's initial prompt or invoke another Function Call response if the Gemini model determines that it needs additional information.\n",
        "\n",
        "```\n",
        "API Response -> Function Response -> Model Output\n",
        "```"
      ]
    },
    {
      "cell_type": "markdown",
      "metadata": {
        "id": "P6fdw3SIouQN"
      },
      "source": [
        "## 6. Choose your API\n",
        "Now that you understand the overall flow and specific steps in function calling, you'll build a generative AI pipeline to fetch the latest currency exchange rates. First, we'll need to select which API that we want to use as a source of information.\n",
        "\n",
        "For our currency exchange app, we'll use the REST API at https://www.frankfurter.app/ to fetch the latest information about global exchange rates.\n",
        "\n",
        "To interact with this REST API, we might make a REST API call with requests in Python as:"
      ]
    },
    {
      "cell_type": "code",
      "execution_count": 13,
      "metadata": {
        "colab": {
          "base_uri": "https://localhost:8080/",
          "height": 70
        },
        "id": "YdbPjADOouQN",
        "outputId": "a54660c1-190a-47fb-b9f6-dfa525f332d6"
      },
      "outputs": [
        {
          "output_type": "execute_result",
          "data": {
            "text/plain": [
              "'{\"amount\":1.0,\"base\":\"EUR\",\"date\":\"2025-05-16\",\"rates\":{\"AUD\":1.7458,\"BGN\":1.9558,\"BRL\":6.365,\"CAD\":1.564,\"CHF\":0.9381,\"CNY\":8.0659,\"CZK\":24.936,\"DKK\":7.4602,\"GBP\":0.8427,\"HKD\":8.7478,\"HUF\":403.05,\"IDR\":18428,\"ILS\":3.9758,\"INR\":95.82,\"ISK\":145.9,\"JPY\":163.05,\"KRW\":1563.17,\"MXN\":21.817,\"MYR\":4.8095,\"NOK\":11.635,\"NZD\":1.8987,\"PHP\":62.362,\"PLN\":4.26,\"RON\":5.1041,\"SEK\":10.9327,\"SGD\":1.4539,\"THB\":37.377,\"TRY\":43.472,\"USD\":1.1194,\"ZAR\":20.267}}'"
            ],
            "application/vnd.google.colaboratory.intrinsic+json": {
              "type": "string"
            }
          },
          "metadata": {},
          "execution_count": 13
        }
      ],
      "source": [
        "import requests\n",
        "url = \"https://api.frankfurter.app/latest\"\n",
        "response = requests.get(url)\n",
        "response.text"
      ]
    },
    {
      "cell_type": "markdown",
      "metadata": {
        "id": "Z8wukJyKouQN"
      },
      "source": [
        "which returns a response similar to:\n",
        "```\n",
        "{\n",
        "  \"amount\": 1,\n",
        "  \"base\": \"EUR\",\n",
        "  \"date\": \"2023-12-20\",\n",
        "  \"rates\": {\n",
        "    \"AUD\": 1.6186, \"BGN\": 1.9558, \"BRL\": 5.3287,\n",
        "    \"CAD\": 1.4609, \"CHF\": 0.946, \"CNY\": 7.8121,\n",
        "    \"CZK\": 24.538, \"DKK\": 7.4565, \"GBP\": 0.86555,\n",
        "    \"HKD\": 8.5439, \"HUF\": 385.23, \"IDR\": 16994,\n",
        "    \"ILS\": 3.9983, \"INR\": 91.06, \"ISK\": 150.3,\n",
        "    \"JPY\": 157.12, \"KRW\": 1425.62, \"MXN\": 18.6867,\n",
        "    \"MYR\": 5.0977, \"NOK\": 11.2895, \"NZD\": 1.7421,\n",
        "    \"PHP\": 60.991, \"PLN\": 4.3413, \"RON\": 4.9699,\n",
        "    \"SEK\": 11.129, \"SGD\": 1.4562, \"THB\": 38.252,\n",
        "    \"TRY\": 31.883, \"USD\": 1.0944, \"ZAR\": 20.111\n",
        "  }\n",
        "}\n",
        "```"
      ]
    },
    {
      "cell_type": "markdown",
      "metadata": {
        "id": "7aA-JsIxouQN"
      },
      "source": [
        "Because function calling in Gemini does not actually make the external API call for you, there are no such restrictions on what type of API that you use! You could use a Cloud Run Service, a Cloud Function, an API request to a Google Cloud service, or any external REST API."
      ]
    },
    {
      "cell_type": "markdown",
      "metadata": {
        "id": "YzZwnUaUouQN"
      },
      "source": []
    },
    {
      "cell_type": "markdown",
      "metadata": {
        "id": "rTtoOBDnouQN"
      },
      "source": [
        "## 7. Define a function and tool\n",
        "Now that you've selected a REST API to use, we can now define an API specification and register the function in a tool.\n",
        "\n",
        "Ensure that you've installed the latest version of the Vertex AI SDK for Python.\n",
        "\n",
        "Then, import the necessary modules from the Python SDK and initialize the Gemini model:"
      ]
    },
    {
      "cell_type": "code",
      "execution_count": 14,
      "metadata": {
        "id": "MMBoZs86ouQN"
      },
      "outputs": [],
      "source": [
        "from vertexai.generative_models import (\n",
        "    Content,\n",
        "    FunctionDeclaration,\n",
        "    GenerativeModel,\n",
        "    Part,\n",
        "    Tool,\n",
        ")\n",
        "\n",
        "model = GenerativeModel(\"gemini-2.0-flash-001\")"
      ]
    },
    {
      "cell_type": "markdown",
      "metadata": {
        "id": "ODw2f1ENouQN"
      },
      "source": [
        "Referring back to the REST API at https://api.frankfurter.app/, we can see that it accepts the following input parameters:\n",
        "\n",
        "\n",
        "|Parameter | Type   | Description             |\n",
        "|-----|--------|------------------------------------|\n",
        "|from      | String | Currency to convert from|\n",
        "|to        | String | Currency to convert to. |\n",
        "|date | String | Date to fetch the exchange rate for|\n",
        "\n",
        "\n"
      ]
    },
    {
      "cell_type": "markdown",
      "metadata": {
        "id": "6hyyKyIjouQN"
      },
      "source": [
        "Using these parameters, a partial OpenAPI specification for this REST API in YAML format looks like:\n",
        "\n",
        "```\n",
        "openapi: 3.0.0\n",
        "info:\n",
        "  title: Frankfurter Exchange Rate API\n",
        "  description: This API provides current and historical exchange rates\n",
        "  version: 1.0.0\n",
        "servers:\n",
        "  - url: https://api.frankfurter.app\n",
        "paths:\n",
        "  /{date}:\n",
        "    get:\n",
        "      summary: Get the latest currency exchange rates.\n",
        "      parameters:\n",
        "        - name: date\n",
        "          in: path\n",
        "          description: Get currency rates for a specific date or 'latest' if a date is not specified\n",
        "          required: true\n",
        "          schema:\n",
        "            type: string\n",
        "        - name: from\n",
        "          in: query\n",
        "          description: The currency to convert from.\n",
        "          required: true\n",
        "          schema:\n",
        "            type: string\n",
        "        - name: to\n",
        "          in: query\n",
        "          description: The currency to convert to.\n",
        "          schema:\n",
        "            type: string\n",
        "```"
      ]
    },
    {
      "cell_type": "markdown",
      "metadata": {
        "id": "_B-ZZ2__ouQN"
      },
      "source": [
        "Now, let's register this as a `FunctionDeclaration` using the Python SDK for Gemini:"
      ]
    },
    {
      "cell_type": "code",
      "execution_count": 15,
      "metadata": {
        "id": "LpWZ1nYCouQN"
      },
      "outputs": [],
      "source": [
        "get_exchange_rate_func = FunctionDeclaration(\n",
        "    name=\"get_exchange_rate\",\n",
        "    description=\"Get the exchange rate for currencies between countries\",\n",
        "    parameters={\n",
        "    \"type\": \"OBJECT\",\n",
        "    \"properties\": {\n",
        "        \"currency_date\": {\n",
        "            \"type\": \"STRING\",\n",
        "            \"description\": \"A date that must always be in YYYY-MM-DD format or the value 'latest' if a time period is not specified\"\n",
        "        },\n",
        "        \"currency_from\": {\n",
        "            \"type\": \"OBJECT\",\n",
        "            \"description\": \"The currency to convert from in ISO 4217 format\"\n",
        "        },\n",
        "        \"currency_to\": {\n",
        "            \"type\": \"OBJECT\",\n",
        "            \"description\": \"The currency to convert to in ISO 4217 format\"\n",
        "        }\n",
        "    },\n",
        "         \"required\": [\n",
        "            \"currency_from\",\n",
        "            \"currency_date\",\n",
        "      ]\n",
        "  },\n",
        ")"
      ]
    },
    {
      "cell_type": "markdown",
      "metadata": {
        "id": "fwu6PxX8ouQO"
      },
      "source": [
        "Be sure to use as much detail as possible in the function and parameter descriptions since the generative model will use this information to determine which function to select and how to fill the parameters in the function call.\n",
        "\n",
        "Finally, you'll define a `Tool` that includes the function declaration:"
      ]
    },
    {
      "cell_type": "code",
      "execution_count": 16,
      "metadata": {
        "id": "eEt2sldRouQO"
      },
      "outputs": [],
      "source": [
        "exchange_rate_tool = Tool(\n",
        "    function_declarations=[get_exchange_rate_func],\n",
        ")"
      ]
    },
    {
      "cell_type": "markdown",
      "metadata": {
        "id": "Ken_AW1jouQO"
      },
      "source": [
        "Here, you're using one function declaration within a tool, but note that you can register one or more function declarations in a tool, and the model will select the appropriate function to use at runtime. Refer to the documentation on Function Calling in the Gemini API for more details on the FunctionDeclaration, Tool, and related classes in the Gemini SDK for Python.\n",
        "\n",
        "You've completed the configuration of your function and tool definitions. In the next section, we'll call the generative model with this tool and get back a function call that we can use to call the REST API."
      ]
    },
    {
      "cell_type": "markdown",
      "metadata": {
        "id": "OiVkK7mFouQO"
      },
      "source": [
        "## 8. Generate a function call\n",
        "Now you can prompt the generative model and include the tool that you defined:"
      ]
    },
    {
      "cell_type": "code",
      "execution_count": 19,
      "metadata": {
        "colab": {
          "base_uri": "https://localhost:8080/"
        },
        "id": "Sk2KfceiouQO",
        "outputId": "38474d81-c0ed-4c2a-8f0a-d7bab9498b32"
      },
      "outputs": [
        {
          "output_type": "execute_result",
          "data": {
            "text/plain": [
              "candidates {\n",
              "  content {\n",
              "    role: \"model\"\n",
              "    parts {\n",
              "      function_call {\n",
              "        name: \"get_exchange_rate\"\n",
              "        args {\n",
              "          fields {\n",
              "            key: \"currency_to\"\n",
              "            value {\n",
              "              string_value: \"SEK\"\n",
              "            }\n",
              "          }\n",
              "          fields {\n",
              "            key: \"currency_from\"\n",
              "            value {\n",
              "              string_value: \"AUD\"\n",
              "            }\n",
              "          }\n",
              "          fields {\n",
              "            key: \"currency_date\"\n",
              "            value {\n",
              "              string_value: \"2025-04-30\"\n",
              "            }\n",
              "          }\n",
              "        }\n",
              "      }\n",
              "    }\n",
              "  }\n",
              "  finish_reason: STOP\n",
              "  avg_logprobs: -0.0018421993232690371\n",
              "}\n",
              "usage_metadata {\n",
              "  prompt_token_count: 123\n",
              "  candidates_token_count: 26\n",
              "  total_token_count: 149\n",
              "  prompt_tokens_details {\n",
              "    modality: TEXT\n",
              "    token_count: 123\n",
              "  }\n",
              "  candidates_tokens_details {\n",
              "    modality: TEXT\n",
              "    token_count: 26\n",
              "  }\n",
              "}\n",
              "model_version: \"gemini-2.0-flash-001\"\n",
              "create_time {\n",
              "  seconds: 1747475433\n",
              "  nanos: 534300000\n",
              "}\n",
              "response_id: \"6VsoaJzOIM-J1dkPw8DX0QI\""
            ]
          },
          "metadata": {},
          "execution_count": 19
        }
      ],
      "source": [
        "prompt = \"\"\"What is the exchange rate from Australian dollars to Swedish krona on 30 April 2025?\n",
        "How much is 500 Australian dollars worth in Swedish krona?\"\"\"\n",
        "\n",
        "response = model.generate_content(\n",
        "    prompt,\n",
        "    tools=[exchange_rate_tool],\n",
        ")\n",
        "response"
      ]
    },
    {
      "cell_type": "markdown",
      "metadata": {
        "id": "u3Cy2FxsouQO"
      },
      "source": [
        "Let's take a look at the response object:\n",
        "```\n",
        "print(response.candidates[0].content)\n",
        "\n",
        "role: \"model\"\n",
        "parts {\n",
        "  function_call {\n",
        "    name: \"get_exchange_rate\"\n",
        "    args {\n",
        "      fields {\n",
        "        key: \"currency_to\"\n",
        "        value {\n",
        "          string_value: \"SEK\"\n",
        "        }\n",
        "      }\n",
        "      fields {\n",
        "        key: \"currency_from\"\n",
        "        value {\n",
        "          string_value: \"AUD\"\n",
        "        }\n",
        "      }\n",
        "      fields {\n",
        "        key: \"currency_date\"\n",
        "        value {\n",
        "          string_value: \"latest\"\n",
        "        }\n",
        "      }\n",
        "    }\n",
        "  }\n",
        "}\n",
        "```"
      ]
    },
    {
      "cell_type": "markdown",
      "metadata": {
        "id": "snUwC1gvouQO"
      },
      "source": [
        "It looks like the model selected the one available function and returned a function call for the `get_exchange_rate` function along with the parameters. And the parameters are in the correct format that we wanted. Hooray for getting structured responses from generative models!\n",
        "\n",
        "In the next section, you'll use the information in the response to make an API request."
      ]
    },
    {
      "cell_type": "markdown",
      "metadata": {
        "id": "W9IiYwWEouQO"
      },
      "source": [
        "## 9. Make an API request\n",
        "Recall that function calling in Gemini does not actually make the external API call for you. Rather, you are free to use any language, library, or framework that you'd like!\n",
        "\n",
        "Here you'll use the requests library in Python to call the exchange rate REST API.\n",
        "\n",
        "Let's unpack the response into a Python dictionary:"
      ]
    },
    {
      "cell_type": "code",
      "execution_count": 20,
      "metadata": {
        "colab": {
          "base_uri": "https://localhost:8080/"
        },
        "id": "72RP8zWSouQO",
        "outputId": "aaf6ff25-1fe7-4cf2-f02b-b8209d807bef"
      },
      "outputs": [
        {
          "output_type": "stream",
          "name": "stdout",
          "text": [
            "{'from': 'AUD', 'date': '2025-04-30', 'to': 'SEK'}\n"
          ]
        }
      ],
      "source": [
        "params = {}\n",
        "for key, value in response.candidates[0].content.parts[0].function_call.args.items():\n",
        "    params[key[9:]] = value\n",
        "print(params)"
      ]
    },
    {
      "cell_type": "markdown",
      "metadata": {
        "id": "gpMP_39qouQO"
      },
      "source": [
        "Now we can call `requests` or any other method:"
      ]
    },
    {
      "cell_type": "code",
      "execution_count": 21,
      "metadata": {
        "colab": {
          "base_uri": "https://localhost:8080/"
        },
        "id": "x03sZqc0ouQP",
        "outputId": "8c003dd8-8f6d-40f6-eaa0-01f5a465a537"
      },
      "outputs": [
        {
          "output_type": "stream",
          "name": "stdout",
          "text": [
            "{\"amount\":1.0,\"base\":\"AUD\",\"date\":\"2025-04-30\",\"rates\":{\"SEK\":6.1645}}\n"
          ]
        }
      ],
      "source": [
        "import requests\n",
        "url = f\"https://api.frankfurter.app/{params['date']}\"\n",
        "api_response = requests.get(url, params=params)\n",
        "print(api_response.text)"
      ]
    },
    {
      "cell_type": "markdown",
      "metadata": {
        "id": "kPIad7fmouQP"
      },
      "source": [
        "And we have our response from the REST API, with the latest exchange rate information from today. In the next section, we'll pass this information back to the model so that it can generate a relevant response for the user."
      ]
    },
    {
      "cell_type": "markdown",
      "metadata": {
        "id": "5FoHJqdVouQP"
      },
      "source": [
        "## 10. Generate a response\n",
        "Finally, let's generate a response for the user by passing back the function response to the model in the next conversation turn:"
      ]
    },
    {
      "cell_type": "code",
      "execution_count": 22,
      "metadata": {
        "colab": {
          "base_uri": "https://localhost:8080/"
        },
        "id": "BdWx3oZGouQP",
        "outputId": "78e4eb66-41b0-4e96-94d9-058ea1836099"
      },
      "outputs": [
        {
          "output_type": "stream",
          "name": "stdout",
          "text": [
            "On 2025-04-30, the exchange rate from AUD to SEK is 6.1645. This means that 1 Australian dollar is equivalent to 6.1645 Swedish krona. To find out how much 500 Australian dollars is worth in Swedish krona, we need to multiply 500 by the exchange rate.\n",
            "500 AUD * 6.1645 SEK/AUD = 3082.25 SEK\n",
            "Therefore, 500 Australian dollars is worth 3082.25 Swedish krona on 2025-04-30.\n"
          ]
        }
      ],
      "source": [
        "response = model.generate_content(\n",
        "    [\n",
        "    Content(role=\"user\", parts=[\n",
        "        Part.from_text(prompt + \"\"\"Give your answer in steps with lots of detail\n",
        "            and context, including the exchange rate and date.\"\"\"),\n",
        "    ]),\n",
        "    Content(role=\"function\", parts=[\n",
        "        Part.from_dict({\n",
        "            \"function_call\": {\n",
        "                \"name\": \"get_exchange_rate\",\n",
        "            }\n",
        "        })\n",
        "    ]),\n",
        "    Content(role=\"function\", parts=[\n",
        "        Part.from_function_response(\n",
        "            name=\"get_exchange_rate\",\n",
        "            response={\n",
        "                \"content\": api_response.text,\n",
        "            }\n",
        "        )\n",
        "    ]),\n",
        "    ],\n",
        "    tools=[exchange_rate_tool],\n",
        ")\n",
        "\n",
        "\n",
        "print(response.candidates[0].content.parts[0].text)"
      ]
    },
    {
      "cell_type": "markdown",
      "metadata": {
        "id": "qQC2OuG7ouQQ"
      },
      "source": [
        "Once we pass the function response back to the model, it will respond to the user's prompt along with relevant information from the API response."
      ]
    },
    {
      "cell_type": "markdown",
      "metadata": {
        "id": "_2VqZuWSouQQ"
      },
      "source": [
        "## 11. View the full code example\n",
        "At this point, you could put your Python code in a backend API using a Cloud Run service, a Cloud Function, or another Cloud service and deploy a frontend app that uses this backend API to perform model queries and API calls.\n",
        "\n",
        "Here's the full code example for our final solution:"
      ]
    },
    {
      "cell_type": "code",
      "execution_count": 23,
      "metadata": {
        "colab": {
          "base_uri": "https://localhost:8080/"
        },
        "id": "6Jrv5INBouQQ",
        "outputId": "74700778-0df5-4588-b1ec-70adebddcf63"
      },
      "outputs": [
        {
          "output_type": "stream",
          "name": "stdout",
          "text": [
            "On 2025-04-30, the exchange rate from Australian dollars (AUD) to Swedish krona (SEK) is 1 AUD = 6.1645 SEK.\n",
            "\n",
            "To find the value of 500 Australian dollars (AUD) in Swedish krona (SEK), we need to multiply the amount in AUD by the exchange rate:\n",
            "\n",
            "500 AUD * 6.1645 SEK/AUD = 3082.25 SEK\n",
            "\n",
            "Therefore, 500 Australian dollars was worth 3082.25 Swedish krona on 2025-04-30.\n",
            "\n"
          ]
        }
      ],
      "source": [
        "import requests\n",
        "from vertexai.generative_models import (\n",
        "    Content,\n",
        "    FunctionDeclaration,\n",
        "    GenerativeModel,\n",
        "    Part,\n",
        "    Tool,\n",
        ")\n",
        "\n",
        "model = GenerativeModel(\"gemini-2.0-flash-001\")\n",
        "\n",
        "get_exchange_rate_func = FunctionDeclaration(\n",
        "    name=\"get_exchange_rate\",\n",
        "    description=\"Get the exchange rate for currencies between countries\",\n",
        "    parameters={\n",
        "    \"type\": \"object\",\n",
        "    \"properties\": {\n",
        "        \"currency_date\": {\n",
        "            \"type\": \"string\",\n",
        "            \"description\": \"A date that must always be in YYYY-MM-DD format or the value 'latest' if a time period is not specified\"\n",
        "        },\n",
        "        \"currency_from\": {\n",
        "            \"type\": \"string\",\n",
        "            \"description\": \"The currency to convert from in ISO 4217 format\"\n",
        "        },\n",
        "        \"currency_to\": {\n",
        "            \"type\": \"string\",\n",
        "            \"description\": \"The currency to convert to in ISO 4217 format\"\n",
        "        }\n",
        "    },\n",
        "         \"required\": [\n",
        "            \"currency_from\",\n",
        "            \"currency_date\",\n",
        "      ]\n",
        "  },\n",
        ")\n",
        "\n",
        "exchange_rate_tool = Tool(\n",
        "    function_declarations=[get_exchange_rate_func],\n",
        ")\n",
        "\n",
        "prompt = \"\"\"What is the exchange rate from Australian dollars to Swedish krona on 30 April 2025?\n",
        "How much is 500 Australian dollars worth in Swedish krona?\"\"\"\n",
        "\n",
        "response = model.generate_content(\n",
        "    prompt,\n",
        "    tools=[exchange_rate_tool],\n",
        ")\n",
        "\n",
        "response.candidates[0].content\n",
        "\n",
        "params = {}\n",
        "for key, value in response.candidates[0].content.parts[0].function_call.args.items():\n",
        "    params[key[9:]] = value\n",
        "params\n",
        "\n",
        "import requests\n",
        "url = f\"https://api.frankfurter.app/{params['date']}\"\n",
        "api_response = requests.get(url, params=params)\n",
        "api_response.text\n",
        "\n",
        "response = model.generate_content(\n",
        "    [\n",
        "    Content(role=\"user\", parts=[\n",
        "        Part.from_text(prompt + \"\"\"Give your answer in steps with lots of detail\n",
        "            and context, including the exchange rate and date.\"\"\"),\n",
        "    ]),\n",
        "    Content(role=\"function\", parts=[\n",
        "        Part.from_dict({\n",
        "            \"function_call\": {\n",
        "                \"name\": \"get_exchange_rate\",\n",
        "            }\n",
        "        })\n",
        "    ]),\n",
        "    Content(role=\"function\", parts=[\n",
        "        Part.from_function_response(\n",
        "            name=\"get_exchange_rate\",\n",
        "            response={\n",
        "                \"content\": api_response.text,\n",
        "            }\n",
        "        )\n",
        "    ]),\n",
        "    ],\n",
        "    tools=[exchange_rate_tool],\n",
        ")\n",
        "\n",
        "\n",
        "print(response.candidates[0].content.parts[0].text)"
      ]
    },
    {
      "cell_type": "markdown",
      "metadata": {
        "id": "-UVbkS1JouQQ"
      },
      "source": [
        "In this implementation, we used two requests to the generative model: one request to generate a function call and another request to return the function response. Note that this is only one method of handling function calls and function responses with Gemini. You can also make additional function calls to get more information for your query, or use function calling with chat and asynchronous methods.\n",
        "\n",
        "For additional code samples, refer to the [sample notebook for function calling in Gemini](https://github.com/GoogleCloudPlatform/generative-ai/blob/main/gemini/function-calling/intro_function_calling.ipynb).\n",
        "\n"
      ]
    },
    {
      "cell_type": "markdown",
      "metadata": {
        "id": "p6hH0J2zouQQ"
      },
      "source": [
        "## 12. Congratulations\n",
        "Using function calling in Gemini, you've successfully built a generative AI pipeline that uses with the Vertex AI Gemini API and Python! Users can ask about exchange rates, and the system will fetch the latest data from an external API and respond with an answer.\n",
        "\n",
        "Given a prompt from an end-user, function calling in Gemini takes care of selecting the appropriate function, extracting parameters from the prompt, and returning a structured data object for you to make an external API call.\n",
        "\n",
        "The design of function calling in Gemini is intended to give you the best of both worlds for deterministically extracting parameters, while leaving the summarization and content creation to the generative model. Feel free to try out other APIs and prompts in your pipeline and explore the other functionality available related to Vertex AI Gemini API."
      ]
    },
    {
      "cell_type": "markdown",
      "metadata": {
        "id": "poiafMzDouQQ"
      },
      "source": []
    }
  ],
  "metadata": {
    "kernelspec": {
      "display_name": "Python 3",
      "language": "python",
      "name": "python3"
    },
    "language_info": {
      "codemirror_mode": {
        "name": "ipython",
        "version": 3
      },
      "file_extension": ".py",
      "mimetype": "text/x-python",
      "name": "python",
      "nbconvert_exporter": "python",
      "pygments_lexer": "ipython3",
      "version": "3.12.3"
    },
    "colab": {
      "provenance": []
    }
  },
  "nbformat": 4,
  "nbformat_minor": 0
}