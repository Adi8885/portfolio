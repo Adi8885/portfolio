{
 "cells": [
  {
   "cell_type": "markdown",
   "metadata": {},
   "source": [
    "# Collaborative Filtering\n",
    "#### Collaborative filtering is a popular technique used in recommendation systems\n"
   ]
  },
  {
   "cell_type": "code",
   "execution_count": 1,
   "metadata": {},
   "outputs": [],
   "source": [
    "#import necessary libraries\n",
    "import os\n",
    "import numpy as np\n",
    "import pandas as pd\n",
    "import matplotlib.pyplot as plt\n",
    "import scipy as sp\n",
    "from scipy import sparse\n",
    "from sklearn.utils import shuffle\n",
    "from sklearn.metrics import mean_squared_error\n",
    "\n",
    "%matplotlib inline"
   ]
  },
  {
   "cell_type": "code",
   "execution_count": 2,
   "metadata": {},
   "outputs": [],
   "source": [
    "#### The file we are going to read in :: delimited\n",
    "#### 1::Toy Story (1995)::Animation|Children's|Comedy\n",
    "#### 2::Jumanji (1995)::Adventure|Children's|Fantasy\n",
    "#### 3::Grumpier Old Men (1995)::Comedy|Romance\n",
    "#### 4::Waiting to Exhale (1995)::Comedy|Drama\n",
    "#### 5::Father of the Bride Part II (1995)::Comedy"
   ]
  },
  {
   "cell_type": "code",
   "execution_count": 3,
   "metadata": {},
   "outputs": [
    {
     "name": "stderr",
     "output_type": "stream",
     "text": [
      "c:\\python\\python37\\lib\\site-packages\\ipykernel_launcher.py:4: ParserWarning: Falling back to the 'python' engine because the 'c' engine does not support regex separators (separators > 1 char and different from '\\s+' are interpreted as regex); you can avoid this warning by specifying engine='python'.\n",
      "  after removing the cwd from sys.path.\n"
     ]
    },
    {
     "data": {
      "text/html": [
       "<div>\n",
       "<style scoped>\n",
       "    .dataframe tbody tr th:only-of-type {\n",
       "        vertical-align: middle;\n",
       "    }\n",
       "\n",
       "    .dataframe tbody tr th {\n",
       "        vertical-align: top;\n",
       "    }\n",
       "\n",
       "    .dataframe thead th {\n",
       "        text-align: right;\n",
       "    }\n",
       "</style>\n",
       "<table border=\"1\" class=\"dataframe\">\n",
       "  <thead>\n",
       "    <tr style=\"text-align: right;\">\n",
       "      <th></th>\n",
       "      <th>title</th>\n",
       "      <th>tags</th>\n",
       "    </tr>\n",
       "  </thead>\n",
       "  <tbody>\n",
       "    <tr>\n",
       "      <th>1</th>\n",
       "      <td>Toy Story (1995)</td>\n",
       "      <td>Animation|Children's|Comedy</td>\n",
       "    </tr>\n",
       "    <tr>\n",
       "      <th>2</th>\n",
       "      <td>Jumanji (1995)</td>\n",
       "      <td>Adventure|Children's|Fantasy</td>\n",
       "    </tr>\n",
       "    <tr>\n",
       "      <th>3</th>\n",
       "      <td>Grumpier Old Men (1995)</td>\n",
       "      <td>Comedy|Romance</td>\n",
       "    </tr>\n",
       "    <tr>\n",
       "      <th>4</th>\n",
       "      <td>Waiting to Exhale (1995)</td>\n",
       "      <td>Comedy|Drama</td>\n",
       "    </tr>\n",
       "    <tr>\n",
       "      <th>5</th>\n",
       "      <td>Father of the Bride Part II (1995)</td>\n",
       "      <td>Comedy</td>\n",
       "    </tr>\n",
       "  </tbody>\n",
       "</table>\n",
       "</div>"
      ],
      "text/plain": [
       "                                title                          tags\n",
       "1                    Toy Story (1995)   Animation|Children's|Comedy\n",
       "2                      Jumanji (1995)  Adventure|Children's|Fantasy\n",
       "3             Grumpier Old Men (1995)                Comedy|Romance\n",
       "4            Waiting to Exhale (1995)                  Comedy|Drama\n",
       "5  Father of the Bride Part II (1995)                        Comedy"
      ]
     },
     "execution_count": 3,
     "metadata": {},
     "output_type": "execute_result"
    }
   ],
   "source": [
    "filepath = 'D:\\\\Data_Science\\\\Recommender systems\\\\ml-1m\\\\ml-1m\\\\'\n",
    "filename = 'movies.dat'\n",
    "columns = ['title', 'tags']\n",
    "data_movie_names = pd.read_csv(filepath + filename , sep = '::', header = None , names = columns)\n",
    "\n",
    "data_movie_names.head()"
   ]
  },
  {
   "cell_type": "code",
   "execution_count": 4,
   "metadata": {},
   "outputs": [],
   "source": [
    "data_movie_names = data_movie_names[['title']]"
   ]
  },
  {
   "cell_type": "code",
   "execution_count": 5,
   "metadata": {},
   "outputs": [],
   "source": [
    "#Create a dictionary mapping movie title to index\n",
    "#Also create reverse lokuip i.e. dictionary mapping index to movie id\n",
    "idx_to_movie_names_dict = data_movie_names.to_dict()['title']\n",
    "movie_names_to_idx_dict = {}\n",
    "for idx in idx_to_movie_names_dict:\n",
    "    movie_names_to_idx_dict[idx_to_movie_names_dict.get(idx)] = idx\n"
   ]
  },
  {
   "cell_type": "code",
   "execution_count": 6,
   "metadata": {},
   "outputs": [
    {
     "name": "stderr",
     "output_type": "stream",
     "text": [
      "c:\\python\\python37\\lib\\site-packages\\ipykernel_launcher.py:4: ParserWarning: Falling back to the 'python' engine because the 'c' engine does not support regex separators (separators > 1 char and different from '\\s+' are interpreted as regex); you can avoid this warning by specifying engine='python'.\n",
      "  after removing the cwd from sys.path.\n"
     ]
    },
    {
     "data": {
      "text/html": [
       "<div>\n",
       "<style scoped>\n",
       "    .dataframe tbody tr th:only-of-type {\n",
       "        vertical-align: middle;\n",
       "    }\n",
       "\n",
       "    .dataframe tbody tr th {\n",
       "        vertical-align: top;\n",
       "    }\n",
       "\n",
       "    .dataframe thead th {\n",
       "        text-align: right;\n",
       "    }\n",
       "</style>\n",
       "<table border=\"1\" class=\"dataframe\">\n",
       "  <thead>\n",
       "    <tr style=\"text-align: right;\">\n",
       "      <th></th>\n",
       "      <th>userid</th>\n",
       "      <th>movieid</th>\n",
       "      <th>ratings</th>\n",
       "      <th>timestamp</th>\n",
       "    </tr>\n",
       "  </thead>\n",
       "  <tbody>\n",
       "    <tr>\n",
       "      <th>0</th>\n",
       "      <td>1</td>\n",
       "      <td>1193</td>\n",
       "      <td>5</td>\n",
       "      <td>978300760</td>\n",
       "    </tr>\n",
       "    <tr>\n",
       "      <th>1</th>\n",
       "      <td>1</td>\n",
       "      <td>661</td>\n",
       "      <td>3</td>\n",
       "      <td>978302109</td>\n",
       "    </tr>\n",
       "    <tr>\n",
       "      <th>2</th>\n",
       "      <td>1</td>\n",
       "      <td>914</td>\n",
       "      <td>3</td>\n",
       "      <td>978301968</td>\n",
       "    </tr>\n",
       "    <tr>\n",
       "      <th>3</th>\n",
       "      <td>1</td>\n",
       "      <td>3408</td>\n",
       "      <td>4</td>\n",
       "      <td>978300275</td>\n",
       "    </tr>\n",
       "    <tr>\n",
       "      <th>4</th>\n",
       "      <td>1</td>\n",
       "      <td>2355</td>\n",
       "      <td>5</td>\n",
       "      <td>978824291</td>\n",
       "    </tr>\n",
       "  </tbody>\n",
       "</table>\n",
       "</div>"
      ],
      "text/plain": [
       "   userid  movieid  ratings  timestamp\n",
       "0       1     1193        5  978300760\n",
       "1       1      661        3  978302109\n",
       "2       1      914        3  978301968\n",
       "3       1     3408        4  978300275\n",
       "4       1     2355        5  978824291"
      ]
     },
     "execution_count": 6,
     "metadata": {},
     "output_type": "execute_result"
    }
   ],
   "source": [
    "filepath = 'D:\\\\Data_Science\\\\Recommender systems\\\\ml-1m\\\\ml-1m\\\\'\n",
    "filename = 'ratings.dat'\n",
    "columns = ['userid', 'movieid','ratings','timestamp']\n",
    "data = pd.read_csv(filepath + filename , sep = '::', header = None , names = columns)\n",
    "data.head()"
   ]
  },
  {
   "cell_type": "code",
   "execution_count": 7,
   "metadata": {},
   "outputs": [
    {
     "data": {
      "text/html": [
       "<div>\n",
       "<style scoped>\n",
       "    .dataframe tbody tr th:only-of-type {\n",
       "        vertical-align: middle;\n",
       "    }\n",
       "\n",
       "    .dataframe tbody tr th {\n",
       "        vertical-align: top;\n",
       "    }\n",
       "\n",
       "    .dataframe thead th {\n",
       "        text-align: right;\n",
       "    }\n",
       "</style>\n",
       "<table border=\"1\" class=\"dataframe\">\n",
       "  <thead>\n",
       "    <tr style=\"text-align: right;\">\n",
       "      <th></th>\n",
       "      <th>userid</th>\n",
       "      <th>movieid</th>\n",
       "      <th>ratings</th>\n",
       "    </tr>\n",
       "  </thead>\n",
       "  <tbody>\n",
       "    <tr>\n",
       "      <th>258055</th>\n",
       "      <td>1579</td>\n",
       "      <td>1234</td>\n",
       "      <td>4</td>\n",
       "    </tr>\n",
       "    <tr>\n",
       "      <th>884635</th>\n",
       "      <td>5342</td>\n",
       "      <td>780</td>\n",
       "      <td>4</td>\n",
       "    </tr>\n",
       "    <tr>\n",
       "      <th>186760</th>\n",
       "      <td>1156</td>\n",
       "      <td>3831</td>\n",
       "      <td>4</td>\n",
       "    </tr>\n",
       "    <tr>\n",
       "      <th>657890</th>\n",
       "      <td>3965</td>\n",
       "      <td>1653</td>\n",
       "      <td>3</td>\n",
       "    </tr>\n",
       "    <tr>\n",
       "      <th>303438</th>\n",
       "      <td>1803</td>\n",
       "      <td>785</td>\n",
       "      <td>4</td>\n",
       "    </tr>\n",
       "  </tbody>\n",
       "</table>\n",
       "</div>"
      ],
      "text/plain": [
       "        userid  movieid  ratings\n",
       "258055    1579     1234        4\n",
       "884635    5342      780        4\n",
       "186760    1156     3831        4\n",
       "657890    3965     1653        3\n",
       "303438    1803      785        4"
      ]
     },
     "execution_count": 7,
     "metadata": {},
     "output_type": "execute_result"
    }
   ],
   "source": [
    "data = data[['userid', 'movieid','ratings']]\n",
    "data = shuffle(data)\n",
    "data.head()"
   ]
  },
  {
   "cell_type": "code",
   "execution_count": 8,
   "metadata": {},
   "outputs": [
    {
     "data": {
      "text/plain": [
       "(1000209, 3)"
      ]
     },
     "execution_count": 8,
     "metadata": {},
     "output_type": "execute_result"
    }
   ],
   "source": [
    "#The dataset contains\n",
    "data.shape"
   ]
  },
  {
   "cell_type": "code",
   "execution_count": 9,
   "metadata": {},
   "outputs": [
    {
     "name": "stdout",
     "output_type": "stream",
     "text": [
      "data : (1000209, 3)\n",
      "train_set : (800167, 3)\n",
      "test_set : (200042, 3)\n"
     ]
    }
   ],
   "source": [
    "train_data = 0.8\n",
    "train_set = data.iloc[:int(data.shape[0] * train_data)]\n",
    "test_set = data.iloc[int(data.shape[0] * train_data):]\n",
    "print('data : {}'.format(data.shape))\n",
    "print('train_set : {}'.format(train_set.shape))\n",
    "print('test_set : {}'.format(test_set.shape))"
   ]
  },
  {
   "cell_type": "code",
   "execution_count": 10,
   "metadata": {},
   "outputs": [],
   "source": [
    "train_set.to_csv(filepath + 'train_set.csv' , index = None)\n",
    "\n",
    "test_set.to_csv(filepath + 'test_set.csv' , index = None)"
   ]
  },
  {
   "cell_type": "code",
   "execution_count": 24,
   "metadata": {},
   "outputs": [],
   "source": [
    "#make interaction dictionary\n",
    "\n",
    "interaction_dict = {}\n",
    "cid_to_idx = {}\n",
    "idx_to_cid = {}\n",
    "uid_to_idx ={}\n",
    "idx_to_uid = {}\n",
    "cidx = 0\n",
    "uidx = 0\n",
    "\n",
    "input_file = filepath + 'train_set.csv'\n",
    "with open(input_file) as fp:\n",
    "    next(fp)\n",
    "    for line in fp:\n",
    "        row = line.split(',') \n",
    "        uid = int(row[0])\n",
    "        cid = int(row[1])\n",
    "        rating = float(row[2])\n",
    "        if uid_to_idx.get(uid) == None :\n",
    "            uid_to_idx[uid] = uidx\n",
    "            idx_to_uid[uidx] = uid\n",
    "            interaction_dict[uid] = {}\n",
    "            uidx+=1\n",
    "        \n",
    "        if cid_to_idx.get(cid) == None :\n",
    "            cid_to_idx[cid] = cidx\n",
    "            idx_to_cid[cidx] = cid\n",
    "            cidx+=1\n",
    "            \n",
    "        interaction_dict[uid][cid] = rating\n",
    "\n",
    "fp.close()"
   ]
  },
  {
   "cell_type": "code",
   "execution_count": 25,
   "metadata": {},
   "outputs": [
    {
     "name": "stdout",
     "output_type": "stream",
     "text": [
      "unique users : 6040\n",
      "unique movies : 3680\n"
     ]
    }
   ],
   "source": [
    "print(\"unique users : {}\".format(len(uid_to_idx)))\n",
    "print(\"unique movies : {}\".format(len(cid_to_idx)))"
   ]
  },
  {
   "cell_type": "code",
   "execution_count": 26,
   "metadata": {},
   "outputs": [],
   "source": [
    "#interaction_dict\n",
    "row = []\n",
    "column = []\n",
    "values = []\n",
    "\n",
    "for uid in interaction_dict.keys():\n",
    "    for cid in interaction_dict[uid].keys():\n",
    "        row.append(cid_to_idx[cid])\n",
    "        column.append(uid_to_idx[uid])\n",
    "        values.append(interaction_dict[uid][cid])"
   ]
  },
  {
   "cell_type": "code",
   "execution_count": 14,
   "metadata": {},
   "outputs": [
    {
     "data": {
      "text/plain": [
       "<6040x3680 sparse matrix of type '<class 'numpy.float64'>'\n",
       "\twith 800167 stored elements in Compressed Sparse Row format>"
      ]
     },
     "execution_count": 14,
     "metadata": {},
     "output_type": "execute_result"
    }
   ],
   "source": [
    "#Iteratively build sparse matrix\n",
    "interaction_matrix = sparse.csr_matrix((values,(column,row)))\n",
    "interaction_matrix"
   ]
  },
  {
   "cell_type": "code",
   "execution_count": 15,
   "metadata": {},
   "outputs": [
    {
     "data": {
      "text/plain": [
       "(6040, 3680)"
      ]
     },
     "execution_count": 15,
     "metadata": {},
     "output_type": "execute_result"
    }
   ],
   "source": [
    "interaction_matrix.shape"
   ]
  },
  {
   "cell_type": "code",
   "execution_count": 123,
   "metadata": {},
   "outputs": [
    {
     "name": "stdout",
     "output_type": "stream",
     "text": [
      "k :16\t mse :0.33327416050979375\n",
      "k :32\t mse :0.31223357551803893\n",
      "k :64\t mse :0.28405088354564206\n",
      "k :128\t mse :0.24278177417598504\n",
      "k :256\t mse :0.18423160031801383\n",
      "k :512\t mse :0.1110213954529193\n",
      "k :1024\t mse :0.04156350014605643\n"
     ]
    }
   ],
   "source": [
    "embeddings_size = [16,32,64,128,256,512,1024]\n",
    "mse_list = []\n",
    "st_time = time.time()\n",
    "for k in embeddings_size:\n",
    "    u, s, vh = sparse.linalg.svds(interaction_matrix, k=k)\n",
    "    s = np.diag(s)\n",
    "    predictions_matrix = np.dot(np.dot(u, s), vh)\n",
    "    mse = mean_squared_error(interaction_matrix.toarray(), predictions_matrix)\n",
    "    mse_list.append(mse)\n",
    "    print('k :{}\\t mse :{}\\t time : {}'.format(k,mse,round(time.time() - st_time , 2)))"
   ]
  },
  {
   "cell_type": "code",
   "execution_count": 27,
   "metadata": {},
   "outputs": [
    {
     "name": "stdout",
     "output_type": "stream",
     "text": [
      "user_embeddings : (6040, 1024)\n",
      "sigma : (1024,)\n",
      "movie_embeddings : (1024, 3680)\n",
      "(6040, 3680)\n"
     ]
    }
   ],
   "source": [
    "user_embeddings, sigma, movie_embeddings = sparse.linalg.svds(interaction_matrix, k=1024)\n",
    "print('user_embeddings : {}'.format(user_embeddings.shape))\n",
    "print('sigma : {}'.format(sigma.shape))\n",
    "print('movie_embeddings : {}'.format(movie_embeddings.shape))\n",
    "\n",
    "sigma = np.diag(sigma)\n",
    "predictions_matrix = np.dot(np.dot(user_embeddings, sigma), movie_embeddings)\n",
    "print(predictions_matrix.shape)"
   ]
  },
  {
   "cell_type": "code",
   "execution_count": 28,
   "metadata": {},
   "outputs": [
    {
     "name": "stdout",
     "output_type": "stream",
     "text": [
      "user_id : 2\t index : 1715\n",
      "\n",
      "WATCHED MOVIES :\n",
      "movieId : 3107\trating:2.0\tname : Backdraft (1991)\n",
      "movieId : 3068\trating:4.0\tname : Verdict, The (1982)\n",
      "movieId : 95\trating:2.0\tname : Broken Arrow (1996)\n",
      "movieId : 593\trating:5.0\tname : Silence of the Lambs, The (1991)\n",
      "movieId : 1188\trating:4.0\tname : Strictly Ballroom (1992)\n",
      "movieId : 1357\trating:5.0\tname : Shine (1996)\n",
      "movieId : 1193\trating:5.0\tname : One Flew Over the Cuckoo's Nest (1975)\n",
      "movieId : 480\trating:5.0\tname : Jurassic Park (1993)\n",
      "movieId : 1090\trating:2.0\tname : Platoon (1986)\n",
      "movieId : 920\trating:5.0\tname : Gone with the Wind (1939)\n",
      "movieId : 902\trating:2.0\tname : Breakfast at Tiffany's (1961)\n",
      "movieId : 1408\trating:3.0\tname : Last of the Mohicans, The (1992)\n",
      "movieId : 2353\trating:4.0\tname : Enemy of the State (1998)\n",
      "movieId : 3071\trating:4.0\tname : Stand and Deliver (1987)\n",
      "movieId : 3699\trating:2.0\tname : Starman (1984)\n",
      "movieId : 349\trating:4.0\tname : Clear and Present Danger (1994)\n",
      "movieId : 2321\trating:3.0\tname : Pleasantville (1998)\n",
      "movieId : 1103\trating:3.0\tname : Rebel Without a Cause (1955)\n",
      "movieId : 2881\trating:3.0\tname : Double Jeopardy (1999)\n",
      "movieId : 2126\trating:3.0\tname : Snake Eyes (1998)\n",
      "movieId : 982\trating:4.0\tname : Picnic (1955)\n",
      "movieId : 3334\trating:4.0\tname : Key Largo (1948)\n",
      "movieId : 434\trating:2.0\tname : Cliffhanger (1993)\n",
      "movieId : 1198\trating:4.0\tname : Raiders of the Lost Ark (1981)\n",
      "movieId : 1245\trating:2.0\tname : Miller's Crossing (1990)\n",
      "movieId : 1527\trating:4.0\tname : Fifth Element, The (1997)\n",
      "movieId : 1385\trating:3.0\tname : Under Siege (1992)\n",
      "movieId : 1784\trating:5.0\tname : As Good As It Gets (1997)\n",
      "movieId : 163\trating:4.0\tname : Desperado (1995)\n",
      "movieId : 1610\trating:5.0\tname : Hunt for Red October, The (1990)\n",
      "movieId : 1210\trating:4.0\tname : Star Wars: Episode VI - Return of the Jedi (1983)\n",
      "movieId : 590\trating:5.0\tname : Dances with Wolves (1990)\n",
      "movieId : 1968\trating:2.0\tname : Breakfast Club, The (1985)\n",
      "movieId : 1957\trating:5.0\tname : Chariots of Fire (1981)\n",
      "movieId : 459\trating:3.0\tname : Getaway, The (1994)\n",
      "movieId : 1196\trating:5.0\tname : Star Wars: Episode V - The Empire Strikes Back (1980)\n",
      "movieId : 589\trating:4.0\tname : Terminator 2: Judgment Day (1991)\n",
      "movieId : 3735\trating:3.0\tname : Serpico (1973)\n",
      "movieId : 1244\trating:3.0\tname : Manhattan (1979)\n",
      "movieId : 235\trating:3.0\tname : Ed Wood (1994)\n",
      "movieId : 1954\trating:5.0\tname : Rocky (1976)\n",
      "movieId : 1597\trating:3.0\tname : Conspiracy Theory (1997)\n",
      "movieId : 457\trating:4.0\tname : Fugitive, The (1993)\n",
      "movieId : 356\trating:5.0\tname : Forrest Gump (1994)\n",
      "movieId : 2916\trating:3.0\tname : Total Recall (1990)\n",
      "movieId : 1687\trating:3.0\tname : Jackal, The (1997)\n",
      "movieId : 1792\trating:3.0\tname : U.S. Marshalls (1998)\n",
      "movieId : 380\trating:5.0\tname : True Lies (1994)\n",
      "movieId : 2717\trating:3.0\tname : Ghostbusters II (1989)\n",
      "movieId : 1537\trating:4.0\tname : Shall We Dance? (Shall We Dansu?) (1996)\n",
      "movieId : 1442\trating:4.0\tname : Prefontaine (1997)\n",
      "movieId : 1259\trating:5.0\tname : Stand by Me (1986)\n",
      "movieId : 1962\trating:5.0\tname : Driving Miss Daisy (1989)\n",
      "movieId : 1124\trating:5.0\tname : On Golden Pond (1981)\n",
      "movieId : 2006\trating:3.0\tname : Mask of Zorro, The (1998)\n",
      "movieId : 3030\trating:4.0\tname : Yojimbo (1961)\n",
      "movieId : 3578\trating:5.0\tname : Gladiator (2000)\n",
      "movieId : 1690\trating:3.0\tname : Alien: Resurrection (1997)\n",
      "movieId : 1246\trating:5.0\tname : Dead Poets Society (1989)\n",
      "movieId : 368\trating:4.0\tname : Maverick (1994)\n",
      "movieId : 3893\trating:1.0\tname : Nurse Betty (2000)\n",
      "movieId : 498\trating:3.0\tname : Mr. Jones (1993)\n",
      "movieId : 2728\trating:3.0\tname : Spartacus (1960)\n",
      "movieId : 2067\trating:5.0\tname : Doctor Zhivago (1965)\n",
      "movieId : 1370\trating:5.0\tname : Die Hard 2 (1990)\n",
      "movieId : 3255\trating:4.0\tname : League of Their Own, A (1992)\n",
      "movieId : 2501\trating:5.0\tname : October Sky (1999)\n",
      "movieId : 292\trating:3.0\tname : Outbreak (1995)\n",
      "movieId : 1953\trating:4.0\tname : French Connection, The (1971)\n",
      "movieId : 2312\trating:3.0\tname : Children of a Lesser God (1986)\n",
      "movieId : 2028\trating:4.0\tname : Saving Private Ryan (1998)\n",
      "movieId : 2427\trating:2.0\tname : Thin Red Line, The (1998)\n",
      "movieId : 2943\trating:4.0\tname : Indochine (1992)\n",
      "movieId : 21\trating:1.0\tname : Get Shorty (1995)\n",
      "movieId : 1955\trating:4.0\tname : Kramer Vs. Kramer (1979)\n",
      "movieId : 1247\trating:5.0\tname : Graduate, The (1967)\n",
      "movieId : 2278\trating:3.0\tname : Ronin (1998)\n",
      "movieId : 2396\trating:4.0\tname : Shakespeare in Love (1998)\n",
      "movieId : 3471\trating:5.0\tname : Close Encounters of the Third Kind (1977)\n",
      "movieId : 3468\trating:5.0\tname : Hustler, The (1961)\n",
      "movieId : 3654\trating:3.0\tname : Guns of Navarone, The (1961)\n",
      "movieId : 3678\trating:3.0\tname : Man with the Golden Arm, The (1955)\n",
      "movieId : 1945\trating:5.0\tname : On the Waterfront (1954)\n",
      "movieId : 110\trating:5.0\tname : Braveheart (1995)\n",
      "movieId : 648\trating:4.0\tname : Mission: Impossible (1996)\n",
      "movieId : 2359\trating:3.0\tname : Waking Ned Devine (1998)\n",
      "movieId : 1253\trating:3.0\tname : Day the Earth Stood Still, The (1951)\n",
      "movieId : 1544\trating:4.0\tname : Lost World: Jurassic Park, The (1997)\n",
      "movieId : 2571\trating:4.0\tname : Matrix, The (1999)\n",
      "movieId : 1873\trating:4.0\tname : Misérables, Les (1998)\n",
      "movieId : 318\trating:5.0\tname : Shawshank Redemption, The (1994)\n",
      "movieId : 165\trating:3.0\tname : Die Hard: With a Vengeance (1995)\n",
      "movieId : 2236\trating:5.0\tname : Simon Birch (1998)\n",
      "movieId : 2002\trating:5.0\tname : Lethal Weapon 3 (1992)\n",
      "movieId : 3256\trating:2.0\tname : Patriot Games (1992)\n",
      "movieId : 3108\trating:3.0\tname : Fisher King, The (1991)\n",
      "movieId : 2490\trating:3.0\tname : Payback (1999)\n",
      "movieId : 1207\trating:4.0\tname : To Kill a Mockingbird (1962)\n",
      "movieId : 3095\trating:4.0\tname : Grapes of Wrath, The (1940)\n",
      "movieId : 3147\trating:5.0\tname : Green Mile, The (1999)\n",
      "movieId : 3105\trating:4.0\tname : Awakenings (1990)\n",
      "movieId : 736\trating:4.0\tname : Twister (1996)\n",
      "movieId : 265\trating:4.0\tname : Like Water for Chocolate (Como agua para chocolate) (1992)\n",
      "\n",
      "RECOMMENDED MOVIES :\n",
      "movieId : 318\trating:5.1031214003805045\tname : Shawshank Redemption, The (1994)\n",
      "movieId : 920\trating:5.085731603848939\tname : Gone with the Wind (1939)\n",
      "movieId : 593\trating:5.050570961181815\tname : Silence of the Lambs, The (1991)\n",
      "movieId : 3578\trating:5.045491283428311\tname : Gladiator (2000)\n",
      "movieId : 1610\trating:5.042108315553777\tname : Hunt for Red October, The (1990)\n",
      "movieId : 1784\trating:5.022571207450364\tname : As Good As It Gets (1997)\n",
      "movieId : 2501\trating:5.004478185175312\tname : October Sky (1999)\n",
      "movieId : 1945\trating:4.981544782650064\tname : On the Waterfront (1954)\n",
      "movieId : 110\trating:4.976267767454469\tname : Braveheart (1995)\n",
      "movieId : 380\trating:4.975947476072793\tname : True Lies (1994)\n",
      "movieId : 1196\trating:4.975144415376003\tname : Star Wars: Episode V - The Empire Strikes Back (1980)\n",
      "movieId : 1193\trating:4.973466615742592\tname : One Flew Over the Cuckoo's Nest (1975)\n",
      "movieId : 1259\trating:4.9696802712099615\tname : Stand by Me (1986)\n",
      "movieId : 1246\trating:4.938113216700875\tname : Dead Poets Society (1989)\n",
      "movieId : 356\trating:4.936607597164029\tname : Forrest Gump (1994)\n",
      "movieId : 1370\trating:4.897205440870841\tname : Die Hard 2 (1990)\n",
      "movieId : 480\trating:4.88201535010944\tname : Jurassic Park (1993)\n",
      "movieId : 590\trating:4.845080901312703\tname : Dances with Wolves (1990)\n",
      "movieId : 3471\trating:4.822650814467382\tname : Close Encounters of the Third Kind (1977)\n",
      "movieId : 1247\trating:4.8151625583719335\tname : Graduate, The (1967)\n"
     ]
    }
   ],
   "source": [
    "def get_predictions(user_id , n_recommendations):\n",
    "    idx = uid_to_idx.get(user_id)\n",
    "    print('user_id : {}\\t index : {}'.format(user_id , idx))\n",
    "    print('\\nWATCHED MOVIES :')\n",
    "    watched_ratings = interaction_dict.get(user_id)\n",
    "    watched_movie_list = []\n",
    "    for i in watched_ratings:\n",
    "        print('movieId : {}\\trating:{}\\tname : {}'.format(i,watched_ratings.get(i), idx_to_movie_names_dict.get(i)))\n",
    "        watched_movie_list.append(i)\n",
    "        \n",
    "    pred_cid_idx = np.argsort(predictions_matrix[idx])[::-1][:n_recommendations]\n",
    "    pred_cid_scores = predictions_matrix[idx]\n",
    "    #pred_cid_scores = pred_cid_scores[pred_cid_idx]\n",
    "    print('\\nRECOMMENDED MOVIES :')\n",
    "    for i in pred_cid_idx:\n",
    "        cid = idx_to_cid.get(i)\n",
    "        rating = pred_cid_scores[i]\n",
    "        name = idx_to_movie_names_dict.get(cid)\n",
    "        print('movieId : {}\\trating:{}\\tname : {}'.format(cid,rating, name))\n",
    "        \n",
    "    \n",
    "get_predictions(user_id = 2 , n_recommendations = 20)        "
   ]
  },
  {
   "cell_type": "code",
   "execution_count": 29,
   "metadata": {},
   "outputs": [],
   "source": [
    "def get_predictions_files(user_id , n_recommendations):\n",
    "    idx = uid_to_idx.get(user_id)\n",
    "    \n",
    "    watched_ratings = interaction_dict.get(user_id)\n",
    "    watched_movie_list = []\n",
    "    for i in watched_ratings:\n",
    "        watched_movie_list.append(i)\n",
    "        \n",
    "    pred_cid_idx = np.argsort(predictions_matrix[idx])[::-1]\n",
    "    recommended_cid = []\n",
    "    ctr = 0\n",
    "    for i in pred_cid_idx:\n",
    "        cid = idx_to_cid.get(i)\n",
    "        if cid not in watched_movie_list:\n",
    "            recommended_cid.append(cid)\n",
    "            ctr+=1\n",
    "            if ctr == n_recommendations:\n",
    "                break\n",
    "        \n",
    "    return set(recommended_cid)"
   ]
  },
  {
   "cell_type": "code",
   "execution_count": 34,
   "metadata": {},
   "outputs": [],
   "source": [
    "prediction_dict = {}\n",
    "for user_id in uid_to_idx:\n",
    "    prediction_dict[user_id] = get_predictions_files(user_id = user_id , n_recommendations = 20 )"
   ]
  },
  {
   "cell_type": "code",
   "execution_count": 35,
   "metadata": {},
   "outputs": [],
   "source": [
    "interaction_dict_test = {}\n",
    "cid_to_idx_test = {}\n",
    "idx_to_cid_test = {}\n",
    "uid_to_idx_test ={}\n",
    "idx_to_uid_test = {}\n",
    "cidx = 0\n",
    "uidx = 0\n",
    "\n",
    "input_file = filepath + 'test_set.csv'\n",
    "with open(input_file) as fp:\n",
    "    next(fp)\n",
    "    for line in fp:\n",
    "        row = line.split(',') \n",
    "        uid = int(row[0])\n",
    "        cid = int(row[1])\n",
    "        rating = float(row[2])\n",
    "        if uid_to_idx_test.get(uid) == None :\n",
    "            uid_to_idx_test[uid] = uidx\n",
    "            idx_to_uid_test[uidx] = uid\n",
    "            interaction_dict_test[uid] = {}\n",
    "            uidx+=1\n",
    "        \n",
    "        if cid_to_idx_test.get(cid) == None :\n",
    "            cid_to_idx_test[cid] = cidx\n",
    "            idx_to_cid_test[cidx] = cid\n",
    "            cidx+=1\n",
    "            \n",
    "        interaction_dict_test[uid][cid] = rating\n",
    "\n",
    "fp.close()"
   ]
  },
  {
   "cell_type": "code",
   "execution_count": 44,
   "metadata": {},
   "outputs": [
    {
     "name": "stdout",
     "output_type": "stream",
     "text": [
      "hits : 7907\tmisses : 192135\tactual_watched:200042\tactual_predicted:120740\n",
      "Max Prescision :0.6035732496175803\tPrecision@10:0.06548782507868146 , Recall@10:0.039526699393127446\n"
     ]
    }
   ],
   "source": [
    "hits = 0\n",
    "misses = 0\n",
    "actual_watched = 0\n",
    "total_predicted = 0\n",
    "for user_id in prediction_dict:\n",
    "    predicted = prediction_dict.get(user_id)\n",
    "    actual_ratings = interaction_dict_test.get( user_id , 0 )\n",
    "    if actual_ratings!=0:\n",
    "        total_predicted += len(predicted)\n",
    "        actual = set(interaction_dict_test[user_id].keys())\n",
    "        actual_watched += len(actual)\n",
    "        hits += len(predicted.intersection(actual))\n",
    "        \n",
    "    max_precision = total_predicted / actual_watched\n",
    "\n",
    "misses  =  actual_watched - hits\n",
    "print('Hits : {}\\tMisses : {}\\tactual_watched:{}\\tactual_predicted:{}'.format(hits,misses,actual_watched,total_predicted))\n",
    "print('Max Prescision :{}\\tPrecision@10:{} , Recall@10:{}'.format(total_predicted/actual_watched , hits/total_predicted,hits/actual_watched ))"
   ]
  },
  {
   "cell_type": "code",
   "execution_count": null,
   "metadata": {},
   "outputs": [],
   "source": []
  }
 ],
 "metadata": {
  "kernelspec": {
   "display_name": "Python 3",
   "language": "python",
   "name": "python3"
  },
  "language_info": {
   "codemirror_mode": {
    "name": "ipython",
    "version": 3
   },
   "file_extension": ".py",
   "mimetype": "text/x-python",
   "name": "python",
   "nbconvert_exporter": "python",
   "pygments_lexer": "ipython3",
   "version": "3.7.3"
  }
 },
 "nbformat": 4,
 "nbformat_minor": 2
}
