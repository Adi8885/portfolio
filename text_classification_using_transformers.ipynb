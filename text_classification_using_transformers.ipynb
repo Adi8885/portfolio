{
  "nbformat": 4,
  "nbformat_minor": 0,
  "metadata": {
    "colab": {
      "name": "text_classification_using_transformers.ipynb",
      "provenance": [],
      "collapsed_sections": [],
      "toc_visible": true,
      "authorship_tag": "ABX9TyNQyMu7YeLvVwt2dmlX/LbN",
      "include_colab_link": true
    },
    "kernelspec": {
      "name": "python3",
      "display_name": "Python 3"
    },
    "accelerator": "GPU"
  },
  "cells": [
    {
      "cell_type": "markdown",
      "metadata": {
        "id": "view-in-github",
        "colab_type": "text"
      },
      "source": [
        "<a href=\"https://colab.research.google.com/github/Adi8885/RecurrentNets/blob/master/text_classification_using_transformers.ipynb\" target=\"_parent\"><img src=\"https://colab.research.google.com/assets/colab-badge.svg\" alt=\"Open In Colab\"/></a>"
      ]
    },
    {
      "cell_type": "code",
      "metadata": {
        "id": "haiPait8XbG_",
        "colab_type": "code",
        "colab": {}
      },
      "source": [
        "import torch\n",
        "import torch.nn as nn\n",
        "import torch.nn.functional as F\n",
        "import torchvision.datasets as Dataset\n",
        "import torch.autograd as autograd\n",
        "from torch.utils.data import Dataset, DataLoader\n",
        "import torchvision\n",
        "import transformers\n",
        "from transformers import AlbertModel , AlbertTokenizer\n",
        "import pandas  as pd\n",
        "import numpy as np\n",
        "import matplotlib.pyplot as plt\n",
        "import seaborn as sns\n",
        "import os\n",
        "import sys\n",
        "import pandas_profiling as pp\n",
        "import time\n",
        "import warnings\n",
        "import logging\n",
        "from sklearn.model_selection import train_test_split\n",
        "from sklearn.preprocessing import LabelEncoder\n",
        "from sklearn.metrics import classification_report , accuracy_score , confusion_matrix\n",
        "warnings.filterwarnings(\"ignore\")"
      ],
      "execution_count": 0,
      "outputs": []
    },
    {
      "cell_type": "code",
      "metadata": {
        "id": "iUHap-Pi_1Ov",
        "colab_type": "code",
        "colab": {}
      },
      "source": [
        "logging.getLogger(\"transformers.tokenization_utils\").setLevel(logging.ERROR)"
      ],
      "execution_count": 0,
      "outputs": []
    },
    {
      "cell_type": "code",
      "metadata": {
        "id": "cODm6_bpXfNI",
        "colab_type": "code",
        "colab": {
          "base_uri": "https://localhost:8080/",
          "height": 51
        },
        "outputId": "ae9762a8-b621-40a7-f64e-b70b652e20e3"
      },
      "source": [
        "filepath = os.getcwd()+'/'\n",
        "filename = 'consumer_complaints.zip'\n",
        "print(' reading from path : {}'.format(filepath + filename))\n",
        "start_time = time.time()\n",
        "data = pd.read_csv(filepath + filename , compression = 'zip' , low_memory=False)\n",
        "print('time taken to load data : {}'.format(time.time() - start_time))"
      ],
      "execution_count": 18,
      "outputs": [
        {
          "output_type": "stream",
          "text": [
            " reading from path : /content/consumer_complaints.zip\n",
            "time taken to load data : 3.2927610874176025\n"
          ],
          "name": "stdout"
        }
      ]
    },
    {
      "cell_type": "code",
      "metadata": {
        "id": "uugtoC6dXllr",
        "colab_type": "code",
        "colab": {
          "base_uri": "https://localhost:8080/",
          "height": 394
        },
        "outputId": "2d9bf432-ccff-4c2a-fb85-94bfbe15203b"
      },
      "source": [
        "data.head()"
      ],
      "execution_count": 19,
      "outputs": [
        {
          "output_type": "execute_result",
          "data": {
            "text/html": [
              "<div>\n",
              "<style scoped>\n",
              "    .dataframe tbody tr th:only-of-type {\n",
              "        vertical-align: middle;\n",
              "    }\n",
              "\n",
              "    .dataframe tbody tr th {\n",
              "        vertical-align: top;\n",
              "    }\n",
              "\n",
              "    .dataframe thead th {\n",
              "        text-align: right;\n",
              "    }\n",
              "</style>\n",
              "<table border=\"1\" class=\"dataframe\">\n",
              "  <thead>\n",
              "    <tr style=\"text-align: right;\">\n",
              "      <th></th>\n",
              "      <th>date_received</th>\n",
              "      <th>product</th>\n",
              "      <th>sub_product</th>\n",
              "      <th>issue</th>\n",
              "      <th>sub_issue</th>\n",
              "      <th>consumer_complaint_narrative</th>\n",
              "      <th>company_public_response</th>\n",
              "      <th>company</th>\n",
              "      <th>state</th>\n",
              "      <th>zipcode</th>\n",
              "      <th>tags</th>\n",
              "      <th>consumer_consent_provided</th>\n",
              "      <th>submitted_via</th>\n",
              "      <th>date_sent_to_company</th>\n",
              "      <th>company_response_to_consumer</th>\n",
              "      <th>timely_response</th>\n",
              "      <th>consumer_disputed?</th>\n",
              "      <th>complaint_id</th>\n",
              "    </tr>\n",
              "  </thead>\n",
              "  <tbody>\n",
              "    <tr>\n",
              "      <th>0</th>\n",
              "      <td>08/30/2013</td>\n",
              "      <td>Mortgage</td>\n",
              "      <td>Other mortgage</td>\n",
              "      <td>Loan modification,collection,foreclosure</td>\n",
              "      <td>NaN</td>\n",
              "      <td>NaN</td>\n",
              "      <td>NaN</td>\n",
              "      <td>U.S. Bancorp</td>\n",
              "      <td>CA</td>\n",
              "      <td>95993</td>\n",
              "      <td>NaN</td>\n",
              "      <td>NaN</td>\n",
              "      <td>Referral</td>\n",
              "      <td>09/03/2013</td>\n",
              "      <td>Closed with explanation</td>\n",
              "      <td>Yes</td>\n",
              "      <td>Yes</td>\n",
              "      <td>511074</td>\n",
              "    </tr>\n",
              "    <tr>\n",
              "      <th>1</th>\n",
              "      <td>08/30/2013</td>\n",
              "      <td>Mortgage</td>\n",
              "      <td>Other mortgage</td>\n",
              "      <td>Loan servicing, payments, escrow account</td>\n",
              "      <td>NaN</td>\n",
              "      <td>NaN</td>\n",
              "      <td>NaN</td>\n",
              "      <td>Wells Fargo &amp; Company</td>\n",
              "      <td>CA</td>\n",
              "      <td>91104</td>\n",
              "      <td>NaN</td>\n",
              "      <td>NaN</td>\n",
              "      <td>Referral</td>\n",
              "      <td>09/03/2013</td>\n",
              "      <td>Closed with explanation</td>\n",
              "      <td>Yes</td>\n",
              "      <td>Yes</td>\n",
              "      <td>511080</td>\n",
              "    </tr>\n",
              "    <tr>\n",
              "      <th>2</th>\n",
              "      <td>08/30/2013</td>\n",
              "      <td>Credit reporting</td>\n",
              "      <td>NaN</td>\n",
              "      <td>Incorrect information on credit report</td>\n",
              "      <td>Account status</td>\n",
              "      <td>NaN</td>\n",
              "      <td>NaN</td>\n",
              "      <td>Wells Fargo &amp; Company</td>\n",
              "      <td>NY</td>\n",
              "      <td>11764</td>\n",
              "      <td>NaN</td>\n",
              "      <td>NaN</td>\n",
              "      <td>Postal mail</td>\n",
              "      <td>09/18/2013</td>\n",
              "      <td>Closed with explanation</td>\n",
              "      <td>Yes</td>\n",
              "      <td>No</td>\n",
              "      <td>510473</td>\n",
              "    </tr>\n",
              "    <tr>\n",
              "      <th>3</th>\n",
              "      <td>08/30/2013</td>\n",
              "      <td>Student loan</td>\n",
              "      <td>Non-federal student loan</td>\n",
              "      <td>Repaying your loan</td>\n",
              "      <td>Repaying your loan</td>\n",
              "      <td>NaN</td>\n",
              "      <td>NaN</td>\n",
              "      <td>Navient Solutions, Inc.</td>\n",
              "      <td>MD</td>\n",
              "      <td>21402</td>\n",
              "      <td>NaN</td>\n",
              "      <td>NaN</td>\n",
              "      <td>Email</td>\n",
              "      <td>08/30/2013</td>\n",
              "      <td>Closed with explanation</td>\n",
              "      <td>Yes</td>\n",
              "      <td>Yes</td>\n",
              "      <td>510326</td>\n",
              "    </tr>\n",
              "    <tr>\n",
              "      <th>4</th>\n",
              "      <td>08/30/2013</td>\n",
              "      <td>Debt collection</td>\n",
              "      <td>Credit card</td>\n",
              "      <td>False statements or representation</td>\n",
              "      <td>Attempted to collect wrong amount</td>\n",
              "      <td>NaN</td>\n",
              "      <td>NaN</td>\n",
              "      <td>Resurgent Capital Services L.P.</td>\n",
              "      <td>GA</td>\n",
              "      <td>30106</td>\n",
              "      <td>NaN</td>\n",
              "      <td>NaN</td>\n",
              "      <td>Web</td>\n",
              "      <td>08/30/2013</td>\n",
              "      <td>Closed with explanation</td>\n",
              "      <td>Yes</td>\n",
              "      <td>Yes</td>\n",
              "      <td>511067</td>\n",
              "    </tr>\n",
              "  </tbody>\n",
              "</table>\n",
              "</div>"
            ],
            "text/plain": [
              "  date_received           product  ... consumer_disputed? complaint_id\n",
              "0    08/30/2013          Mortgage  ...                Yes       511074\n",
              "1    08/30/2013          Mortgage  ...                Yes       511080\n",
              "2    08/30/2013  Credit reporting  ...                 No       510473\n",
              "3    08/30/2013      Student loan  ...                Yes       510326\n",
              "4    08/30/2013   Debt collection  ...                Yes       511067\n",
              "\n",
              "[5 rows x 18 columns]"
            ]
          },
          "metadata": {
            "tags": []
          },
          "execution_count": 19
        }
      ]
    },
    {
      "cell_type": "code",
      "metadata": {
        "id": "ywLYa_IqXnXj",
        "colab_type": "code",
        "colab": {
          "base_uri": "https://localhost:8080/",
          "height": 204
        },
        "outputId": "9e5941ff-d47d-49d1-abc9-e380344fae81"
      },
      "source": [
        "data = data[['consumer_complaint_narrative','product']]\n",
        "data['seq_length'] = data['consumer_complaint_narrative'].apply(lambda x: len(str(x).split(\" \")))\n",
        "data.head()"
      ],
      "execution_count": 20,
      "outputs": [
        {
          "output_type": "execute_result",
          "data": {
            "text/html": [
              "<div>\n",
              "<style scoped>\n",
              "    .dataframe tbody tr th:only-of-type {\n",
              "        vertical-align: middle;\n",
              "    }\n",
              "\n",
              "    .dataframe tbody tr th {\n",
              "        vertical-align: top;\n",
              "    }\n",
              "\n",
              "    .dataframe thead th {\n",
              "        text-align: right;\n",
              "    }\n",
              "</style>\n",
              "<table border=\"1\" class=\"dataframe\">\n",
              "  <thead>\n",
              "    <tr style=\"text-align: right;\">\n",
              "      <th></th>\n",
              "      <th>consumer_complaint_narrative</th>\n",
              "      <th>product</th>\n",
              "      <th>seq_length</th>\n",
              "    </tr>\n",
              "  </thead>\n",
              "  <tbody>\n",
              "    <tr>\n",
              "      <th>0</th>\n",
              "      <td>NaN</td>\n",
              "      <td>Mortgage</td>\n",
              "      <td>1</td>\n",
              "    </tr>\n",
              "    <tr>\n",
              "      <th>1</th>\n",
              "      <td>NaN</td>\n",
              "      <td>Mortgage</td>\n",
              "      <td>1</td>\n",
              "    </tr>\n",
              "    <tr>\n",
              "      <th>2</th>\n",
              "      <td>NaN</td>\n",
              "      <td>Credit reporting</td>\n",
              "      <td>1</td>\n",
              "    </tr>\n",
              "    <tr>\n",
              "      <th>3</th>\n",
              "      <td>NaN</td>\n",
              "      <td>Student loan</td>\n",
              "      <td>1</td>\n",
              "    </tr>\n",
              "    <tr>\n",
              "      <th>4</th>\n",
              "      <td>NaN</td>\n",
              "      <td>Debt collection</td>\n",
              "      <td>1</td>\n",
              "    </tr>\n",
              "  </tbody>\n",
              "</table>\n",
              "</div>"
            ],
            "text/plain": [
              "  consumer_complaint_narrative           product  seq_length\n",
              "0                          NaN          Mortgage           1\n",
              "1                          NaN          Mortgage           1\n",
              "2                          NaN  Credit reporting           1\n",
              "3                          NaN      Student loan           1\n",
              "4                          NaN   Debt collection           1"
            ]
          },
          "metadata": {
            "tags": []
          },
          "execution_count": 20
        }
      ]
    },
    {
      "cell_type": "code",
      "metadata": {
        "id": "JRghhYKTgWZx",
        "colab_type": "code",
        "colab": {
          "base_uri": "https://localhost:8080/",
          "height": 204
        },
        "outputId": "b79c8394-ae24-42e6-dc3e-217acdded3e2"
      },
      "source": [
        "data[(~data.consumer_complaint_narrative.isna())].head()"
      ],
      "execution_count": 21,
      "outputs": [
        {
          "output_type": "execute_result",
          "data": {
            "text/html": [
              "<div>\n",
              "<style scoped>\n",
              "    .dataframe tbody tr th:only-of-type {\n",
              "        vertical-align: middle;\n",
              "    }\n",
              "\n",
              "    .dataframe tbody tr th {\n",
              "        vertical-align: top;\n",
              "    }\n",
              "\n",
              "    .dataframe thead th {\n",
              "        text-align: right;\n",
              "    }\n",
              "</style>\n",
              "<table border=\"1\" class=\"dataframe\">\n",
              "  <thead>\n",
              "    <tr style=\"text-align: right;\">\n",
              "      <th></th>\n",
              "      <th>consumer_complaint_narrative</th>\n",
              "      <th>product</th>\n",
              "      <th>seq_length</th>\n",
              "    </tr>\n",
              "  </thead>\n",
              "  <tbody>\n",
              "    <tr>\n",
              "      <th>190126</th>\n",
              "      <td>XXXX has claimed I owe them {$27.00} for XXXX ...</td>\n",
              "      <td>Debt collection</td>\n",
              "      <td>56</td>\n",
              "    </tr>\n",
              "    <tr>\n",
              "      <th>190135</th>\n",
              "      <td>Due to inconsistencies in the amount owed that...</td>\n",
              "      <td>Consumer Loan</td>\n",
              "      <td>249</td>\n",
              "    </tr>\n",
              "    <tr>\n",
              "      <th>190155</th>\n",
              "      <td>In XX/XX/XXXX my wages that I earned at my job...</td>\n",
              "      <td>Mortgage</td>\n",
              "      <td>667</td>\n",
              "    </tr>\n",
              "    <tr>\n",
              "      <th>190207</th>\n",
              "      <td>I have an open and current mortgage with Chase...</td>\n",
              "      <td>Mortgage</td>\n",
              "      <td>76</td>\n",
              "    </tr>\n",
              "    <tr>\n",
              "      <th>190208</th>\n",
              "      <td>XXXX was submitted XX/XX/XXXX. At the time I s...</td>\n",
              "      <td>Mortgage</td>\n",
              "      <td>260</td>\n",
              "    </tr>\n",
              "  </tbody>\n",
              "</table>\n",
              "</div>"
            ],
            "text/plain": [
              "                             consumer_complaint_narrative  ... seq_length\n",
              "190126  XXXX has claimed I owe them {$27.00} for XXXX ...  ...         56\n",
              "190135  Due to inconsistencies in the amount owed that...  ...        249\n",
              "190155  In XX/XX/XXXX my wages that I earned at my job...  ...        667\n",
              "190207  I have an open and current mortgage with Chase...  ...         76\n",
              "190208  XXXX was submitted XX/XX/XXXX. At the time I s...  ...        260\n",
              "\n",
              "[5 rows x 3 columns]"
            ]
          },
          "metadata": {
            "tags": []
          },
          "execution_count": 21
        }
      ]
    },
    {
      "cell_type": "code",
      "metadata": {
        "id": "n771mWP7fkFs",
        "colab_type": "code",
        "colab": {
          "base_uri": "https://localhost:8080/",
          "height": 238
        },
        "outputId": "f0ba63f8-dfeb-4d4b-a32b-aca54ff6abbc"
      },
      "source": [
        "data.seq_length.describe(percentiles = [0.25 , 0.5 , 0.75 , 0.9 , 0.95 , 0.98 , 0.99])"
      ],
      "execution_count": 22,
      "outputs": [
        {
          "output_type": "execute_result",
          "data": {
            "text/plain": [
              "count    555957.000000\n",
              "mean         23.910802\n",
              "std          84.791148\n",
              "min           1.000000\n",
              "25%           1.000000\n",
              "50%           1.000000\n",
              "75%           1.000000\n",
              "90%          54.000000\n",
              "95%         167.000000\n",
              "98%         333.000000\n",
              "99%         476.000000\n",
              "max        1285.000000\n",
              "Name: seq_length, dtype: float64"
            ]
          },
          "metadata": {
            "tags": []
          },
          "execution_count": 22
        }
      ]
    },
    {
      "cell_type": "code",
      "metadata": {
        "id": "Lal3v3eJgADu",
        "colab_type": "code",
        "colab": {}
      },
      "source": [
        "#since 90% of data is below 64, keepong seq length at 64\n",
        "seq_length = 256"
      ],
      "execution_count": 0,
      "outputs": []
    },
    {
      "cell_type": "code",
      "metadata": {
        "id": "K8YhfJFIqHwa",
        "colab_type": "code",
        "colab": {
          "base_uri": "https://localhost:8080/",
          "height": 204
        },
        "outputId": "e873b197-3644-4ff3-f308-b5e3ef1db6a1"
      },
      "source": [
        "data = data[(~data.consumer_complaint_narrative.isna())]\n",
        "data.reset_index(inplace= True , drop=True)\n",
        "data.head()"
      ],
      "execution_count": 24,
      "outputs": [
        {
          "output_type": "execute_result",
          "data": {
            "text/html": [
              "<div>\n",
              "<style scoped>\n",
              "    .dataframe tbody tr th:only-of-type {\n",
              "        vertical-align: middle;\n",
              "    }\n",
              "\n",
              "    .dataframe tbody tr th {\n",
              "        vertical-align: top;\n",
              "    }\n",
              "\n",
              "    .dataframe thead th {\n",
              "        text-align: right;\n",
              "    }\n",
              "</style>\n",
              "<table border=\"1\" class=\"dataframe\">\n",
              "  <thead>\n",
              "    <tr style=\"text-align: right;\">\n",
              "      <th></th>\n",
              "      <th>consumer_complaint_narrative</th>\n",
              "      <th>product</th>\n",
              "      <th>seq_length</th>\n",
              "    </tr>\n",
              "  </thead>\n",
              "  <tbody>\n",
              "    <tr>\n",
              "      <th>0</th>\n",
              "      <td>XXXX has claimed I owe them {$27.00} for XXXX ...</td>\n",
              "      <td>Debt collection</td>\n",
              "      <td>56</td>\n",
              "    </tr>\n",
              "    <tr>\n",
              "      <th>1</th>\n",
              "      <td>Due to inconsistencies in the amount owed that...</td>\n",
              "      <td>Consumer Loan</td>\n",
              "      <td>249</td>\n",
              "    </tr>\n",
              "    <tr>\n",
              "      <th>2</th>\n",
              "      <td>In XX/XX/XXXX my wages that I earned at my job...</td>\n",
              "      <td>Mortgage</td>\n",
              "      <td>667</td>\n",
              "    </tr>\n",
              "    <tr>\n",
              "      <th>3</th>\n",
              "      <td>I have an open and current mortgage with Chase...</td>\n",
              "      <td>Mortgage</td>\n",
              "      <td>76</td>\n",
              "    </tr>\n",
              "    <tr>\n",
              "      <th>4</th>\n",
              "      <td>XXXX was submitted XX/XX/XXXX. At the time I s...</td>\n",
              "      <td>Mortgage</td>\n",
              "      <td>260</td>\n",
              "    </tr>\n",
              "  </tbody>\n",
              "</table>\n",
              "</div>"
            ],
            "text/plain": [
              "                        consumer_complaint_narrative  ... seq_length\n",
              "0  XXXX has claimed I owe them {$27.00} for XXXX ...  ...         56\n",
              "1  Due to inconsistencies in the amount owed that...  ...        249\n",
              "2  In XX/XX/XXXX my wages that I earned at my job...  ...        667\n",
              "3  I have an open and current mortgage with Chase...  ...         76\n",
              "4  XXXX was submitted XX/XX/XXXX. At the time I s...  ...        260\n",
              "\n",
              "[5 rows x 3 columns]"
            ]
          },
          "metadata": {
            "tags": []
          },
          "execution_count": 24
        }
      ]
    },
    {
      "cell_type": "code",
      "metadata": {
        "id": "kxsjttbgqRIf",
        "colab_type": "code",
        "colab": {
          "base_uri": "https://localhost:8080/",
          "height": 34
        },
        "outputId": "05dd3996-64ef-453d-9a7d-e77f08ef3a73"
      },
      "source": [
        "data.shape"
      ],
      "execution_count": 25,
      "outputs": [
        {
          "output_type": "execute_result",
          "data": {
            "text/plain": [
              "(66806, 3)"
            ]
          },
          "metadata": {
            "tags": []
          },
          "execution_count": 25
        }
      ]
    },
    {
      "cell_type": "code",
      "metadata": {
        "id": "UlGEfAjjqSPd",
        "colab_type": "code",
        "colab": {
          "base_uri": "https://localhost:8080/",
          "height": 34
        },
        "outputId": "66851ea4-4994-498e-a90a-6b8852c65e7a"
      },
      "source": [
        "embeddings_matrix =  np.zeros((data.shape[0] , 768))\n",
        "embeddings_matrix.shape"
      ],
      "execution_count": 26,
      "outputs": [
        {
          "output_type": "execute_result",
          "data": {
            "text/plain": [
              "(66806, 768)"
            ]
          },
          "metadata": {
            "tags": []
          },
          "execution_count": 26
        }
      ]
    },
    {
      "cell_type": "code",
      "metadata": {
        "id": "JA8M_RazvJnf",
        "colab_type": "code",
        "colab": {
          "base_uri": "https://localhost:8080/",
          "height": 34
        },
        "outputId": "cb95728f-01b3-4e7a-be74-8323d681b23b"
      },
      "source": [
        "if torch.cuda.is_available():\n",
        "  device = torch.device('cuda')\n",
        "  print('CUDA available using GPU')\n",
        "else :\n",
        "   device = torch.device('cpu')\n",
        "   print('CUDA NOT available using CPU')"
      ],
      "execution_count": 27,
      "outputs": [
        {
          "output_type": "stream",
          "text": [
            "CUDA available using GPU\n"
          ],
          "name": "stdout"
        }
      ]
    },
    {
      "cell_type": "code",
      "metadata": {
        "id": "He-r6RRaruzd",
        "colab_type": "code",
        "colab": {}
      },
      "source": [
        "tokenizer = AlbertTokenizer.from_pretrained('albert-base-v2' , max_len = seq_length)\n",
        "model = AlbertModel.from_pretrained('albert-base-v2' , output_hidden_states = True)\n",
        "model = model.to(device)\n",
        "model = model.eval()"
      ],
      "execution_count": 0,
      "outputs": []
    },
    {
      "cell_type": "code",
      "metadata": {
        "id": "BatuL4vstGYo",
        "colab_type": "code",
        "colab": {
          "base_uri": "https://localhost:8080/",
          "height": 1000
        },
        "outputId": "ff24cede-a197-4a41-815b-1ea53b7f28f3"
      },
      "source": [
        "warnings.filterwarnings(\"ignore\")\n",
        "print_every =  500\n",
        "start_time_loop = time.time()\n",
        "time_list = []\n",
        "for i in data.index:\n",
        "  text = data.loc[i].consumer_complaint_narrative\n",
        "  input_ids = torch.tensor(tokenizer.encode(text, add_special_tokens=True)[:seq_length]).unsqueeze(0)\n",
        "  outputs = model(input_ids.to(device))\n",
        "  last_layer = outputs[2][12][0][0]\n",
        "  layer_11 = outputs[2][11][0][0]\n",
        "  layer_10 = outputs[2][10][0][0]\n",
        "  layer_9 = outputs[2][9][0][0]\n",
        "\n",
        "  final_embedding = last_layer + layer_11 + layer_10 + layer_9\n",
        "\n",
        "  embeddings_matrix[i]+=final_embedding.cpu().detach().numpy()\n",
        "\n",
        "  if i % print_every == 0 :\n",
        "    print('index {} / {} , {}'.format(i , data.shape[0] , time.time() - start_time))\n",
        "    time_list.append(time.time() - start_time)\n",
        "    start_time = time.time()\n",
        "\n",
        "try:\n",
        "  np.save('embeddings_matrix' , arr = embeddings_matrix , allow_pickle=True)\n",
        "  print('Saved matrix locally')\n",
        "except:\n",
        "  print('ERROR saving embeddings')\n",
        "print('time taken to generate embeddings : {}'.format(time.time() - start_time_loop))"
      ],
      "execution_count": 29,
      "outputs": [
        {
          "output_type": "stream",
          "text": [
            "index 0 / 66806 , 6.006929159164429\n",
            "index 500 / 66806 , 8.62108302116394\n",
            "index 1000 / 66806 , 8.773597717285156\n",
            "index 1500 / 66806 , 8.832340240478516\n",
            "index 2000 / 66806 , 8.64569091796875\n",
            "index 2500 / 66806 , 8.569299936294556\n",
            "index 3000 / 66806 , 8.725908279418945\n",
            "index 3500 / 66806 , 8.449679613113403\n",
            "index 4000 / 66806 , 8.566915273666382\n",
            "index 4500 / 66806 , 8.685968160629272\n",
            "index 5000 / 66806 , 8.63992714881897\n",
            "index 5500 / 66806 , 8.648613691329956\n",
            "index 6000 / 66806 , 8.468859672546387\n",
            "index 6500 / 66806 , 8.720704555511475\n",
            "index 7000 / 66806 , 8.550178527832031\n",
            "index 7500 / 66806 , 8.635714054107666\n",
            "index 8000 / 66806 , 8.592604398727417\n",
            "index 8500 / 66806 , 8.798749685287476\n",
            "index 9000 / 66806 , 8.514890909194946\n",
            "index 9500 / 66806 , 8.501818180084229\n",
            "index 10000 / 66806 , 8.626028537750244\n",
            "index 10500 / 66806 , 8.740608215332031\n",
            "index 11000 / 66806 , 8.587806224822998\n",
            "index 11500 / 66806 , 8.531693696975708\n",
            "index 12000 / 66806 , 8.618770837783813\n",
            "index 12500 / 66806 , 8.509756088256836\n",
            "index 13000 / 66806 , 8.484171867370605\n",
            "index 13500 / 66806 , 8.618139505386353\n",
            "index 14000 / 66806 , 8.452067136764526\n",
            "index 14500 / 66806 , 8.383534908294678\n",
            "index 15000 / 66806 , 8.45716142654419\n",
            "index 15500 / 66806 , 8.702468156814575\n",
            "index 16000 / 66806 , 8.685197114944458\n",
            "index 16500 / 66806 , 8.47208857536316\n",
            "index 17000 / 66806 , 8.70633578300476\n",
            "index 17500 / 66806 , 8.51790976524353\n",
            "index 18000 / 66806 , 8.377287864685059\n",
            "index 18500 / 66806 , 8.489046573638916\n",
            "index 19000 / 66806 , 8.50000262260437\n",
            "index 19500 / 66806 , 8.49937915802002\n",
            "index 20000 / 66806 , 8.332526922225952\n",
            "index 20500 / 66806 , 8.41423511505127\n",
            "index 21000 / 66806 , 8.36576223373413\n",
            "index 21500 / 66806 , 8.300283670425415\n",
            "index 22000 / 66806 , 8.589064359664917\n",
            "index 22500 / 66806 , 8.697469472885132\n",
            "index 23000 / 66806 , 8.63826870918274\n",
            "index 23500 / 66806 , 8.373729705810547\n",
            "index 24000 / 66806 , 8.615083694458008\n",
            "index 24500 / 66806 , 8.339843988418579\n",
            "index 25000 / 66806 , 8.567509174346924\n",
            "index 25500 / 66806 , 8.514354944229126\n",
            "index 26000 / 66806 , 8.494492769241333\n",
            "index 26500 / 66806 , 8.559732675552368\n",
            "index 27000 / 66806 , 8.543418407440186\n",
            "index 27500 / 66806 , 8.528160333633423\n",
            "index 28000 / 66806 , 8.432818174362183\n",
            "index 28500 / 66806 , 8.494511127471924\n",
            "index 29000 / 66806 , 8.716031312942505\n",
            "index 29500 / 66806 , 8.559715032577515\n",
            "index 30000 / 66806 , 8.610703229904175\n",
            "index 30500 / 66806 , 8.514078617095947\n",
            "index 31000 / 66806 , 8.521588802337646\n",
            "index 31500 / 66806 , 8.4550302028656\n",
            "index 32000 / 66806 , 8.432446479797363\n",
            "index 32500 / 66806 , 8.471882104873657\n",
            "index 33000 / 66806 , 8.543529987335205\n",
            "index 33500 / 66806 , 8.407270908355713\n",
            "index 34000 / 66806 , 8.66839599609375\n",
            "index 34500 / 66806 , 8.523314237594604\n",
            "index 35000 / 66806 , 8.49411392211914\n",
            "index 35500 / 66806 , 8.390585660934448\n",
            "index 36000 / 66806 , 8.44411325454712\n",
            "index 36500 / 66806 , 8.51572299003601\n",
            "index 37000 / 66806 , 8.407636880874634\n",
            "index 37500 / 66806 , 8.455382347106934\n",
            "index 38000 / 66806 , 8.551594018936157\n",
            "index 38500 / 66806 , 8.510133266448975\n",
            "index 39000 / 66806 , 8.453656673431396\n",
            "index 39500 / 66806 , 8.533791780471802\n",
            "index 40000 / 66806 , 8.499842882156372\n",
            "index 40500 / 66806 , 8.441133260726929\n",
            "index 41000 / 66806 , 8.328244924545288\n",
            "index 41500 / 66806 , 8.550902843475342\n",
            "index 42000 / 66806 , 8.503183364868164\n",
            "index 42500 / 66806 , 8.40661907196045\n",
            "index 43000 / 66806 , 8.463157653808594\n",
            "index 43500 / 66806 , 8.640795707702637\n",
            "index 44000 / 66806 , 8.510764598846436\n",
            "index 44500 / 66806 , 8.571863651275635\n",
            "index 45000 / 66806 , 8.39491057395935\n",
            "index 45500 / 66806 , 8.690246105194092\n",
            "index 46000 / 66806 , 8.39114236831665\n",
            "index 46500 / 66806 , 8.487130880355835\n",
            "index 47000 / 66806 , 8.564107894897461\n",
            "index 47500 / 66806 , 8.546752452850342\n",
            "index 48000 / 66806 , 8.594670295715332\n",
            "index 48500 / 66806 , 8.685710668563843\n",
            "index 49000 / 66806 , 8.819370031356812\n",
            "index 49500 / 66806 , 8.44662857055664\n",
            "index 50000 / 66806 , 8.41112995147705\n",
            "index 50500 / 66806 , 8.52119779586792\n",
            "index 51000 / 66806 , 8.48511028289795\n",
            "index 51500 / 66806 , 8.495207786560059\n",
            "index 52000 / 66806 , 8.481733560562134\n",
            "index 52500 / 66806 , 8.56800889968872\n",
            "index 53000 / 66806 , 8.404993057250977\n",
            "index 53500 / 66806 , 8.547617197036743\n",
            "index 54000 / 66806 , 8.511515855789185\n",
            "index 54500 / 66806 , 8.51494312286377\n",
            "index 55000 / 66806 , 8.614826202392578\n",
            "index 55500 / 66806 , 8.38284683227539\n",
            "index 56000 / 66806 , 8.518388032913208\n",
            "index 56500 / 66806 , 8.605695009231567\n",
            "index 57000 / 66806 , 8.452981233596802\n",
            "index 57500 / 66806 , 8.268427848815918\n",
            "index 58000 / 66806 , 8.461122512817383\n",
            "index 58500 / 66806 , 8.480785608291626\n",
            "index 59000 / 66806 , 8.488675355911255\n",
            "index 59500 / 66806 , 8.429296970367432\n",
            "index 60000 / 66806 , 8.402575492858887\n",
            "index 60500 / 66806 , 8.449152708053589\n",
            "index 61000 / 66806 , 8.51258659362793\n",
            "index 61500 / 66806 , 8.535704135894775\n",
            "index 62000 / 66806 , 8.464836120605469\n",
            "index 62500 / 66806 , 8.485098123550415\n",
            "index 63000 / 66806 , 8.677703619003296\n",
            "index 63500 / 66806 , 8.680110454559326\n",
            "index 64000 / 66806 , 8.608971357345581\n",
            "index 64500 / 66806 , 8.471157789230347\n",
            "index 65000 / 66806 , 8.5311439037323\n",
            "index 65500 / 66806 , 8.734991073608398\n",
            "index 66000 / 66806 , 8.568744421005249\n",
            "index 66500 / 66806 , 8.528693914413452\n",
            "Saved matrix locally\n",
            "time taken to generate embeddings : 1140.8438801765442\n"
          ],
          "name": "stdout"
        }
      ]
    },
    {
      "cell_type": "code",
      "metadata": {
        "id": "7wweMCTCFy8b",
        "colab_type": "code",
        "colab": {}
      },
      "source": [
        "label_encoder = LabelEncoder()\n",
        "data['encoder_product'] = label_encoder.fit_transform(data['product'])"
      ],
      "execution_count": 0,
      "outputs": []
    },
    {
      "cell_type": "code",
      "metadata": {
        "id": "QhAvJNqItn-1",
        "colab_type": "code",
        "colab": {
          "base_uri": "https://localhost:8080/",
          "height": 85
        },
        "outputId": "cb716b30-5e15-431c-e060-229d88d4410b"
      },
      "source": [
        "X = embeddings_matrix\n",
        "Y = data.encoder_product\n",
        "x_train , x_test , y_train , y_test = train_test_split(X,Y,test_size = 0.1 , random_state = 7)\n",
        "print('x_train :{}'.format(x_train.shape))\n",
        "print('y_train :{}'.format(y_train.shape))\n",
        "print('x_test :{}'.format(x_test.shape))\n",
        "print('y_test :{}'.format(y_test.shape))"
      ],
      "execution_count": 71,
      "outputs": [
        {
          "output_type": "stream",
          "text": [
            "x_train :(60125, 768)\n",
            "y_train :(60125,)\n",
            "x_test :(6681, 768)\n",
            "y_test :(6681,)\n"
          ],
          "name": "stdout"
        }
      ]
    },
    {
      "cell_type": "code",
      "metadata": {
        "id": "lIZhet6rHOtn",
        "colab_type": "code",
        "colab": {}
      },
      "source": [
        "batch_size = 512"
      ],
      "execution_count": 0,
      "outputs": []
    },
    {
      "cell_type": "code",
      "metadata": {
        "id": "dexKsTYsw1CE",
        "colab_type": "code",
        "colab": {
          "base_uri": "https://localhost:8080/",
          "height": 68
        },
        "outputId": "3c92db1a-d12f-4917-e67d-34c2ea08a6f9"
      },
      "source": [
        "#Convert input data to tensors\n",
        "x_train_data_tensor = torch.tensor(x_train)\n",
        "y_train_data_tensor = torch.tensor(y_train.values)\n",
        "print(x_train_data_tensor.shape)\n",
        "\n",
        "#Convert tensors to type Dataset\n",
        "train_dataset = torch.utils.data.TensorDataset(x_train_data_tensor ,y_train_data_tensor)\n",
        "print(type(train_dataset))\n",
        "\n",
        "#Convert datsets to Dataloader for loading batches\n",
        "train_dataset = DataLoader(train_dataset, batch_size=batch_size, shuffle=True, num_workers=0)\n",
        "print(type(train_dataset))\n",
        "\n",
        "torch.save(train_dataset, 'train_dataset.dataloader')"
      ],
      "execution_count": 73,
      "outputs": [
        {
          "output_type": "stream",
          "text": [
            "torch.Size([60125, 768])\n",
            "<class 'torch.utils.data.dataset.TensorDataset'>\n",
            "<class 'torch.utils.data.dataloader.DataLoader'>\n"
          ],
          "name": "stdout"
        }
      ]
    },
    {
      "cell_type": "code",
      "metadata": {
        "id": "8jvetSZSFhON",
        "colab_type": "code",
        "colab": {
          "base_uri": "https://localhost:8080/",
          "height": 51
        },
        "outputId": "28400fac-dd58-43a9-add2-c3d61a508dfe"
      },
      "source": [
        "#Convert input data to tensors\n",
        "x_test_data_tensor = torch.tensor(x_test)\n",
        "y_test_data_tensor = torch.tensor(y_test.values)\n",
        "print(x_test_data_tensor.shape)\n",
        "\n",
        "#Convert tensors to type Dataset\n",
        "test_dataset = torch.utils.data.TensorDataset(x_test_data_tensor ,y_test_data_tensor)\n",
        "print(type(train_dataset))\n",
        "\n",
        "#Convert datsets to Dataloader for loading batches\n",
        "test_dataset = DataLoader(test_dataset, batch_size=batch_size, shuffle=True, num_workers=0)\n",
        "type(test_dataset)\n",
        "\n",
        "torch.save(test_dataset, 'test_dataset.dataloader')"
      ],
      "execution_count": 74,
      "outputs": [
        {
          "output_type": "stream",
          "text": [
            "torch.Size([6681, 768])\n",
            "<class 'torch.utils.data.dataloader.DataLoader'>\n"
          ],
          "name": "stdout"
        }
      ]
    },
    {
      "cell_type": "code",
      "metadata": {
        "id": "U8-ln9-YH1_3",
        "colab_type": "code",
        "colab": {}
      },
      "source": [
        "output_size = len(label_encoder.classes_)\n",
        "batch_size = batch_size\n",
        "drop_out_probability = 0.33"
      ],
      "execution_count": 0,
      "outputs": []
    },
    {
      "cell_type": "code",
      "metadata": {
        "id": "kiDL9JaoGvB-",
        "colab_type": "code",
        "colab": {}
      },
      "source": [
        "class ALBERT_Classification(nn.Module):\n",
        "    def __init__(self , input_size , hidden_size , output_size):\n",
        "        super(ALBERT_Classification ,self).__init__()\n",
        "        \n",
        "        self.fc_input_size = input_size\n",
        "        self.fc_hidden_size = hidden_size\n",
        "        self.fc_output_size = output_size\n",
        "        \n",
        "        \n",
        "        # Inputs to hidden layer linear transformation\n",
        "        self.fc1 = nn.Linear(in_features = input_size , out_features = hidden_size)\n",
        "        self.fc2 = nn.Linear(in_features = input_size , out_features = hidden_size)\n",
        "        self.dropout = nn.Dropout(p = 0.33)\n",
        "        \n",
        "        # Output layer, 10 units - one for each digit\n",
        "        self.out = nn.Linear(in_features = hidden_size , out_features = output_size)\n",
        "        \n",
        "        \n",
        "    def forward(self,x):\n",
        "        \n",
        "        #Pass output of BERT through Fully connected layer\n",
        "        x = self.fc1(x)\n",
        "        x = torch.tanh(x)\n",
        "\n",
        "        x = self.fc2(x)\n",
        "        x = torch.tanh(x)\n",
        "\n",
        "        x = self.dropout(x)\n",
        "        \n",
        "        #Output layer\n",
        "        x = self.out(x)\n",
        "        \n",
        "        return x\n",
        "    \n",
        "albert_classification = ALBERT_Classification(input_size = 768 \n",
        "                            , hidden_size = 768 \n",
        "                            , output_size = output_size )\n",
        "\n",
        "albert_classification = albert_classification.double()"
      ],
      "execution_count": 0,
      "outputs": []
    },
    {
      "cell_type": "code",
      "metadata": {
        "id": "xRi_H-2RIf4C",
        "colab_type": "code",
        "colab": {
          "base_uri": "https://localhost:8080/",
          "height": 952
        },
        "outputId": "6d8a1f15-0d91-4113-addd-003427213da5"
      },
      "source": [
        "epochs = 10\n",
        "loss_fn = F.cross_entropy\n",
        "\n",
        "learning_rate = 0.001\n",
        "\n",
        "optimizer = torch.optim.Adam(albert_classification.parameters(), lr = learning_rate)\n",
        "print_every = 100\n",
        "albert_classification.to(device)\n",
        "\n",
        "\n",
        "# to track the average training loss per epoch as the model trains\n",
        "avg_train_losses = []\n",
        "# to track the average validation loss per epoch as the model trains\n",
        "avg_valid_losses = [] \n",
        "patience_ctr = 0\n",
        "patience = 5\n",
        "    \n",
        "for epoch in range(0,epochs):\n",
        "    \n",
        "    # to track the training loss as the model trains\n",
        "    train_losses = []\n",
        "    # to track the validation loss as the model trains\n",
        "    valid_losses = []\n",
        "\n",
        "    batch = 0\n",
        "    #loss = 0\n",
        "    start_time = time.time()\n",
        "    albert_classification.train()\n",
        "    for i in range(0,len(train_dataset)) :\n",
        "        x, y = next(iter(train_dataset))\n",
        "        x = x.to(device)\n",
        "        y = y.to(device)\n",
        "        \n",
        "        optimizer.zero_grad()\n",
        "        y_pred = albert_classification(x)\n",
        "        \n",
        "        #y_pred = y_pred.unsqueeze(0)\n",
        "        loss = loss_fn(y_pred , y)\n",
        "\n",
        "        loss.backward()\n",
        "        optimizer.step()\n",
        "        \n",
        "        train_losses.append(loss.item())\n",
        "        \n",
        "        if (batch % print_every == 0):\n",
        "            print('epoch : {} \\t batch number : {} \\t train loss : {}'.format(epoch, batch,loss.item()))\n",
        "            \n",
        "        batch +=1\n",
        "\n",
        "        #Calculate Validation loss\n",
        "    val_acc = 0\n",
        "    albert_classification = albert_classification.eval()\n",
        "    for j in test_dataset :\n",
        "        x_v, y_v = next(iter(test_dataset))\n",
        "        x_v = x_v.to(device)\n",
        "        y_v = y_v.to(device)\n",
        "        \n",
        "        y_pred = albert_classification(x_v)\n",
        "        loss = loss_fn(y_pred , y_v)\n",
        "        \n",
        "        valid_losses.append(loss.item())\n",
        "    \n",
        "    # calculate average loss over an epoch\n",
        "    train_loss = np.average(train_losses)\n",
        "    valid_loss = np.average(valid_losses)\n",
        "    avg_train_losses.append(train_loss)\n",
        "    avg_valid_losses.append(valid_loss)\n",
        "\n",
        "    #Early stopping\n",
        "    if valid_loss > train_loss:\n",
        "        patience_ctr +=1\n",
        "        print('patience_ctr : {}'.format(patience_ctr))\n",
        "        if patience_ctr >= patience:\n",
        "            print('early stoppping since valid_loss > train_loss')\n",
        "            break\n",
        "    else :\n",
        "        patience_ctr = 0\n",
        "    \n",
        "    epoch_len = len(str(epochs))\n",
        "    print('epoch : {}\\t train_loss :{}\\t validation loss : {}\\n'.format(epoch , train_loss , valid_loss))\n",
        "    \n",
        "            \n",
        "    print('epoch : {} \\t train loss : {} \\t time required : {}'.format(epoch, loss.item(),(time.time() - start_time)))"
      ],
      "execution_count": 115,
      "outputs": [
        {
          "output_type": "stream",
          "text": [
            "epoch : 0 \t batch number : 0 \t train loss : 2.3155243830254695\n",
            "epoch : 0 \t batch number : 100 \t train loss : 1.5423446951353308\n",
            "epoch : 0\t train_loss :1.7200105785749682\t validation loss : 1.4811064714352218\n",
            "\n",
            "epoch : 0 \t train loss : 1.5243617696772496 \t time required : 3.203022003173828\n",
            "epoch : 1 \t batch number : 0 \t train loss : 1.5499494402899\n",
            "epoch : 1 \t batch number : 100 \t train loss : 1.4031112471153242\n",
            "epoch : 1\t train_loss :1.4313884544858229\t validation loss : 1.3907113729507823\n",
            "\n",
            "epoch : 1 \t train loss : 1.4313038237853366 \t time required : 3.1150460243225098\n",
            "epoch : 2 \t batch number : 0 \t train loss : 1.3462926197560612\n",
            "epoch : 2 \t batch number : 100 \t train loss : 1.311357075676757\n",
            "epoch : 2\t train_loss :1.3468813452025619\t validation loss : 1.3003875300320566\n",
            "\n",
            "epoch : 2 \t train loss : 1.3450486495347134 \t time required : 2.969135046005249\n",
            "epoch : 3 \t batch number : 0 \t train loss : 1.2676625590360229\n",
            "epoch : 3 \t batch number : 100 \t train loss : 1.1651407362729733\n",
            "epoch : 3\t train_loss :1.282625065025186\t validation loss : 1.2774363642673543\n",
            "\n",
            "epoch : 3 \t train loss : 1.2783758883230552 \t time required : 2.970799207687378\n",
            "epoch : 4 \t batch number : 0 \t train loss : 1.2963094395822587\n",
            "epoch : 4 \t batch number : 100 \t train loss : 1.1083280231185444\n",
            "patience_ctr : 1\n",
            "epoch : 4\t train_loss :1.2576040191988265\t validation loss : 1.3080842834226794\n",
            "\n",
            "epoch : 4 \t train loss : 1.2834659702594307 \t time required : 3.103343963623047\n",
            "epoch : 5 \t batch number : 0 \t train loss : 1.2207396682071188\n",
            "epoch : 5 \t batch number : 100 \t train loss : 1.166095448172051\n",
            "epoch : 5\t train_loss :1.235644587301963\t validation loss : 1.2176524452026656\n",
            "\n",
            "epoch : 5 \t train loss : 1.2547535809887387 \t time required : 2.981651782989502\n",
            "epoch : 6 \t batch number : 0 \t train loss : 1.2301520457353887\n",
            "epoch : 6 \t batch number : 100 \t train loss : 1.2743551311543833\n",
            "patience_ctr : 1\n",
            "epoch : 6\t train_loss :1.2137414730157206\t validation loss : 1.2413473528818577\n",
            "\n",
            "epoch : 6 \t train loss : 1.1715223285280887 \t time required : 2.9661121368408203\n",
            "epoch : 7 \t batch number : 0 \t train loss : 1.2314289477951283\n",
            "epoch : 7 \t batch number : 100 \t train loss : 1.2111889178403588\n",
            "patience_ctr : 2\n",
            "epoch : 7\t train_loss :1.190098177231502\t validation loss : 1.209374255798256\n",
            "\n",
            "epoch : 7 \t train loss : 1.0750539048786425 \t time required : 2.998908042907715\n",
            "epoch : 8 \t batch number : 0 \t train loss : 1.2555686223962068\n",
            "epoch : 8 \t batch number : 100 \t train loss : 1.164739603738705\n",
            "patience_ctr : 3\n",
            "epoch : 8\t train_loss :1.1810211378652646\t validation loss : 1.2477391971674494\n",
            "\n",
            "epoch : 8 \t train loss : 1.1842286545913896 \t time required : 2.9725594520568848\n",
            "epoch : 9 \t batch number : 0 \t train loss : 1.099314549228492\n",
            "epoch : 9 \t batch number : 100 \t train loss : 1.221673805030122\n",
            "patience_ctr : 4\n",
            "epoch : 9\t train_loss :1.167383870795944\t validation loss : 1.2087150672028713\n",
            "\n",
            "epoch : 9 \t train loss : 1.2045051931474766 \t time required : 2.996129274368286\n"
          ],
          "name": "stdout"
        }
      ]
    },
    {
      "cell_type": "code",
      "metadata": {
        "id": "f8iBs7g7NJC_",
        "colab_type": "code",
        "colab": {
          "base_uri": "https://localhost:8080/",
          "height": 68
        },
        "outputId": "74982381-fa4b-44ed-efbd-4974a8c74ee0"
      },
      "source": [
        "st_time = time.time()\n",
        "ctr = 0\n",
        "print_every = 5\n",
        "albert_classification = albert_classification.double()\n",
        "albert_classification = albert_classification.to(device)\n",
        "albert_classification = albert_classification.eval()\n",
        "for j in test_dataset :\n",
        "    x_v, y_v = next(iter(test_dataset))\n",
        "    x_v = x_v.to(device)\n",
        "    #y_v = y_v.to(device)\n",
        "   \n",
        "    op = albert_classification(x_v)\n",
        "    op = torch.argmax(F.softmax(op), dim = 1)\n",
        "    if ctr == 0:\n",
        "        y_pred = op\n",
        "        y_actual = y_v\n",
        "    else:\n",
        "        y_pred = torch.cat((y_pred , op))\n",
        "        y_actual = torch.cat((y_actual , y_v))\n",
        "   \n",
        "    ctr += 1\n",
        "   \n",
        "    if ctr % print_every == 0:\n",
        "        print(ctr)\n",
        "print('time taken for prediction :{} seconds'.format(time.time() - st_time ))"
      ],
      "execution_count": 116,
      "outputs": [
        {
          "output_type": "stream",
          "text": [
            "5\n",
            "10\n",
            "time taken for prediction :0.23434185981750488 seconds\n"
          ],
          "name": "stdout"
        }
      ]
    },
    {
      "cell_type": "code",
      "metadata": {
        "id": "q_cNATqfI4l_",
        "colab_type": "code",
        "colab": {
          "base_uri": "https://localhost:8080/",
          "height": 527
        },
        "outputId": "36bd0b24-dda1-4b16-9dcd-1417802fbf95"
      },
      "source": [
        "def my_classification_report(y_actual , y_predicted):\n",
        "   \n",
        "    print(classification_report(y_actual, y_pred, target_names=list(label_encoder.classes_)))\n",
        "    acc = accuracy_score(y_actual , y_predicted)\n",
        "    print('accuracy : {}'.format(acc))\n",
        "   \n",
        "    conf_mat=confusion_matrix(y_actual, y_pred)\n",
        "    print(conf_mat)\n",
        "    #plt.figure(figsize=(20,20))\n",
        "    ax = plt.subplot()\n",
        "    sns.heatmap(conf_mat, annot=True, ax = ax); #annot=True to annotate cells\n",
        "\n",
        "    # labels, title and ticks\n",
        "    ax.set_xlabel('Predicted labels')\n",
        "    ax.set_ylabel('True labels')\n",
        "    ax.set_title('Confusion Matrix')\n",
        "    ax.xaxis.set_ticklabels(list(label_encoder.classes_))\n",
        "    ax.yaxis.set_ticklabels(list(label_encoder.classes_))\n",
        "    plt.xticks(rotation=90)\n",
        "    plt.yticks(rotation=0)\n",
        "    #plt.savefig('conf_matrix.png')\n",
        "    plt.show()\n",
        "\n",
        "#y_actual = y_test.cpu().detach().numpy()\n",
        "#y_pred = y_pred.cpu().detach().numpy()\n",
        "my_classification_report(y_actual = y_actual , y_predicted = y_pred)"
      ],
      "execution_count": 118,
      "outputs": [
        {
          "output_type": "stream",
          "text": [
            "                         precision    recall  f1-score   support\n",
            "\n",
            "Bank account or service       0.52      0.22      0.31       565\n",
            "          Consumer Loan       0.66      0.14      0.23       430\n",
            "            Credit card       0.45      0.52      0.48       887\n",
            "       Credit reporting       0.65      0.61      0.63      1247\n",
            "        Debt collection       0.63      0.69      0.66      1933\n",
            "        Money transfers       0.00      0.00      0.00        77\n",
            "               Mortgage       0.59      0.82      0.69      1628\n",
            "Other financial service       0.00      0.00      0.00         9\n",
            "            Payday loan       0.15      0.06      0.08        68\n",
            "           Prepaid card       0.85      0.25      0.38        93\n",
            "           Student loan       0.49      0.43      0.46       231\n",
            "\n",
            "               accuracy                           0.59      7168\n",
            "              macro avg       0.45      0.34      0.36      7168\n",
            "           weighted avg       0.58      0.59      0.56      7168\n",
            "\n",
            "accuracy : 0.5876116071428571\n",
            "[[ 122    3  176   38  112    0   97    0    0    2   15]\n",
            " [   4   59   40   26   92    0  197    0    4    0    8]\n",
            " [  59    8  463  105  130    0  104    0    3    0   15]\n",
            " [  11   12   55  765  247    0  152    0    1    0    4]\n",
            " [   3    7   94  192 1334    0  253    0    9    1   40]\n",
            " [  18    0   25    5   11    0   12    0    5    1    0]\n",
            " [   5    1  107   37  119    0 1342    0    0    0   17]\n",
            " [   1    0    0    0    3    0    5    0    0    0    0]\n",
            " [   0    0   18    4   16    0   22    0    4    0    4]\n",
            " [   9    0   37    7    8    0    8    0    0   23    1]\n",
            " [   1    0   15    3   34    0   77    0    1    0  100]]\n"
          ],
          "name": "stdout"
        }
      ]
    },
    {
      "cell_type": "code",
      "metadata": {
        "id": "fQlKTrspJPcC",
        "colab_type": "code",
        "colab": {}
      },
      "source": [
        "plt.show()"
      ],
      "execution_count": 0,
      "outputs": []
    },
    {
      "cell_type": "code",
      "metadata": {
        "id": "AcfX_M_nJdAP",
        "colab_type": "code",
        "colab": {}
      },
      "source": [
        ""
      ],
      "execution_count": 0,
      "outputs": []
    }
  ]
}